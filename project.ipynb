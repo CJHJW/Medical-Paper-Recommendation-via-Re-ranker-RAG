{
 "cells": [
  {
   "cell_type": "markdown",
   "id": "f878af7d",
   "metadata": {},
   "source": [
    "## RAG"
   ]
  },
  {
   "cell_type": "markdown",
   "id": "bb6a3939",
   "metadata": {},
   "source": [
    "### 1. Load the data from HuggingFace"
   ]
  },
  {
   "cell_type": "code",
   "execution_count": 21,
   "id": "20f3d6bd",
   "metadata": {},
   "outputs": [],
   "source": [
    "from datasets import load_dataset\n",
    "import pandas as pd\n",
    "\n",
    "# Load the dataset from \n",
    "ds = load_dataset(\"MedRAG/pubmed\")\n",
    "\n",
    "# Get the train data， first 5k samples\n",
    "train_data = ds['train']\n",
    "\n",
    "df = pd.DataFrame(train_data[:5000])\n",
    "\n",
    "# Save the whole train data to a csv file\n",
    "df.to_csv('train.csv', index=False)"
   ]
  },
  {
   "cell_type": "markdown",
   "id": "571325e2",
   "metadata": {},
   "source": [
    "### 2. Data cleaning"
   ]
  },
  {
   "cell_type": "code",
   "execution_count": 22,
   "id": "32bc6fd8",
   "metadata": {},
   "outputs": [],
   "source": [
    "import spacy\n",
    "import pandas as pd\n",
    "from collections import Counter\n",
    "import matplotlib.pyplot as plt\n",
    "nlp = spacy.load('en_core_web_sm')"
   ]
  },
  {
   "cell_type": "code",
   "execution_count": 23,
   "id": "66ed156e",
   "metadata": {},
   "outputs": [],
   "source": [
    "data_raw = pd.read_csv('train.csv')"
   ]
  },
  {
   "cell_type": "code",
   "execution_count": 24,
   "id": "b2d84002",
   "metadata": {},
   "outputs": [
    {
     "data": {
      "text/html": [
       "<div>\n",
       "<style scoped>\n",
       "    .dataframe tbody tr th:only-of-type {\n",
       "        vertical-align: middle;\n",
       "    }\n",
       "\n",
       "    .dataframe tbody tr th {\n",
       "        vertical-align: top;\n",
       "    }\n",
       "\n",
       "    .dataframe thead th {\n",
       "        text-align: right;\n",
       "    }\n",
       "</style>\n",
       "<table border=\"1\" class=\"dataframe\">\n",
       "  <thead>\n",
       "    <tr style=\"text-align: right;\">\n",
       "      <th></th>\n",
       "      <th>id</th>\n",
       "      <th>title</th>\n",
       "      <th>content</th>\n",
       "      <th>contents</th>\n",
       "      <th>PMID</th>\n",
       "    </tr>\n",
       "  </thead>\n",
       "  <tbody>\n",
       "    <tr>\n",
       "      <th>0</th>\n",
       "      <td>pubmed23n0001_0</td>\n",
       "      <td>[Biochemical studies on camomile components/II...</td>\n",
       "      <td>(--)-alpha-Bisabolol has a primary antipeptic ...</td>\n",
       "      <td>[Biochemical studies on camomile components/II...</td>\n",
       "      <td>21</td>\n",
       "    </tr>\n",
       "    <tr>\n",
       "      <th>1</th>\n",
       "      <td>pubmed23n0001_1</td>\n",
       "      <td>[Demonstration of tumor inhibiting properties ...</td>\n",
       "      <td>A report is given on the recent discovery of o...</td>\n",
       "      <td>[Demonstration of tumor inhibiting properties ...</td>\n",
       "      <td>22</td>\n",
       "    </tr>\n",
       "    <tr>\n",
       "      <th>2</th>\n",
       "      <td>pubmed23n0001_2</td>\n",
       "      <td>Effect of etafenone on total and regional myoc...</td>\n",
       "      <td>The distribution of blood flow to the subendoc...</td>\n",
       "      <td>Effect of etafenone on total and regional myoc...</td>\n",
       "      <td>23</td>\n",
       "    </tr>\n",
       "    <tr>\n",
       "      <th>3</th>\n",
       "      <td>pubmed23n0001_3</td>\n",
       "      <td>Influence of a new virostatic compound on the ...</td>\n",
       "      <td>The virostatic compound N,N-diethyl-4-[2-(2-ox...</td>\n",
       "      <td>Influence of a new virostatic compound on the ...</td>\n",
       "      <td>24</td>\n",
       "    </tr>\n",
       "    <tr>\n",
       "      <th>4</th>\n",
       "      <td>pubmed23n0001_4</td>\n",
       "      <td>Pharmacological properties of new neuroleptic ...</td>\n",
       "      <td>RMI 61 140, RMI 61 144 and RMI 61 280 are newl...</td>\n",
       "      <td>Pharmacological properties of new neuroleptic ...</td>\n",
       "      <td>25</td>\n",
       "    </tr>\n",
       "  </tbody>\n",
       "</table>\n",
       "</div>"
      ],
      "text/plain": [
       "                id                                              title  \\\n",
       "0  pubmed23n0001_0  [Biochemical studies on camomile components/II...   \n",
       "1  pubmed23n0001_1  [Demonstration of tumor inhibiting properties ...   \n",
       "2  pubmed23n0001_2  Effect of etafenone on total and regional myoc...   \n",
       "3  pubmed23n0001_3  Influence of a new virostatic compound on the ...   \n",
       "4  pubmed23n0001_4  Pharmacological properties of new neuroleptic ...   \n",
       "\n",
       "                                             content  \\\n",
       "0  (--)-alpha-Bisabolol has a primary antipeptic ...   \n",
       "1  A report is given on the recent discovery of o...   \n",
       "2  The distribution of blood flow to the subendoc...   \n",
       "3  The virostatic compound N,N-diethyl-4-[2-(2-ox...   \n",
       "4  RMI 61 140, RMI 61 144 and RMI 61 280 are newl...   \n",
       "\n",
       "                                            contents  PMID  \n",
       "0  [Biochemical studies on camomile components/II...    21  \n",
       "1  [Demonstration of tumor inhibiting properties ...    22  \n",
       "2  Effect of etafenone on total and regional myoc...    23  \n",
       "3  Influence of a new virostatic compound on the ...    24  \n",
       "4  Pharmacological properties of new neuroleptic ...    25  "
      ]
     },
     "execution_count": 24,
     "metadata": {},
     "output_type": "execute_result"
    }
   ],
   "source": [
    "data_raw.head()"
   ]
  },
  {
   "cell_type": "markdown",
   "id": "1f2ac56c",
   "metadata": {},
   "source": [
    "\"The 'contents' field combines the title and main text, but includes many stop words and irrelevant symbols. We need to remove them to improve retrieval accuracy.\""
   ]
  },
  {
   "cell_type": "code",
   "execution_count": 25,
   "id": "313cd0b2",
   "metadata": {},
   "outputs": [
    {
     "data": {
      "text/plain": [
       "\"[Biochemical studies on camomile components/III. In vitro studies about the antipeptic activity of (--)-alpha-bisabolol (author's transl)]. (--)-alpha-Bisabolol has a primary antipeptic action depending on dosage, which is not caused by an alteration of the pH-value. The proteolytic activity of pepsin is reduced by 50 percent through addition of bisabolol in the ratio of 1/0.5. The antipeptic action of bisabolol only occurs in case of direct contact. In case of a previous contact with the substrate, the inhibiting effect is lost.\""
      ]
     },
     "execution_count": 25,
     "metadata": {},
     "output_type": "execute_result"
    }
   ],
   "source": [
    "data_raw.iloc[0]['contents']"
   ]
  },
  {
   "cell_type": "markdown",
   "id": "3d923a78",
   "metadata": {},
   "source": [
    "The contents length ranges from 22 to 511, with the mean of 161.  "
   ]
  },
  {
   "cell_type": "code",
   "execution_count": 44,
   "id": "c5f64bdb",
   "metadata": {},
   "outputs": [
    {
     "name": "stdout",
     "output_type": "stream",
     "text": [
      "Min Length: 22\n",
      "Max Length: 511\n",
      "Mean Length:161.8228\n"
     ]
    }
   ],
   "source": [
    "print(\"Min Length: \" + data_raw['contents'].apply(lambda x: len(x.split(' '))).min().astype(str))\n",
    "print(\"Max Length: \" + data_raw['contents'].apply(lambda x: len(x.split(' '))).max().astype(str))\n",
    "print(\"Mean Length:\" + data_raw['contents'].apply(lambda x: len(x.split(' '))).mean().astype(str))"
   ]
  },
  {
   "cell_type": "code",
   "execution_count": 26,
   "id": "6b42ee04",
   "metadata": {},
   "outputs": [
    {
     "data": {
      "text/plain": [
       "<Axes: ylabel='Frequency'>"
      ]
     },
     "execution_count": 26,
     "metadata": {},
     "output_type": "execute_result"
    },
    {
     "data": {
      "image/png": "[encoded data removed]",
      "text/plain": [
       "<Figure size 640x480 with 1 Axes>"
      ]
     },
     "metadata": {},
     "output_type": "display_data"
    }
   ],
   "source": [
    "data_raw['contents'].apply(lambda x: len(x.split(' '))).plot(kind='hist', bins=50)"
   ]
  },
  {
   "cell_type": "code",
   "execution_count": 27,
   "id": "4331464b",
   "metadata": {},
   "outputs": [],
   "source": [
    "doc = nlp(data_raw.iloc[0]['contents'])"
   ]
  },
  {
   "cell_type": "markdown",
   "id": "15826b07",
   "metadata": {},
   "source": [
    "Only the Alphanumeric words are important, whitespace, punctuation and stop words should be excluded."
   ]
  },
  {
   "cell_type": "code",
   "execution_count": 28,
   "id": "b477264a",
   "metadata": {},
   "outputs": [
    {
     "data": {
      "text/html": [
       "<div>\n",
       "<style scoped>\n",
       "    .dataframe tbody tr th:only-of-type {\n",
       "        vertical-align: middle;\n",
       "    }\n",
       "\n",
       "    .dataframe tbody tr th {\n",
       "        vertical-align: top;\n",
       "    }\n",
       "\n",
       "    .dataframe thead th {\n",
       "        text-align: right;\n",
       "    }\n",
       "</style>\n",
       "<table border=\"1\" class=\"dataframe\">\n",
       "  <thead>\n",
       "    <tr style=\"text-align: right;\">\n",
       "      <th></th>\n",
       "      <th>Text</th>\n",
       "      <th>Index</th>\n",
       "      <th>Whitespace</th>\n",
       "      <th>Is Alphanumeric?</th>\n",
       "      <th>Is Punctuation?</th>\n",
       "      <th>Is Stop Word?</th>\n",
       "    </tr>\n",
       "  </thead>\n",
       "  <tbody>\n",
       "    <tr>\n",
       "      <th>0</th>\n",
       "      <td>[</td>\n",
       "      <td>0</td>\n",
       "      <td>False</td>\n",
       "      <td>False</td>\n",
       "      <td>True</td>\n",
       "      <td>False</td>\n",
       "    </tr>\n",
       "    <tr>\n",
       "      <th>1</th>\n",
       "      <td>Biochemical</td>\n",
       "      <td>1</td>\n",
       "      <td>False</td>\n",
       "      <td>True</td>\n",
       "      <td>False</td>\n",
       "      <td>False</td>\n",
       "    </tr>\n",
       "    <tr>\n",
       "      <th>2</th>\n",
       "      <td>studies</td>\n",
       "      <td>13</td>\n",
       "      <td>False</td>\n",
       "      <td>True</td>\n",
       "      <td>False</td>\n",
       "      <td>False</td>\n",
       "    </tr>\n",
       "    <tr>\n",
       "      <th>3</th>\n",
       "      <td>on</td>\n",
       "      <td>21</td>\n",
       "      <td>False</td>\n",
       "      <td>True</td>\n",
       "      <td>False</td>\n",
       "      <td>True</td>\n",
       "    </tr>\n",
       "    <tr>\n",
       "      <th>4</th>\n",
       "      <td>camomile</td>\n",
       "      <td>24</td>\n",
       "      <td>False</td>\n",
       "      <td>True</td>\n",
       "      <td>False</td>\n",
       "      <td>False</td>\n",
       "    </tr>\n",
       "    <tr>\n",
       "      <th>...</th>\n",
       "      <td>...</td>\n",
       "      <td>...</td>\n",
       "      <td>...</td>\n",
       "      <td>...</td>\n",
       "      <td>...</td>\n",
       "      <td>...</td>\n",
       "    </tr>\n",
       "    <tr>\n",
       "      <th>98</th>\n",
       "      <td>inhibiting</td>\n",
       "      <td>509</td>\n",
       "      <td>False</td>\n",
       "      <td>True</td>\n",
       "      <td>False</td>\n",
       "      <td>False</td>\n",
       "    </tr>\n",
       "    <tr>\n",
       "      <th>99</th>\n",
       "      <td>effect</td>\n",
       "      <td>520</td>\n",
       "      <td>False</td>\n",
       "      <td>True</td>\n",
       "      <td>False</td>\n",
       "      <td>False</td>\n",
       "    </tr>\n",
       "    <tr>\n",
       "      <th>100</th>\n",
       "      <td>is</td>\n",
       "      <td>527</td>\n",
       "      <td>False</td>\n",
       "      <td>True</td>\n",
       "      <td>False</td>\n",
       "      <td>True</td>\n",
       "    </tr>\n",
       "    <tr>\n",
       "      <th>101</th>\n",
       "      <td>lost</td>\n",
       "      <td>530</td>\n",
       "      <td>False</td>\n",
       "      <td>True</td>\n",
       "      <td>False</td>\n",
       "      <td>False</td>\n",
       "    </tr>\n",
       "    <tr>\n",
       "      <th>102</th>\n",
       "      <td>.</td>\n",
       "      <td>534</td>\n",
       "      <td>False</td>\n",
       "      <td>False</td>\n",
       "      <td>True</td>\n",
       "      <td>False</td>\n",
       "    </tr>\n",
       "  </tbody>\n",
       "</table>\n",
       "<p>103 rows × 6 columns</p>\n",
       "</div>"
      ],
      "text/plain": [
       "            Text  Index  Whitespace  Is Alphanumeric?  Is Punctuation?  \\\n",
       "0              [      0       False             False             True   \n",
       "1    Biochemical      1       False              True            False   \n",
       "2        studies     13       False              True            False   \n",
       "3             on     21       False              True            False   \n",
       "4       camomile     24       False              True            False   \n",
       "..           ...    ...         ...               ...              ...   \n",
       "98    inhibiting    509       False              True            False   \n",
       "99        effect    520       False              True            False   \n",
       "100           is    527       False              True            False   \n",
       "101         lost    530       False              True            False   \n",
       "102            .    534       False             False             True   \n",
       "\n",
       "     Is Stop Word?  \n",
       "0            False  \n",
       "1            False  \n",
       "2            False  \n",
       "3             True  \n",
       "4            False  \n",
       "..             ...  \n",
       "98           False  \n",
       "99           False  \n",
       "100           True  \n",
       "101          False  \n",
       "102          False  \n",
       "\n",
       "[103 rows x 6 columns]"
      ]
     },
     "execution_count": 28,
     "metadata": {},
     "output_type": "execute_result"
    }
   ],
   "source": [
    "def token_to_df(doc=doc):\n",
    "    token_info = []\n",
    "    for token in doc:\n",
    "        token_info.append({\n",
    "            \"Text\": token.text,\n",
    "            \"Index\": token.idx,\n",
    "            \"Whitespace\": token.is_space,\n",
    "            \"Is Alphanumeric?\": token.is_alpha,\n",
    "            \"Is Punctuation?\": token.is_punct,\n",
    "            \"Is Stop Word?\": token.is_stop\n",
    "        })\n",
    "    return pd.DataFrame(token_info)\n",
    "\n",
    "token_to_df(doc)"
   ]
  },
  {
   "cell_type": "markdown",
   "id": "4d6001c6",
   "metadata": {},
   "source": [
    "Lemmatization is necessary to reduce the length of the content while preserving relevant information."
   ]
  },
  {
   "cell_type": "code",
   "execution_count": 29,
   "id": "00be61ee",
   "metadata": {},
   "outputs": [
    {
     "name": "stdout",
     "output_type": "stream",
     "text": [
      "         Biochemical : biochemical\n",
      "             studies : study\n",
      "          components : component\n",
      "                  In : in\n",
      "             studies : study\n",
      "                 has : have\n",
      "           depending : depend\n",
      "                  is : be\n",
      "              caused : cause\n",
      "                  pH : ph\n",
      "                 The : the\n",
      "                  is : be\n",
      "             reduced : reduce\n",
      "                 The : the\n",
      "              occurs : occur\n",
      "                  In : in\n",
      "          inhibiting : inhibit\n",
      "                  is : be\n",
      "                lost : lose\n"
     ]
    }
   ],
   "source": [
    "for token in doc:\n",
    "    if str(token) != str(token.lemma_):\n",
    "        print(f\"{str(token):>20} : {str(token.lemma_)}\")"
   ]
  },
  {
   "cell_type": "code",
   "execution_count": 30,
   "id": "30d75304",
   "metadata": {},
   "outputs": [],
   "source": [
    "def clean_text(text):\n",
    "    complete_doc = nlp(text)\n",
    "    words = [token.text for token in complete_doc \n",
    "             if token.is_alpha and not token.is_stop and not token.is_punct]\n",
    "    return ' '.join(words)\n",
    "\n",
    "def lemmalize_text(text):\n",
    "    complete_doc = nlp(text)\n",
    "    words = [token.lemma_ for token in complete_doc]\n",
    "    return ' '.join(words)"
   ]
  },
  {
   "cell_type": "code",
   "execution_count": 31,
   "id": "3ceacb4a",
   "metadata": {},
   "outputs": [],
   "source": [
    "text = data_raw.iloc[0]['contents']\n",
    "text = clean_text(text)\n",
    "text = lemmalize_text(text)\n",
    "clean_doc = nlp(text)"
   ]
  },
  {
   "cell_type": "markdown",
   "id": "e06fcfec",
   "metadata": {},
   "source": [
    "After cleaning, the first contents length is reduced from 103 to 44."
   ]
  },
  {
   "cell_type": "code",
   "execution_count": 32,
   "id": "97a8eae5",
   "metadata": {},
   "outputs": [
    {
     "data": {
      "text/plain": [
       "44"
      ]
     },
     "execution_count": 32,
     "metadata": {},
     "output_type": "execute_result"
    }
   ],
   "source": [
    "token_to_df(clean_doc).shape[0]"
   ]
  },
  {
   "cell_type": "markdown",
   "id": "6c4e0607",
   "metadata": {},
   "source": [
    "Tokenization"
   ]
  },
  {
   "cell_type": "code",
   "execution_count": 33,
   "id": "90f7e6e3",
   "metadata": {},
   "outputs": [],
   "source": [
    "def tokenized_text(text):\n",
    "    complete_doc = nlp(text)\n",
    "    words = [token.text.lower() for token in complete_doc]\n",
    "    return words"
   ]
  },
  {
   "cell_type": "markdown",
   "id": "9daf4d02",
   "metadata": {},
   "source": [
    "Overall Cleaning Process(Takes 2.5 minutes to run)"
   ]
  },
  {
   "cell_type": "code",
   "execution_count": 36,
   "id": "40401dad",
   "metadata": {},
   "outputs": [],
   "source": [
    "def full_preprocessing(text):\n",
    "    text = clean_text(text)\n",
    "    text = lemmalize_text(text)\n",
    "    text = tokenized_text(text)\n",
    "    return ' '.join(text)\n",
    "\n",
    "data_clean = data_raw.copy()\n",
    "data_clean['cleaned'] = data_raw['contents'].transform(full_preprocessing)"
   ]
  },
  {
   "cell_type": "markdown",
   "id": "b0a530ac",
   "metadata": {},
   "source": [
    "After cleaning, the contents length ranges from 14 to 267, with the mean of 90. "
   ]
  },
  {
   "cell_type": "code",
   "execution_count": 45,
   "id": "c175a0a9",
   "metadata": {},
   "outputs": [
    {
     "name": "stdout",
     "output_type": "stream",
     "text": [
      "Min Length: 14\n",
      "Max Length: 267\n",
      "Mean Length:90.8558\n"
     ]
    }
   ],
   "source": [
    "print(\"Min Length: \" + data_clean['cleaned'].apply(lambda x: len(x.split(' '))).min().astype(str))\n",
    "print(\"Max Length: \" + data_clean['cleaned'].apply(lambda x: len(x.split(' '))).max().astype(str))\n",
    "print(\"Mean Length:\" + data_clean['cleaned'].apply(lambda x: len(x.split(' '))).mean().astype(str))"
   ]
  },
  {
   "cell_type": "code",
   "execution_count": 46,
   "id": "e538c8e4",
   "metadata": {},
   "outputs": [
    {
     "data": {
      "text/plain": [
       "<Axes: ylabel='Frequency'>"
      ]
     },
     "execution_count": 46,
     "metadata": {},
     "output_type": "execute_result"
    },
    {
     "data": {
      "image/png": "[encoded data removed]",
      "text/plain": [
       "<Figure size 640x480 with 1 Axes>"
      ]
     },
     "metadata": {},
     "output_type": "display_data"
    }
   ],
   "source": [
    "data_clean['cleaned'].apply(lambda x: len(x.split(' '))).plot(kind='hist', bins=50)"
   ]
  },
  {
   "cell_type": "code",
   "execution_count": 47,
   "id": "71667dba",
   "metadata": {},
   "outputs": [],
   "source": [
    "data_clean.to_csv('train_clean.csv', index=False)"
   ]
  },
  {
   "cell_type": "markdown",
   "id": "e7e832ad",
   "metadata": {},
   "source": [
    "### 3. Bi-encoder Implementation"
   ]
  },
  {
   "cell_type": "code",
   "execution_count": null,
   "id": "14c950f0",
   "metadata": {},
   "outputs": [],
   "source": [
    "from sentence_transformers import SentenceTransformer\n",
    "import pandas as pd\n",
    "import torch\n",
    "import warnings\n",
    "warnings.filterwarnings(\"ignore\")\n",
    "\n",
    "data = pd.read_csv('train_clean.csv')\n",
    "data_str = data['cleaned'].tolist()\n",
    "\n",
    "# Load the SentenceTransformer model\n",
    "model = SentenceTransformer(\"all-MiniLM-L6-v2\", device='cuda' if torch.cuda.is_available() else 'cpu')\n",
    "\n",
    "# Encode the dataset\n",
    "embeddings = model.encode(data_str)\n",
    "\n",
    "# Preprocess the query\n",
    "query_cleaned = clean_text(query)\n",
    "query_lemmatized = lemmalize_text(query_cleaned)\n",
    "query_tokenized = tokenized_text(query_lemmatized)\n",
    "query_new = ' '.join(query_tokenized)\n",
    "\n",
    "# Encode the query\n",
    "query_embedding = model.encode([query_new])\n",
    "\n",
    "# Compute similarities\n",
    "similarities = model.similarity(query_embedding, embeddings)\n",
    "\n",
    "# Get the top `n` most similar papers\n",
    "similarities_tensor = torch.tensor(similarities)\n",
    "top_n_values, top_n_indices = torch.topk(similarities_tensor, n)\n",
    "top_n_indices = top_n_indices.tolist()[0]"
   ]
  }
 ],
 "metadata": {
  "kernelspec": {
   "display_name": "rag_env",
   "language": "python",
   "name": "python3"
  },
  "language_info": {
   "codemirror_mode": {
    "name": "ipython",
    "version": 3
   },
   "file_extension": ".py",
   "mimetype": "text/x-python",
   "name": "python",
   "nbconvert_exporter": "python",
   "pygments_lexer": "ipython3",
   "version": "3.12.9"
  }
 },
 "nbformat": 4,
 "nbformat_minor": 5
}
