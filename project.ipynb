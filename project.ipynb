{
 "cells": [
  {
   "cell_type": "markdown",
   "id": "f878af7d",
   "metadata": {},
   "source": [
    "## Medical Paper Reconmmendation System via Reranker RAG\n",
    "<img src=\"asset\\Re-ranker RAG.png\" alt=\"My Image\" width=\"800\" height=\"400\">\n"
   ]
  },
  {
   "cell_type": "markdown",
   "id": "49d040fe",
   "metadata": {},
   "source": [
    "### 0. Install required package\n",
    "\n",
    "- `pip install -r requirements.txt`\n",
    "\n",
    "- Install ollama from https://ollama.com/\n",
    "\n",
    "- Install 2 models: `ollama run llama3.2`, `ollama run deepseek-r1:8b`\n",
    "\n",
    "- Create a new cutomed model: `ollama create medical-paper -f Medical_Modelfile.txt`\n",
    "\n",
    "- Download pre-trained language data: `python -m spacy download en_core_web_sm`"
   ]
  },
  {
   "cell_type": "markdown",
   "id": "bb6a3939",
   "metadata": {},
   "source": [
    "### 1. Load the data from HuggingFace"
   ]
  },
  {
   "cell_type": "code",
   "execution_count": 1,
   "id": "20f3d6bd",
   "metadata": {},
   "outputs": [
    {
     "name": "stderr",
     "output_type": "stream",
     "text": [
      "d:\\Code\\RAG\\rag_env\\Lib\\site-packages\\tqdm\\auto.py:21: TqdmWarning: IProgress not found. Please update jupyter and ipywidgets. See https://ipywidgets.readthedocs.io/en/stable/user_install.html\n",
      "  from .autonotebook import tqdm as notebook_tqdm\n"
     ]
    }
   ],
   "source": [
    "from datasets import load_dataset\n",
    "import pandas as pd\n",
    "\n",
    "ds = load_dataset(\"MedRAG/pubmed\")\n",
    "\n",
    "train_data = ds['train']\n",
    "\n",
    "df = pd.DataFrame(train_data[:10000])\n",
    "\n",
    "df.to_csv('train.csv', index=False)"
   ]
  },
  {
   "cell_type": "markdown",
   "id": "571325e2",
   "metadata": {},
   "source": [
    "### 2. Data cleaning using spaCy"
   ]
  },
  {
   "cell_type": "code",
   "execution_count": 2,
   "id": "32bc6fd8",
   "metadata": {},
   "outputs": [],
   "source": [
    "import spacy\n",
    "import pandas as pd\n",
    "from collections import Counter\n",
    "import matplotlib.pyplot as plt\n",
    "nlp = spacy.load('en_core_web_sm')"
   ]
  },
  {
   "cell_type": "code",
   "execution_count": 3,
   "id": "66ed156e",
   "metadata": {},
   "outputs": [],
   "source": [
    "data_raw = pd.read_csv('train.csv')"
   ]
  },
  {
   "cell_type": "code",
   "execution_count": 4,
   "id": "b2d84002",
   "metadata": {},
   "outputs": [
    {
     "data": {
      "text/html": [
       "<div>\n",
       "<style scoped>\n",
       "    .dataframe tbody tr th:only-of-type {\n",
       "        vertical-align: middle;\n",
       "    }\n",
       "\n",
       "    .dataframe tbody tr th {\n",
       "        vertical-align: top;\n",
       "    }\n",
       "\n",
       "    .dataframe thead th {\n",
       "        text-align: right;\n",
       "    }\n",
       "</style>\n",
       "<table border=\"1\" class=\"dataframe\">\n",
       "  <thead>\n",
       "    <tr style=\"text-align: right;\">\n",
       "      <th></th>\n",
       "      <th>id</th>\n",
       "      <th>title</th>\n",
       "      <th>content</th>\n",
       "      <th>contents</th>\n",
       "      <th>PMID</th>\n",
       "    </tr>\n",
       "  </thead>\n",
       "  <tbody>\n",
       "    <tr>\n",
       "      <th>0</th>\n",
       "      <td>pubmed23n0001_0</td>\n",
       "      <td>[Biochemical studies on camomile components/II...</td>\n",
       "      <td>(--)-alpha-Bisabolol has a primary antipeptic ...</td>\n",
       "      <td>[Biochemical studies on camomile components/II...</td>\n",
       "      <td>21</td>\n",
       "    </tr>\n",
       "    <tr>\n",
       "      <th>1</th>\n",
       "      <td>pubmed23n0001_1</td>\n",
       "      <td>[Demonstration of tumor inhibiting properties ...</td>\n",
       "      <td>A report is given on the recent discovery of o...</td>\n",
       "      <td>[Demonstration of tumor inhibiting properties ...</td>\n",
       "      <td>22</td>\n",
       "    </tr>\n",
       "    <tr>\n",
       "      <th>2</th>\n",
       "      <td>pubmed23n0001_2</td>\n",
       "      <td>Effect of etafenone on total and regional myoc...</td>\n",
       "      <td>The distribution of blood flow to the subendoc...</td>\n",
       "      <td>Effect of etafenone on total and regional myoc...</td>\n",
       "      <td>23</td>\n",
       "    </tr>\n",
       "    <tr>\n",
       "      <th>3</th>\n",
       "      <td>pubmed23n0001_3</td>\n",
       "      <td>Influence of a new virostatic compound on the ...</td>\n",
       "      <td>The virostatic compound N,N-diethyl-4-[2-(2-ox...</td>\n",
       "      <td>Influence of a new virostatic compound on the ...</td>\n",
       "      <td>24</td>\n",
       "    </tr>\n",
       "    <tr>\n",
       "      <th>4</th>\n",
       "      <td>pubmed23n0001_4</td>\n",
       "      <td>Pharmacological properties of new neuroleptic ...</td>\n",
       "      <td>RMI 61 140, RMI 61 144 and RMI 61 280 are newl...</td>\n",
       "      <td>Pharmacological properties of new neuroleptic ...</td>\n",
       "      <td>25</td>\n",
       "    </tr>\n",
       "  </tbody>\n",
       "</table>\n",
       "</div>"
      ],
      "text/plain": [
       "                id                                              title  \\\n",
       "0  pubmed23n0001_0  [Biochemical studies on camomile components/II...   \n",
       "1  pubmed23n0001_1  [Demonstration of tumor inhibiting properties ...   \n",
       "2  pubmed23n0001_2  Effect of etafenone on total and regional myoc...   \n",
       "3  pubmed23n0001_3  Influence of a new virostatic compound on the ...   \n",
       "4  pubmed23n0001_4  Pharmacological properties of new neuroleptic ...   \n",
       "\n",
       "                                             content  \\\n",
       "0  (--)-alpha-Bisabolol has a primary antipeptic ...   \n",
       "1  A report is given on the recent discovery of o...   \n",
       "2  The distribution of blood flow to the subendoc...   \n",
       "3  The virostatic compound N,N-diethyl-4-[2-(2-ox...   \n",
       "4  RMI 61 140, RMI 61 144 and RMI 61 280 are newl...   \n",
       "\n",
       "                                            contents  PMID  \n",
       "0  [Biochemical studies on camomile components/II...    21  \n",
       "1  [Demonstration of tumor inhibiting properties ...    22  \n",
       "2  Effect of etafenone on total and regional myoc...    23  \n",
       "3  Influence of a new virostatic compound on the ...    24  \n",
       "4  Pharmacological properties of new neuroleptic ...    25  "
      ]
     },
     "execution_count": 4,
     "metadata": {},
     "output_type": "execute_result"
    }
   ],
   "source": [
    "data_raw.head()"
   ]
  },
  {
   "cell_type": "markdown",
   "id": "1f2ac56c",
   "metadata": {},
   "source": [
    "\"The 'contents' field combines the title and main text, but includes many stop words and irrelevant symbols. We need to remove them to improve retrieval accuracy.\""
   ]
  },
  {
   "cell_type": "code",
   "execution_count": 5,
   "id": "313cd0b2",
   "metadata": {},
   "outputs": [
    {
     "data": {
      "text/plain": [
       "\"[Biochemical studies on camomile components/III. In vitro studies about the antipeptic activity of (--)-alpha-bisabolol (author's transl)]. (--)-alpha-Bisabolol has a primary antipeptic action depending on dosage, which is not caused by an alteration of the pH-value. The proteolytic activity of pepsin is reduced by 50 percent through addition of bisabolol in the ratio of 1/0.5. The antipeptic action of bisabolol only occurs in case of direct contact. In case of a previous contact with the substrate, the inhibiting effect is lost.\""
      ]
     },
     "execution_count": 5,
     "metadata": {},
     "output_type": "execute_result"
    }
   ],
   "source": [
    "data_raw.iloc[0]['contents']"
   ]
  },
  {
   "cell_type": "markdown",
   "id": "3d923a78",
   "metadata": {},
   "source": [
    "The contents length ranges from 22 to 674, with the mean of 161.  "
   ]
  },
  {
   "cell_type": "code",
   "execution_count": 6,
   "id": "c5f64bdb",
   "metadata": {},
   "outputs": [
    {
     "name": "stdout",
     "output_type": "stream",
     "text": [
      "Min Length: 22\n",
      "Max Length: 674\n",
      "Mean Length:161.5436\n"
     ]
    }
   ],
   "source": [
    "print(\"Min Length: \" + data_raw['contents'].apply(lambda x: len(x.split(' '))).min().astype(str))\n",
    "print(\"Max Length: \" + data_raw['contents'].apply(lambda x: len(x.split(' '))).max().astype(str))\n",
    "print(\"Mean Length:\" + data_raw['contents'].apply(lambda x: len(x.split(' '))).mean().astype(str))"
   ]
  },
  {
   "cell_type": "code",
   "execution_count": 7,
   "id": "6b42ee04",
   "metadata": {},
   "outputs": [
    {
     "data": {
      "text/plain": [
       "<Axes: ylabel='Frequency'>"
      ]
     },
     "execution_count": 7,
     "metadata": {},
     "output_type": "execute_result"
    },
    {
     "data": {
      "image/png": "[encoded data removed]",
      "text/plain": [
       "<Figure size 640x480 with 1 Axes>"
      ]
     },
     "metadata": {},
     "output_type": "display_data"
    }
   ],
   "source": [
    "data_raw['contents'].apply(lambda x: len(x.split(' '))).plot(kind='hist', bins=50)"
   ]
  },
  {
   "cell_type": "code",
   "execution_count": 8,
   "id": "4331464b",
   "metadata": {},
   "outputs": [],
   "source": [
    "doc = nlp(data_raw.iloc[0]['contents'])"
   ]
  },
  {
   "cell_type": "markdown",
   "id": "15826b07",
   "metadata": {},
   "source": [
    "Only the Alphanumeric words are important, whitespace, punctuation and stop words should be excluded."
   ]
  },
  {
   "cell_type": "code",
   "execution_count": 9,
   "id": "b477264a",
   "metadata": {},
   "outputs": [
    {
     "data": {
      "text/html": [
       "<div>\n",
       "<style scoped>\n",
       "    .dataframe tbody tr th:only-of-type {\n",
       "        vertical-align: middle;\n",
       "    }\n",
       "\n",
       "    .dataframe tbody tr th {\n",
       "        vertical-align: top;\n",
       "    }\n",
       "\n",
       "    .dataframe thead th {\n",
       "        text-align: right;\n",
       "    }\n",
       "</style>\n",
       "<table border=\"1\" class=\"dataframe\">\n",
       "  <thead>\n",
       "    <tr style=\"text-align: right;\">\n",
       "      <th></th>\n",
       "      <th>Text</th>\n",
       "      <th>Index</th>\n",
       "      <th>Whitespace</th>\n",
       "      <th>Is Alphanumeric?</th>\n",
       "      <th>Is Punctuation?</th>\n",
       "      <th>Is Stop Word?</th>\n",
       "    </tr>\n",
       "  </thead>\n",
       "  <tbody>\n",
       "    <tr>\n",
       "      <th>0</th>\n",
       "      <td>[</td>\n",
       "      <td>0</td>\n",
       "      <td>False</td>\n",
       "      <td>False</td>\n",
       "      <td>True</td>\n",
       "      <td>False</td>\n",
       "    </tr>\n",
       "    <tr>\n",
       "      <th>1</th>\n",
       "      <td>Biochemical</td>\n",
       "      <td>1</td>\n",
       "      <td>False</td>\n",
       "      <td>True</td>\n",
       "      <td>False</td>\n",
       "      <td>False</td>\n",
       "    </tr>\n",
       "    <tr>\n",
       "      <th>2</th>\n",
       "      <td>studies</td>\n",
       "      <td>13</td>\n",
       "      <td>False</td>\n",
       "      <td>True</td>\n",
       "      <td>False</td>\n",
       "      <td>False</td>\n",
       "    </tr>\n",
       "    <tr>\n",
       "      <th>3</th>\n",
       "      <td>on</td>\n",
       "      <td>21</td>\n",
       "      <td>False</td>\n",
       "      <td>True</td>\n",
       "      <td>False</td>\n",
       "      <td>True</td>\n",
       "    </tr>\n",
       "    <tr>\n",
       "      <th>4</th>\n",
       "      <td>camomile</td>\n",
       "      <td>24</td>\n",
       "      <td>False</td>\n",
       "      <td>True</td>\n",
       "      <td>False</td>\n",
       "      <td>False</td>\n",
       "    </tr>\n",
       "    <tr>\n",
       "      <th>...</th>\n",
       "      <td>...</td>\n",
       "      <td>...</td>\n",
       "      <td>...</td>\n",
       "      <td>...</td>\n",
       "      <td>...</td>\n",
       "      <td>...</td>\n",
       "    </tr>\n",
       "    <tr>\n",
       "      <th>98</th>\n",
       "      <td>inhibiting</td>\n",
       "      <td>509</td>\n",
       "      <td>False</td>\n",
       "      <td>True</td>\n",
       "      <td>False</td>\n",
       "      <td>False</td>\n",
       "    </tr>\n",
       "    <tr>\n",
       "      <th>99</th>\n",
       "      <td>effect</td>\n",
       "      <td>520</td>\n",
       "      <td>False</td>\n",
       "      <td>True</td>\n",
       "      <td>False</td>\n",
       "      <td>False</td>\n",
       "    </tr>\n",
       "    <tr>\n",
       "      <th>100</th>\n",
       "      <td>is</td>\n",
       "      <td>527</td>\n",
       "      <td>False</td>\n",
       "      <td>True</td>\n",
       "      <td>False</td>\n",
       "      <td>True</td>\n",
       "    </tr>\n",
       "    <tr>\n",
       "      <th>101</th>\n",
       "      <td>lost</td>\n",
       "      <td>530</td>\n",
       "      <td>False</td>\n",
       "      <td>True</td>\n",
       "      <td>False</td>\n",
       "      <td>False</td>\n",
       "    </tr>\n",
       "    <tr>\n",
       "      <th>102</th>\n",
       "      <td>.</td>\n",
       "      <td>534</td>\n",
       "      <td>False</td>\n",
       "      <td>False</td>\n",
       "      <td>True</td>\n",
       "      <td>False</td>\n",
       "    </tr>\n",
       "  </tbody>\n",
       "</table>\n",
       "<p>103 rows × 6 columns</p>\n",
       "</div>"
      ],
      "text/plain": [
       "            Text  Index  Whitespace  Is Alphanumeric?  Is Punctuation?  \\\n",
       "0              [      0       False             False             True   \n",
       "1    Biochemical      1       False              True            False   \n",
       "2        studies     13       False              True            False   \n",
       "3             on     21       False              True            False   \n",
       "4       camomile     24       False              True            False   \n",
       "..           ...    ...         ...               ...              ...   \n",
       "98    inhibiting    509       False              True            False   \n",
       "99        effect    520       False              True            False   \n",
       "100           is    527       False              True            False   \n",
       "101         lost    530       False              True            False   \n",
       "102            .    534       False             False             True   \n",
       "\n",
       "     Is Stop Word?  \n",
       "0            False  \n",
       "1            False  \n",
       "2            False  \n",
       "3             True  \n",
       "4            False  \n",
       "..             ...  \n",
       "98           False  \n",
       "99           False  \n",
       "100           True  \n",
       "101          False  \n",
       "102          False  \n",
       "\n",
       "[103 rows x 6 columns]"
      ]
     },
     "execution_count": 9,
     "metadata": {},
     "output_type": "execute_result"
    }
   ],
   "source": [
    "def token_to_df(doc=doc):\n",
    "    token_info = []\n",
    "    for token in doc:\n",
    "        token_info.append({\n",
    "            \"Text\": token.text,\n",
    "            \"Index\": token.idx,\n",
    "            \"Whitespace\": token.is_space,\n",
    "            \"Is Alphanumeric?\": token.is_alpha,\n",
    "            \"Is Punctuation?\": token.is_punct,\n",
    "            \"Is Stop Word?\": token.is_stop\n",
    "        })\n",
    "    return pd.DataFrame(token_info)\n",
    "\n",
    "token_to_df(doc)"
   ]
  },
  {
   "cell_type": "markdown",
   "id": "4d6001c6",
   "metadata": {},
   "source": [
    "Lemmatization is necessary to reduce the length of the content while preserving relevant information."
   ]
  },
  {
   "cell_type": "code",
   "execution_count": 10,
   "id": "00be61ee",
   "metadata": {},
   "outputs": [
    {
     "name": "stdout",
     "output_type": "stream",
     "text": [
      "         Biochemical : biochemical\n",
      "             studies : study\n",
      "          components : component\n",
      "                  In : in\n",
      "             studies : study\n",
      "                 has : have\n",
      "           depending : depend\n",
      "                  is : be\n",
      "              caused : cause\n",
      "                  pH : ph\n",
      "                 The : the\n",
      "                  is : be\n",
      "             reduced : reduce\n",
      "                 The : the\n",
      "              occurs : occur\n",
      "                  In : in\n",
      "          inhibiting : inhibit\n",
      "                  is : be\n",
      "                lost : lose\n"
     ]
    }
   ],
   "source": [
    "for token in doc:\n",
    "    if str(token) != str(token.lemma_):\n",
    "        print(f\"{str(token):>20} : {str(token.lemma_)}\")"
   ]
  },
  {
   "cell_type": "code",
   "execution_count": 11,
   "id": "30d75304",
   "metadata": {},
   "outputs": [],
   "source": [
    "def clean_text(text):\n",
    "    complete_doc = nlp(text)\n",
    "    words = [token.text for token in complete_doc \n",
    "             if token.is_alpha and not token.is_stop and not token.is_punct]\n",
    "    return ' '.join(words)\n",
    "\n",
    "def lemmalize_text(text):\n",
    "    complete_doc = nlp(text)\n",
    "    words = [token.lemma_ for token in complete_doc]\n",
    "    return ' '.join(words)"
   ]
  },
  {
   "cell_type": "code",
   "execution_count": 12,
   "id": "3ceacb4a",
   "metadata": {},
   "outputs": [],
   "source": [
    "text = data_raw.iloc[0]['contents']\n",
    "text = clean_text(text)\n",
    "text = lemmalize_text(text)\n",
    "clean_doc = nlp(text)"
   ]
  },
  {
   "cell_type": "markdown",
   "id": "e06fcfec",
   "metadata": {},
   "source": [
    "After cleaning, the first contents length is reduced from 103 to 44."
   ]
  },
  {
   "cell_type": "code",
   "execution_count": 13,
   "id": "97a8eae5",
   "metadata": {},
   "outputs": [
    {
     "data": {
      "text/plain": [
       "44"
      ]
     },
     "execution_count": 13,
     "metadata": {},
     "output_type": "execute_result"
    }
   ],
   "source": [
    "token_to_df(clean_doc).shape[0]"
   ]
  },
  {
   "cell_type": "markdown",
   "id": "6c4e0607",
   "metadata": {},
   "source": [
    "Tokenization"
   ]
  },
  {
   "cell_type": "code",
   "execution_count": 14,
   "id": "90f7e6e3",
   "metadata": {},
   "outputs": [],
   "source": [
    "def tokenized_text(text):\n",
    "    complete_doc = nlp(text)\n",
    "    words = [token.text.lower() for token in complete_doc]\n",
    "    return words"
   ]
  },
  {
   "cell_type": "markdown",
   "id": "9daf4d02",
   "metadata": {},
   "source": [
    "Overall Cleaning Process(Takes 2.5 minutes to run)"
   ]
  },
  {
   "cell_type": "code",
   "execution_count": 15,
   "id": "ea4b509d",
   "metadata": {},
   "outputs": [],
   "source": [
    "def full_preprocessing(text):\n",
    "    text = clean_text(text)\n",
    "    text = lemmalize_text(text)\n",
    "    text = tokenized_text(text)\n",
    "    return ' '.join(text)"
   ]
  },
  {
   "cell_type": "code",
   "execution_count": 16,
   "id": "40401dad",
   "metadata": {},
   "outputs": [],
   "source": [
    "data_clean = data_raw.copy()\n",
    "data_clean['cleaned'] = data_raw['contents'].transform(full_preprocessing)"
   ]
  },
  {
   "cell_type": "markdown",
   "id": "b0a530ac",
   "metadata": {},
   "source": [
    "After cleaning, the contents length ranges from 14 to 303, with the mean of 90. "
   ]
  },
  {
   "cell_type": "code",
   "execution_count": 17,
   "id": "c175a0a9",
   "metadata": {},
   "outputs": [
    {
     "name": "stdout",
     "output_type": "stream",
     "text": [
      "Min Length: 14\n",
      "Max Length: 303\n",
      "Mean Length:90.8452\n"
     ]
    }
   ],
   "source": [
    "print(\"Min Length: \" + data_clean['cleaned'].apply(lambda x: len(x.split(' '))).min().astype(str))\n",
    "print(\"Max Length: \" + data_clean['cleaned'].apply(lambda x: len(x.split(' '))).max().astype(str))\n",
    "print(\"Mean Length:\" + data_clean['cleaned'].apply(lambda x: len(x.split(' '))).mean().astype(str))"
   ]
  },
  {
   "cell_type": "code",
   "execution_count": 18,
   "id": "e538c8e4",
   "metadata": {},
   "outputs": [
    {
     "data": {
      "text/plain": [
       "<Axes: ylabel='Frequency'>"
      ]
     },
     "execution_count": 18,
     "metadata": {},
     "output_type": "execute_result"
    },
    {
     "data": {
      "image/png": "[encoded data removed]",
      "text/plain": [
       "<Figure size 640x480 with 1 Axes>"
      ]
     },
     "metadata": {},
     "output_type": "display_data"
    }
   ],
   "source": [
    "data_clean['cleaned'].apply(lambda x: len(x.split(' '))).plot(kind='hist', bins=50)"
   ]
  },
  {
   "cell_type": "code",
   "execution_count": 19,
   "id": "71667dba",
   "metadata": {},
   "outputs": [],
   "source": [
    "data_clean.to_csv('train_clean.csv', index=False)"
   ]
  },
  {
   "cell_type": "markdown",
   "id": "1480f258",
   "metadata": {},
   "source": [
    "### 3. Generate test dataset using Llama3.2-3B"
   ]
  },
  {
   "cell_type": "code",
   "execution_count": 20,
   "id": "a68a0ccb",
   "metadata": {},
   "outputs": [
    {
     "data": {
      "text/html": [
       "<div>\n",
       "<style scoped>\n",
       "    .dataframe tbody tr th:only-of-type {\n",
       "        vertical-align: middle;\n",
       "    }\n",
       "\n",
       "    .dataframe tbody tr th {\n",
       "        vertical-align: top;\n",
       "    }\n",
       "\n",
       "    .dataframe thead th {\n",
       "        text-align: right;\n",
       "    }\n",
       "</style>\n",
       "<table border=\"1\" class=\"dataframe\">\n",
       "  <thead>\n",
       "    <tr style=\"text-align: right;\">\n",
       "      <th></th>\n",
       "      <th>id</th>\n",
       "      <th>title</th>\n",
       "      <th>content</th>\n",
       "      <th>contents</th>\n",
       "      <th>PMID</th>\n",
       "      <th>cleaned</th>\n",
       "    </tr>\n",
       "  </thead>\n",
       "  <tbody>\n",
       "    <tr>\n",
       "      <th>2656</th>\n",
       "      <td>pubmed23n0001_2656</td>\n",
       "      <td>Suppression and stimulation mechanisms control...</td>\n",
       "      <td>The mechanisms controlling secretion of glucag...</td>\n",
       "      <td>Suppression and stimulation mechanisms control...</td>\n",
       "      <td>5326</td>\n",
       "      <td>suppression stimulation mechanism control gluc...</td>\n",
       "    </tr>\n",
       "    <tr>\n",
       "      <th>445</th>\n",
       "      <td>pubmed23n0001_445</td>\n",
       "      <td>Value of capillary blood gas analyses in the m...</td>\n",
       "      <td>A comparative study of blood gases and acid-ba...</td>\n",
       "      <td>Value of capillary blood gas analyses in the m...</td>\n",
       "      <td>936</td>\n",
       "      <td>value capillary blood gas analyse management a...</td>\n",
       "    </tr>\n",
       "    <tr>\n",
       "      <th>9505</th>\n",
       "      <td>pubmed23n0001_9505</td>\n",
       "      <td>Bufuralol, a new beta-adrenoceptor blocking ag...</td>\n",
       "      <td>The synthesis and resolution of a new beta-adr...</td>\n",
       "      <td>Bufuralol, a new beta-adrenoceptor blocking ag...</td>\n",
       "      <td>18158</td>\n",
       "      <td>bufuralol new beta adrenoceptor block agent sy...</td>\n",
       "    </tr>\n",
       "    <tr>\n",
       "      <th>332</th>\n",
       "      <td>pubmed23n0001_332</td>\n",
       "      <td>The determination of gamma-glutamyl transpepti...</td>\n",
       "      <td>The determination of gamma-glutamyl transpepti...</td>\n",
       "      <td>The determination of gamma-glutamyl transpepti...</td>\n",
       "      <td>646</td>\n",
       "      <td>determination gamma glutamyl transpeptidase re...</td>\n",
       "    </tr>\n",
       "    <tr>\n",
       "      <th>4168</th>\n",
       "      <td>pubmed23n0001_4168</td>\n",
       "      <td>Effects of autonomic drugs on epididymal contr...</td>\n",
       "      <td>The spontaneous contractility of rat epididymi...</td>\n",
       "      <td>Effects of autonomic drugs on epididymal contr...</td>\n",
       "      <td>8341</td>\n",
       "      <td>effect autonomic drug epididymal contraction s...</td>\n",
       "    </tr>\n",
       "  </tbody>\n",
       "</table>\n",
       "</div>"
      ],
      "text/plain": [
       "                      id                                              title  \\\n",
       "2656  pubmed23n0001_2656  Suppression and stimulation mechanisms control...   \n",
       "445    pubmed23n0001_445  Value of capillary blood gas analyses in the m...   \n",
       "9505  pubmed23n0001_9505  Bufuralol, a new beta-adrenoceptor blocking ag...   \n",
       "332    pubmed23n0001_332  The determination of gamma-glutamyl transpepti...   \n",
       "4168  pubmed23n0001_4168  Effects of autonomic drugs on epididymal contr...   \n",
       "\n",
       "                                                content  \\\n",
       "2656  The mechanisms controlling secretion of glucag...   \n",
       "445   A comparative study of blood gases and acid-ba...   \n",
       "9505  The synthesis and resolution of a new beta-adr...   \n",
       "332   The determination of gamma-glutamyl transpepti...   \n",
       "4168  The spontaneous contractility of rat epididymi...   \n",
       "\n",
       "                                               contents   PMID  \\\n",
       "2656  Suppression and stimulation mechanisms control...   5326   \n",
       "445   Value of capillary blood gas analyses in the m...    936   \n",
       "9505  Bufuralol, a new beta-adrenoceptor blocking ag...  18158   \n",
       "332   The determination of gamma-glutamyl transpepti...    646   \n",
       "4168  Effects of autonomic drugs on epididymal contr...   8341   \n",
       "\n",
       "                                                cleaned  \n",
       "2656  suppression stimulation mechanism control gluc...  \n",
       "445   value capillary blood gas analyse management a...  \n",
       "9505  bufuralol new beta adrenoceptor block agent sy...  \n",
       "332   determination gamma glutamyl transpeptidase re...  \n",
       "4168  effect autonomic drug epididymal contraction s...  "
      ]
     },
     "execution_count": 20,
     "metadata": {},
     "output_type": "execute_result"
    }
   ],
   "source": [
    "import random\n",
    "import pandas as pd\n",
    "\n",
    "papers = pd.read_csv(\"train_clean.csv\")\n",
    "\n",
    "test_data = papers.sample(n=100, random_state=123)\n",
    "\n",
    "test_data.head()"
   ]
  },
  {
   "cell_type": "markdown",
   "id": "b42098c3",
   "metadata": {},
   "source": [
    "Generating test data takes about 6.5 minutes"
   ]
  },
  {
   "cell_type": "code",
   "execution_count": 21,
   "id": "b4d54707",
   "metadata": {},
   "outputs": [
    {
     "data": {
      "text/html": [
       "<div>\n",
       "<style scoped>\n",
       "    .dataframe tbody tr th:only-of-type {\n",
       "        vertical-align: middle;\n",
       "    }\n",
       "\n",
       "    .dataframe tbody tr th {\n",
       "        vertical-align: top;\n",
       "    }\n",
       "\n",
       "    .dataframe thead th {\n",
       "        text-align: right;\n",
       "    }\n",
       "</style>\n",
       "<table border=\"1\" class=\"dataframe\">\n",
       "  <thead>\n",
       "    <tr style=\"text-align: right;\">\n",
       "      <th></th>\n",
       "      <th>PMID</th>\n",
       "      <th>generated_query</th>\n",
       "    </tr>\n",
       "  </thead>\n",
       "  <tbody>\n",
       "    <tr>\n",
       "      <th>2656</th>\n",
       "      <td>5326</td>\n",
       "      <td>I want to find research about the suppression stimulation mechanism control of glucagon secretion in patients with islet cell tumors and its effects on multihormone secretion during fasting, gluco...</td>\n",
       "    </tr>\n",
       "    <tr>\n",
       "      <th>445</th>\n",
       "      <td>936</td>\n",
       "      <td>I want to find research about comparing blood gas analysis management in patients with acute respiratory distress and circulatory shock.</td>\n",
       "    </tr>\n",
       "    <tr>\n",
       "      <th>9505</th>\n",
       "      <td>18158</td>\n",
       "      <td>I want to find research about a new beta adrenoceptor block agent called bufuralol, including its synthesis, structure, activity, and potential lead compounds.</td>\n",
       "    </tr>\n",
       "    <tr>\n",
       "      <th>332</th>\n",
       "      <td>646</td>\n",
       "      <td>I want to find research about gamma glutamyl transpeptidase reaction rate assays and their optimal conditions for analysis.</td>\n",
       "    </tr>\n",
       "    <tr>\n",
       "      <th>4168</th>\n",
       "      <td>8341</td>\n",
       "      <td>I want to find research about the effects of autonomic drugs on spontaneous contraction in the rat epididymis and how they interact with norepinephrine, epinephrine, orciprenaline, and other subst...</td>\n",
       "    </tr>\n",
       "  </tbody>\n",
       "</table>\n",
       "</div>"
      ],
      "text/plain": [
       "       PMID  \\\n",
       "2656   5326   \n",
       "445     936   \n",
       "9505  18158   \n",
       "332     646   \n",
       "4168   8341   \n",
       "\n",
       "                                                                                                                                                                                              generated_query  \n",
       "2656  I want to find research about the suppression stimulation mechanism control of glucagon secretion in patients with islet cell tumors and its effects on multihormone secretion during fasting, gluco...  \n",
       "445                                                                  I want to find research about comparing blood gas analysis management in patients with acute respiratory distress and circulatory shock.  \n",
       "9505                                          I want to find research about a new beta adrenoceptor block agent called bufuralol, including its synthesis, structure, activity, and potential lead compounds.  \n",
       "332                                                                               I want to find research about gamma glutamyl transpeptidase reaction rate assays and their optimal conditions for analysis.  \n",
       "4168  I want to find research about the effects of autonomic drugs on spontaneous contraction in the rat epididymis and how they interact with norepinephrine, epinephrine, orciprenaline, and other subst...  "
      ]
     },
     "execution_count": 21,
     "metadata": {},
     "output_type": "execute_result"
    }
   ],
   "source": [
    "import ollama\n",
    "\n",
    "def generate_query(contents, max_length=200, temperature=0.2):\n",
    "    prompt = f\"\"\"\n",
    "Based on the following paper contents, generate a natural-language query that a user might ask to find this paper.\n",
    "\n",
    "Paper:\n",
    "\\\"\\\"\\\"\n",
    "{contents}\n",
    "\\\"\\\"\\\"\n",
    "\n",
    "The output should ONLY include the query content, starting naturally like:\n",
    "\"I want to find research about...\" or \"What are studies about...\"\n",
    "\n",
    "Do not include any explanation or formatting. Only the query.\n",
    "\"\"\"\n",
    "\n",
    "    client = ollama.Client()\n",
    "\n",
    "    model = \"llama3.2\"\n",
    "\n",
    "    response = client.generate(\n",
    "        model=model,\n",
    "        prompt=prompt,\n",
    "        options={\"temperature\": temperature}\n",
    "    )\n",
    "    \n",
    "    return response.response[:max_length].strip()\n",
    "\n",
    "test_data = test_data.assign(generated_query = test_data['cleaned'].apply(generate_query))\n",
    "pd.set_option('display.max_colwidth', 200)\n",
    "test_data.head().loc[:, ['PMID', 'generated_query']]\n"
   ]
  },
  {
   "cell_type": "code",
   "execution_count": 22,
   "id": "07caed72",
   "metadata": {},
   "outputs": [],
   "source": [
    "test_data.to_csv(\"test.csv\", index=False)"
   ]
  },
  {
   "cell_type": "markdown",
   "id": "e7e832ad",
   "metadata": {},
   "source": [
    "### 4. Bi-encoder Implementation and Evaluation\n",
    "<img src=\"asset\\bi.png\" alt=\"My Image\" width=\"500\" height=\"600\">"
   ]
  },
  {
   "cell_type": "markdown",
   "id": "5ee6b4cc",
   "metadata": {},
   "source": [
    "Produce the embeddings of the dataset, save it for future work."
   ]
  },
  {
   "cell_type": "code",
   "execution_count": 23,
   "id": "14c950f0",
   "metadata": {},
   "outputs": [
    {
     "name": "stdout",
     "output_type": "stream",
     "text": [
      "WARNING:tensorflow:From d:\\Code\\RAG\\rag_env\\Lib\\site-packages\\tf_keras\\src\\losses.py:2976: The name tf.losses.sparse_softmax_cross_entropy is deprecated. Please use tf.compat.v1.losses.sparse_softmax_cross_entropy instead.\n",
      "\n"
     ]
    }
   ],
   "source": [
    "from sentence_transformers import SentenceTransformer\n",
    "import pandas as pd\n",
    "import torch\n",
    "import warnings\n",
    "warnings.filterwarnings(\"ignore\")\n",
    "\n",
    "data = pd.read_csv('train_clean.csv')\n",
    "data_str = data['cleaned'].tolist()\n",
    "\n",
    "model = SentenceTransformer(\"all-MiniLM-L6-v2\", device='cuda' if torch.cuda.is_available() else 'cpu')\n",
    "\n",
    "embeddings = model.encode(data_str)\n",
    "\n",
    "torch.save(embeddings, 'embeddings.pt')"
   ]
  },
  {
   "cell_type": "markdown",
   "id": "9939222a",
   "metadata": {},
   "source": [
    "Bi-encoder uses cosine similarity to find relevant papers."
   ]
  },
  {
   "cell_type": "code",
   "execution_count": 24,
   "id": "3661954d",
   "metadata": {},
   "outputs": [
    {
     "name": "stdout",
     "output_type": "stream",
     "text": [
      "1. Index: 9027 | Similarity: 0.5555\n",
      "2. Index: 0 | Similarity: 0.5420\n",
      "3. Index: 2083 | Similarity: 0.5378\n",
      "4. Index: 139 | Similarity: 0.5259\n",
      "5. Index: 8962 | Similarity: 0.5015\n",
      "6. Index: 9732 | Similarity: 0.5010\n",
      "7. Index: 1592 | Similarity: 0.4970\n",
      "8. Index: 2531 | Similarity: 0.4931\n",
      "9. Index: 5918 | Similarity: 0.4868\n",
      "10. Index: 9054 | Similarity: 0.4859\n"
     ]
    }
   ],
   "source": [
    "from sentence_transformers import SentenceTransformer\n",
    "import pandas as pd\n",
    "import torch\n",
    "import warnings\n",
    "warnings.filterwarnings(\"ignore\")\n",
    "embeddings = torch.load('embeddings.pt', weights_only=False)\n",
    "\n",
    "query = \"What are other studies exploring in vitro antipeptic or anti-ulcer effects of terpenoids or natural products like alpha-bisabolol?\"\n",
    "\n",
    "query_new = full_preprocessing(query)\n",
    "\n",
    "query_embedding = model.encode([query_new])\n",
    "\n",
    "similarities = model.similarity(query_embedding, embeddings)\n",
    "\n",
    "similarities_tensor = torch.tensor(similarities)\n",
    "top_n_values, top_n_indices = torch.topk(similarities_tensor, 10)\n",
    "top_n_indices = top_n_indices.tolist()[0]\n",
    "\n",
    "scores = top_n_values.squeeze().tolist()\n",
    "indices = top_n_indices\n",
    "\n",
    "for i, (score, idx) in enumerate(zip(scores, indices)):\n",
    "    print(f\"{i+1}. Index: {idx} | Similarity: {score:.4f}\")\n"
   ]
  },
  {
   "cell_type": "markdown",
   "id": "478f699e",
   "metadata": {},
   "source": [
    "In this case the top paper is not the right one!"
   ]
  },
  {
   "cell_type": "code",
   "execution_count": 25,
   "id": "5ae7e0e8",
   "metadata": {},
   "outputs": [
    {
     "data": {
      "text/html": [
       "<div>\n",
       "<style scoped>\n",
       "    .dataframe tbody tr th:only-of-type {\n",
       "        vertical-align: middle;\n",
       "    }\n",
       "\n",
       "    .dataframe tbody tr th {\n",
       "        vertical-align: top;\n",
       "    }\n",
       "\n",
       "    .dataframe thead th {\n",
       "        text-align: right;\n",
       "    }\n",
       "</style>\n",
       "<table border=\"1\" class=\"dataframe\">\n",
       "  <thead>\n",
       "    <tr style=\"text-align: right;\">\n",
       "      <th></th>\n",
       "      <th>id</th>\n",
       "      <th>title</th>\n",
       "      <th>content</th>\n",
       "      <th>contents</th>\n",
       "      <th>PMID</th>\n",
       "      <th>cleaned</th>\n",
       "    </tr>\n",
       "  </thead>\n",
       "  <tbody>\n",
       "    <tr>\n",
       "      <th>9027</th>\n",
       "      <td>pubmed23n0001_9027</td>\n",
       "      <td>[Peptic ulcer: new aspects of conservative therapy].</td>\n",
       "      <td>In spite of the large number of preparations, medical therapy of peptic ulcer disease has long been unsatisfactory. Antacids, anticholinergics and diet neither accelerate healing of ulcers nor pre...</td>\n",
       "      <td>[Peptic ulcer: new aspects of conservative therapy]. In spite of the large number of preparations, medical therapy of peptic ulcer disease has long been unsatisfactory. Antacids, anticholinergics ...</td>\n",
       "      <td>17157</td>\n",
       "      <td>peptic ulcer new aspect conservative therapy spite large number preparation medical therapy peptic ulcer disease long unsatisfactory antacids anticholinergic diet accelerate healing ulcer prevent ...</td>\n",
       "    </tr>\n",
       "    <tr>\n",
       "      <th>0</th>\n",
       "      <td>pubmed23n0001_0</td>\n",
       "      <td>[Biochemical studies on camomile components/III. In vitro studies about the antipeptic activity of (--)-alpha-bisabolol (author's transl)].</td>\n",
       "      <td>(--)-alpha-Bisabolol has a primary antipeptic action depending on dosage, which is not caused by an alteration of the pH-value. The proteolytic activity of pepsin is reduced by 50 percent through ...</td>\n",
       "      <td>[Biochemical studies on camomile components/III. In vitro studies about the antipeptic activity of (--)-alpha-bisabolol (author's transl)]. (--)-alpha-Bisabolol has a primary antipeptic action dep...</td>\n",
       "      <td>21</td>\n",
       "      <td>biochemical study camomile component iii vitro study antipeptic activity bisabolol author transl bisabolol primary antipeptic action depend dosage cause alteration ph value proteolytic activity pe...</td>\n",
       "    </tr>\n",
       "    <tr>\n",
       "      <th>2083</th>\n",
       "      <td>pubmed23n0001_2083</td>\n",
       "      <td>Effect of SAS (a new 10-N-acylaminophenothiazine) on gastric secretion and ulceration in rats.</td>\n",
       "      <td>The antiulcer and antisecretory activity of 2-chloro-10-[4'(N-beta-hydroxyethyl) piperazinyl-1'] acetylphenothiazine (SAS) has been investigated. At 10 and 20 mg/kg (s.c.) the drug was found to po...</td>\n",
       "      <td>Effect of SAS (a new 10-N-acylaminophenothiazine) on gastric secretion and ulceration in rats. The antiulcer and antisecretory activity of 2-chloro-10-[4'(N-beta-hydroxyethyl) piperazinyl-1'] acet...</td>\n",
       "      <td>4186</td>\n",
       "      <td>effect sas new n acylaminophenothiazine gastric secretion ulceration rat antiulcer antisecretory activity beta hydroxyethyl acetylphenothiazine sas investigate mg kg drug find possess potent antig...</td>\n",
       "    </tr>\n",
       "    <tr>\n",
       "      <th>139</th>\n",
       "      <td>pubmed23n0001_139</td>\n",
       "      <td>[Biphasic (ulcer-forming and ulcer-preventing) effect of adrenaline in rats].</td>\n",
       "      <td>Adrenaline-induced gastric ulceration was studied in rats. Adrenaline in high doses caused gastric ulcer, which was completely blocked by pretreatment with alpha-blockers (phenoxybenzamine, dibena...</td>\n",
       "      <td>[Biphasic (ulcer-forming and ulcer-preventing) effect of adrenaline in rats]. Adrenaline-induced gastric ulceration was studied in rats. Adrenaline in high doses caused gastric ulcer, which was co...</td>\n",
       "      <td>278</td>\n",
       "      <td>biphasic ulcer forming ulcer prevent effect adrenaline rat adrenaline induce gastric ulceration study rat adrenaline high dose cause gastric ulcer completely block pretreatment alpha blocker pheno...</td>\n",
       "    </tr>\n",
       "    <tr>\n",
       "      <th>8962</th>\n",
       "      <td>pubmed23n0001_8962</td>\n",
       "      <td>Measurement of prostaglandin E2 in an inflammatory exudate: effects of nonsteroidal anti-inflammatory agents.</td>\n",
       "      <td>A method was developed for extracting and measuring nanogram quantities of prostaglandin E2 (PGE2) from carrageenan-induced abscess in the rat. PGE2 concentration, quantitated by radioimmunoassay,...</td>\n",
       "      <td>Measurement of prostaglandin E2 in an inflammatory exudate: effects of nonsteroidal anti-inflammatory agents. A method was developed for extracting and measuring nanogram quantities of prostagland...</td>\n",
       "      <td>17001</td>\n",
       "      <td>measurement prostaglandin inflammatory exudate effect nonsteroidal anti inflammatory agent method develop extract measure nanogram quantity prostaglandin carrageenan induce abscess rat concentrati...</td>\n",
       "    </tr>\n",
       "    <tr>\n",
       "      <th>9732</th>\n",
       "      <td>pubmed23n0001_9732</td>\n",
       "      <td>The pharmacology of benoxaprofen (2-[4-chlorophenyl]-alpha-methyl-5-benzoxazole acetic acid), LRCL 3794, a new compound with antiinflammatory activity apparently unrelated to inhibition of prostag...</td>\n",
       "      <td>Benoxaprofen is a potent and long-acting anti-inflammatory and antipyretic compound. Its anti-inflammatory activity has been demonstrated in carrageenan-induced oedema, in cellulose pellet granulo...</td>\n",
       "      <td>The pharmacology of benoxaprofen (2-[4-chlorophenyl]-alpha-methyl-5-benzoxazole acetic acid), LRCL 3794, a new compound with antiinflammatory activity apparently unrelated to inhibition of prostag...</td>\n",
       "      <td>18568</td>\n",
       "      <td>pharmacology benoxaprofen benzoxazole acetic acid lrcl new compound antiinflammatory activity apparently unrelated inhibition prostaglandin synthesis benoxaprofen potent long act anti inflammatory...</td>\n",
       "    </tr>\n",
       "    <tr>\n",
       "      <th>1592</th>\n",
       "      <td>pubmed23n0001_1592</td>\n",
       "      <td>Prevention of experimental gastric ulcers in rats by dial derivatives.</td>\n",
       "      <td>In 111 rats divided into 5 groups, Ipronal (5-allyl-5-(beta-hydroxypropyl)-barbituric acid) protected rats from development of experimental ulceration of the gastric mucosa twice as effectively as...</td>\n",
       "      <td>Prevention of experimental gastric ulcers in rats by dial derivatives. In 111 rats divided into 5 groups, Ipronal (5-allyl-5-(beta-hydroxypropyl)-barbituric acid) protected rats from development o...</td>\n",
       "      <td>3148</td>\n",
       "      <td>prevention experimental gastric ulcer rat dial derivative rat divide group ipronal acid protect rat development experimental ulceration gastric mucosa twice effectively diallylbarbituric acid comp...</td>\n",
       "    </tr>\n",
       "    <tr>\n",
       "      <th>2531</th>\n",
       "      <td>pubmed23n0001_2531</td>\n",
       "      <td>Benorylate interaction with indomethacin and phenylbutazone.</td>\n",
       "      <td>The simlutaneous oral administration of benorylate (4-(acetamido) phenyl 2-acetoxybenzoate) with either indomethacin or phenylbutazone to rats suffering from Freund's adjuvant-induced arthritis le...</td>\n",
       "      <td>Benorylate interaction with indomethacin and phenylbutazone. The simlutaneous oral administration of benorylate (4-(acetamido) phenyl 2-acetoxybenzoate) with either indomethacin or phenylbutazone ...</td>\n",
       "      <td>5064</td>\n",
       "      <td>benorylate interaction indomethacin phenylbutazone simlutaneous oral administration benorylate phenyl acetoxybenzoate indomethacin phenylbutazone rat suffer freund adjuvant induced arthritis lead ...</td>\n",
       "    </tr>\n",
       "    <tr>\n",
       "      <th>5918</th>\n",
       "      <td>pubmed23n0001_5918</td>\n",
       "      <td>Histamine H2-receptor antagonists in the treatment of duodenal ulcers.</td>\n",
       "      <td>A double-blind trial of histamine H2-receptor antagonists and placebo was carried out in 46 patients with endoscopically proven duodenal ulceration. H2-receptor antagonists (metiamide and cimetidi...</td>\n",
       "      <td>Histamine H2-receptor antagonists in the treatment of duodenal ulcers. A double-blind trial of histamine H2-receptor antagonists and placebo was carried out in 46 patients with endoscopically prov...</td>\n",
       "      <td>11564</td>\n",
       "      <td>histamine receptor antagonist treatment duodenal ulcer double blind trial histamine receptor antagonist placebo carry patient endoscopically prove duodenal ulceration receptor antagonist metiamide...</td>\n",
       "    </tr>\n",
       "    <tr>\n",
       "      <th>9054</th>\n",
       "      <td>pubmed23n0001_9054</td>\n",
       "      <td>Drugs for peptic ulcer.</td>\n",
       "      <td>Conservative management of peptic ulcer relies on the use of drugs as an adjuvant to the time-honored measures of avoiding stress, reducing gastric secretion, and regulating the diet. Alkalies neu...</td>\n",
       "      <td>Drugs for peptic ulcer. Conservative management of peptic ulcer relies on the use of drugs as an adjuvant to the time-honored measures of avoiding stress, reducing gastric secretion, and regulatin...</td>\n",
       "      <td>17229</td>\n",
       "      <td>drug peptic ulcer conservative management peptic ulcer relie use drug adjuvant time honor measure avoid stress reduce gastric secretion regulating diet alkalies neutralize acid anticholinergic dru...</td>\n",
       "    </tr>\n",
       "  </tbody>\n",
       "</table>\n",
       "</div>"
      ],
      "text/plain": [
       "                      id  \\\n",
       "9027  pubmed23n0001_9027   \n",
       "0        pubmed23n0001_0   \n",
       "2083  pubmed23n0001_2083   \n",
       "139    pubmed23n0001_139   \n",
       "8962  pubmed23n0001_8962   \n",
       "9732  pubmed23n0001_9732   \n",
       "1592  pubmed23n0001_1592   \n",
       "2531  pubmed23n0001_2531   \n",
       "5918  pubmed23n0001_5918   \n",
       "9054  pubmed23n0001_9054   \n",
       "\n",
       "                                                                                                                                                                                                        title  \\\n",
       "9027                                                                                                                                                     [Peptic ulcer: new aspects of conservative therapy].   \n",
       "0                                                                 [Biochemical studies on camomile components/III. In vitro studies about the antipeptic activity of (--)-alpha-bisabolol (author's transl)].   \n",
       "2083                                                                                                           Effect of SAS (a new 10-N-acylaminophenothiazine) on gastric secretion and ulceration in rats.   \n",
       "139                                                                                                                             [Biphasic (ulcer-forming and ulcer-preventing) effect of adrenaline in rats].   \n",
       "8962                                                                                            Measurement of prostaglandin E2 in an inflammatory exudate: effects of nonsteroidal anti-inflammatory agents.   \n",
       "9732  The pharmacology of benoxaprofen (2-[4-chlorophenyl]-alpha-methyl-5-benzoxazole acetic acid), LRCL 3794, a new compound with antiinflammatory activity apparently unrelated to inhibition of prostag...   \n",
       "1592                                                                                                                                   Prevention of experimental gastric ulcers in rats by dial derivatives.   \n",
       "2531                                                                                                                                             Benorylate interaction with indomethacin and phenylbutazone.   \n",
       "5918                                                                                                                                   Histamine H2-receptor antagonists in the treatment of duodenal ulcers.   \n",
       "9054                                                                                                                                                                                  Drugs for peptic ulcer.   \n",
       "\n",
       "                                                                                                                                                                                                      content  \\\n",
       "9027  In spite of the large number of preparations, medical therapy of peptic ulcer disease has long been unsatisfactory. Antacids, anticholinergics and diet neither accelerate healing of ulcers nor pre...   \n",
       "0     (--)-alpha-Bisabolol has a primary antipeptic action depending on dosage, which is not caused by an alteration of the pH-value. The proteolytic activity of pepsin is reduced by 50 percent through ...   \n",
       "2083  The antiulcer and antisecretory activity of 2-chloro-10-[4'(N-beta-hydroxyethyl) piperazinyl-1'] acetylphenothiazine (SAS) has been investigated. At 10 and 20 mg/kg (s.c.) the drug was found to po...   \n",
       "139   Adrenaline-induced gastric ulceration was studied in rats. Adrenaline in high doses caused gastric ulcer, which was completely blocked by pretreatment with alpha-blockers (phenoxybenzamine, dibena...   \n",
       "8962  A method was developed for extracting and measuring nanogram quantities of prostaglandin E2 (PGE2) from carrageenan-induced abscess in the rat. PGE2 concentration, quantitated by radioimmunoassay,...   \n",
       "9732  Benoxaprofen is a potent and long-acting anti-inflammatory and antipyretic compound. Its anti-inflammatory activity has been demonstrated in carrageenan-induced oedema, in cellulose pellet granulo...   \n",
       "1592  In 111 rats divided into 5 groups, Ipronal (5-allyl-5-(beta-hydroxypropyl)-barbituric acid) protected rats from development of experimental ulceration of the gastric mucosa twice as effectively as...   \n",
       "2531  The simlutaneous oral administration of benorylate (4-(acetamido) phenyl 2-acetoxybenzoate) with either indomethacin or phenylbutazone to rats suffering from Freund's adjuvant-induced arthritis le...   \n",
       "5918  A double-blind trial of histamine H2-receptor antagonists and placebo was carried out in 46 patients with endoscopically proven duodenal ulceration. H2-receptor antagonists (metiamide and cimetidi...   \n",
       "9054  Conservative management of peptic ulcer relies on the use of drugs as an adjuvant to the time-honored measures of avoiding stress, reducing gastric secretion, and regulating the diet. Alkalies neu...   \n",
       "\n",
       "                                                                                                                                                                                                     contents  \\\n",
       "9027  [Peptic ulcer: new aspects of conservative therapy]. In spite of the large number of preparations, medical therapy of peptic ulcer disease has long been unsatisfactory. Antacids, anticholinergics ...   \n",
       "0     [Biochemical studies on camomile components/III. In vitro studies about the antipeptic activity of (--)-alpha-bisabolol (author's transl)]. (--)-alpha-Bisabolol has a primary antipeptic action dep...   \n",
       "2083  Effect of SAS (a new 10-N-acylaminophenothiazine) on gastric secretion and ulceration in rats. The antiulcer and antisecretory activity of 2-chloro-10-[4'(N-beta-hydroxyethyl) piperazinyl-1'] acet...   \n",
       "139   [Biphasic (ulcer-forming and ulcer-preventing) effect of adrenaline in rats]. Adrenaline-induced gastric ulceration was studied in rats. Adrenaline in high doses caused gastric ulcer, which was co...   \n",
       "8962  Measurement of prostaglandin E2 in an inflammatory exudate: effects of nonsteroidal anti-inflammatory agents. A method was developed for extracting and measuring nanogram quantities of prostagland...   \n",
       "9732  The pharmacology of benoxaprofen (2-[4-chlorophenyl]-alpha-methyl-5-benzoxazole acetic acid), LRCL 3794, a new compound with antiinflammatory activity apparently unrelated to inhibition of prostag...   \n",
       "1592  Prevention of experimental gastric ulcers in rats by dial derivatives. In 111 rats divided into 5 groups, Ipronal (5-allyl-5-(beta-hydroxypropyl)-barbituric acid) protected rats from development o...   \n",
       "2531  Benorylate interaction with indomethacin and phenylbutazone. The simlutaneous oral administration of benorylate (4-(acetamido) phenyl 2-acetoxybenzoate) with either indomethacin or phenylbutazone ...   \n",
       "5918  Histamine H2-receptor antagonists in the treatment of duodenal ulcers. A double-blind trial of histamine H2-receptor antagonists and placebo was carried out in 46 patients with endoscopically prov...   \n",
       "9054  Drugs for peptic ulcer. Conservative management of peptic ulcer relies on the use of drugs as an adjuvant to the time-honored measures of avoiding stress, reducing gastric secretion, and regulatin...   \n",
       "\n",
       "       PMID  \\\n",
       "9027  17157   \n",
       "0        21   \n",
       "2083   4186   \n",
       "139     278   \n",
       "8962  17001   \n",
       "9732  18568   \n",
       "1592   3148   \n",
       "2531   5064   \n",
       "5918  11564   \n",
       "9054  17229   \n",
       "\n",
       "                                                                                                                                                                                                      cleaned  \n",
       "9027  peptic ulcer new aspect conservative therapy spite large number preparation medical therapy peptic ulcer disease long unsatisfactory antacids anticholinergic diet accelerate healing ulcer prevent ...  \n",
       "0     biochemical study camomile component iii vitro study antipeptic activity bisabolol author transl bisabolol primary antipeptic action depend dosage cause alteration ph value proteolytic activity pe...  \n",
       "2083  effect sas new n acylaminophenothiazine gastric secretion ulceration rat antiulcer antisecretory activity beta hydroxyethyl acetylphenothiazine sas investigate mg kg drug find possess potent antig...  \n",
       "139   biphasic ulcer forming ulcer prevent effect adrenaline rat adrenaline induce gastric ulceration study rat adrenaline high dose cause gastric ulcer completely block pretreatment alpha blocker pheno...  \n",
       "8962  measurement prostaglandin inflammatory exudate effect nonsteroidal anti inflammatory agent method develop extract measure nanogram quantity prostaglandin carrageenan induce abscess rat concentrati...  \n",
       "9732  pharmacology benoxaprofen benzoxazole acetic acid lrcl new compound antiinflammatory activity apparently unrelated inhibition prostaglandin synthesis benoxaprofen potent long act anti inflammatory...  \n",
       "1592  prevention experimental gastric ulcer rat dial derivative rat divide group ipronal acid protect rat development experimental ulceration gastric mucosa twice effectively diallylbarbituric acid comp...  \n",
       "2531  benorylate interaction indomethacin phenylbutazone simlutaneous oral administration benorylate phenyl acetoxybenzoate indomethacin phenylbutazone rat suffer freund adjuvant induced arthritis lead ...  \n",
       "5918  histamine receptor antagonist treatment duodenal ulcer double blind trial histamine receptor antagonist placebo carry patient endoscopically prove duodenal ulceration receptor antagonist metiamide...  \n",
       "9054  drug peptic ulcer conservative management peptic ulcer relie use drug adjuvant time honor measure avoid stress reduce gastric secretion regulating diet alkalies neutralize acid anticholinergic dru...  "
      ]
     },
     "execution_count": 25,
     "metadata": {},
     "output_type": "execute_result"
    }
   ],
   "source": [
    "# Load the original dataset to retrieve paper details\n",
    "top_k_papers = data.iloc[top_n_indices]\n",
    "\n",
    "top_k_papers"
   ]
  },
  {
   "cell_type": "code",
   "execution_count": 26,
   "id": "d9a8544a",
   "metadata": {},
   "outputs": [],
   "source": [
    "def BI_encoder(query, k=10, embeddings=embeddings, model=model):\n",
    "\n",
    "    # Preprocess the query\n",
    "    query_new = full_preprocessing(query)\n",
    "\n",
    "    # Encode the query\n",
    "    query_embedding = model.encode([query_new])\n",
    "\n",
    "    # Compute similarities\n",
    "    similarities = model.similarity(query_embedding, embeddings)\n",
    "\n",
    "    # Get the top `n` most similar papers\n",
    "    similarities_tensor = torch.tensor(similarities)\n",
    "    top_n_values, top_n_indices = torch.topk(similarities_tensor, k)\n",
    "    top_n_indices = top_n_indices.tolist()[0]\n",
    "\n",
    "    top_k_papers = data.iloc[top_n_indices]\n",
    "\n",
    "    return top_k_papers"
   ]
  },
  {
   "cell_type": "markdown",
   "id": "e773f049",
   "metadata": {},
   "source": [
    "Test running speed and accuracy"
   ]
  },
  {
   "cell_type": "code",
   "execution_count": 27,
   "id": "399ee857",
   "metadata": {},
   "outputs": [
    {
     "name": "stdout",
     "output_type": "stream",
     "text": [
      "Start testing...\n",
      "All papers have been tested.\n",
      "Accuracy: 0.9500\n",
      "Time Mean: 0.0154\n",
      "Time Std: 0.0040\n",
      "Time Max: 0.0233\n",
      "Time Min: 0.0058\n"
     ]
    },
    {
     "data": {
      "image/png": "[encoded data removed]",
      "text/plain": [
       "<Figure size 700x400 with 1 Axes>"
      ]
     },
     "metadata": {},
     "output_type": "display_data"
    },
    {
     "data": {
      "image/png": "[encoded data removed]",
      "text/plain": [
       "<Figure size 500x400 with 1 Axes>"
      ]
     },
     "metadata": {},
     "output_type": "display_data"
    },
    {
     "name": "stdout",
     "output_type": "stream",
     "text": [
      "Test result saved to BI_test_result.csv\n"
     ]
    }
   ],
   "source": [
    "import time\n",
    "import matplotlib.pyplot as plt\n",
    "\n",
    "def BI_time_test(test_df):\n",
    "    k = 1\n",
    "    test_result = test_df.copy()\n",
    "    test_result['top PMID'] = None\n",
    "    test_result['Time'] = None\n",
    "    test_result['hit'] = None\n",
    "    embeddings = torch.load('embeddings.pt', weights_only=False)\n",
    "    model = SentenceTransformer(\"all-MiniLM-L6-v2\", device='cuda' if torch.cuda.is_available() else 'cpu')\n",
    "\n",
    "    print(\"Start testing...\")\n",
    "    for _, row in test_df.iterrows():\n",
    "        start_time = time.time()\n",
    "        query = row['generated_query']\n",
    "\n",
    "        # Get the top 1 most similar papers\n",
    "        top_results = BI_encoder(query, k=k, embeddings=embeddings, model=model)\n",
    "        end_time = time.time()\n",
    "\n",
    "        test_result.loc[_, 'top PMID'] = top_results['PMID'].iloc[0]\n",
    "        test_result.loc[_, 'Time'] = end_time - start_time\n",
    "        test_result.loc[_, 'hit'] = 1 if test_result.loc[_, 'top PMID'] == row['PMID'] else 0\n",
    "    print(\"All papers have been tested.\")\n",
    "\n",
    "    accuracy = test_result['hit'].mean()\n",
    "    time_mean = test_result['Time'].mean()\n",
    "    time_std = test_result['Time'].std()\n",
    "    time_max = test_result['Time'].max()\n",
    "    time_min = test_result['Time'].min()\n",
    "    print(f\"Accuracy: {accuracy:.4f}\")\n",
    "    print(f\"Time Mean: {time_mean:.4f}\")\n",
    "    print(f\"Time Std: {time_std:.4f}\")\n",
    "    print(f\"Time Max: {time_max:.4f}\")\n",
    "    print(f\"Time Min: {time_min:.4f}\")\n",
    "\n",
    "    plt.figure(figsize=(7, 4))\n",
    "    plt.hist(test_result['Time'], bins=10, color='blue', alpha=0.7)\n",
    "    plt.title('Distribution of Inference Time per Query')\n",
    "    plt.xlabel('Time (seconds)')\n",
    "    plt.ylabel('Number of Queries')\n",
    "    plt.show()\n",
    "\n",
    "    hit_counts = test_result['hit'].value_counts()\n",
    "    plt.figure(figsize=(5, 4))\n",
    "    plt.bar(['Incorrect', 'Correct'], hit_counts.sort_index(), color=['red', 'Green'])\n",
    "    plt.title('Top-1 Prediction Accuracy')\n",
    "    plt.ylabel('Number of Queries')\n",
    "    plt.show()\n",
    "\n",
    "    test_result.to_csv('BI_test_result.csv', index=False)\n",
    "    print(\"Test result saved to BI_test_result.csv\")\n",
    "\n",
    "test_df = pd.read_csv('test.csv')   \n",
    "BI_time_test(test_df)"
   ]
  },
  {
   "cell_type": "markdown",
   "id": "60fc501c",
   "metadata": {},
   "source": [
    "Bi-encoder is fast but less accurate!"
   ]
  },
  {
   "cell_type": "markdown",
   "id": "18bf49c9",
   "metadata": {},
   "source": [
    "### 5. Cross encoder Implementation and Evaluation\n",
    "\n",
    "<img src=\"asset\\cr.png\" alt=\"My Image\" width=\"400\" height=\"400\">"
   ]
  },
  {
   "cell_type": "code",
   "execution_count": 28,
   "id": "550a17c5",
   "metadata": {},
   "outputs": [],
   "source": [
    "from sentence_transformers import CrossEncoder\n",
    "import pandas as pd\n",
    "import numpy as np\n",
    "import torch\n",
    "import warnings\n",
    "warnings.filterwarnings(\"ignore\")\n",
    "\n",
    "def CROSS_encoder(query, k=10, dataset=None, model=None):\n",
    "\n",
    "    data_list = dataset['cleaned'].tolist()\n",
    "\n",
    "    query_new = full_preprocessing(query)\n",
    "\n",
    "    # Create query-document pairs\n",
    "    cross_input = [[query_new, doc] for doc in data_list]\n",
    "\n",
    "    # Predict similarity scores\n",
    "    scores = model.predict(cross_input)\n",
    "\n",
    "    # Min-Max scaling to [0, 1]\n",
    "    min_score, max_score = scores.min(), scores.max()\n",
    "    scaled_scores = (scores - min_score) / (max_score - min_score)\n",
    "\n",
    "    # Get the top-k highest scoring documents\n",
    "    top_k_indices = np.argsort(scaled_scores)[-k:][::-1]\n",
    "    top_k_scores = scaled_scores[top_k_indices]\n",
    "\n",
    "    # Retrieve corresponding rows from the dataset\n",
    "    top_k_papers = dataset.iloc[top_k_indices].copy()\n",
    "    top_k_papers['cross_encoder_score'] = top_k_scores\n",
    "\n",
    "    reranked_papers = top_k_papers.sort_values(by='cross_encoder_score', ascending=False)\n",
    "\n",
    "    return reranked_papers"
   ]
  },
  {
   "cell_type": "markdown",
   "id": "c44d520e",
   "metadata": {},
   "source": [
    "The score is relevant, ranges from 0 to 1 (irrelevant to relevant)"
   ]
  },
  {
   "cell_type": "code",
   "execution_count": 29,
   "id": "c731a364",
   "metadata": {},
   "outputs": [
    {
     "data": {
      "text/html": [
       "<div>\n",
       "<style scoped>\n",
       "    .dataframe tbody tr th:only-of-type {\n",
       "        vertical-align: middle;\n",
       "    }\n",
       "\n",
       "    .dataframe tbody tr th {\n",
       "        vertical-align: top;\n",
       "    }\n",
       "\n",
       "    .dataframe thead th {\n",
       "        text-align: right;\n",
       "    }\n",
       "</style>\n",
       "<table border=\"1\" class=\"dataframe\">\n",
       "  <thead>\n",
       "    <tr style=\"text-align: right;\">\n",
       "      <th></th>\n",
       "      <th>id</th>\n",
       "      <th>title</th>\n",
       "      <th>content</th>\n",
       "      <th>contents</th>\n",
       "      <th>PMID</th>\n",
       "      <th>cleaned</th>\n",
       "      <th>cross_encoder_score</th>\n",
       "    </tr>\n",
       "  </thead>\n",
       "  <tbody>\n",
       "    <tr>\n",
       "      <th>0</th>\n",
       "      <td>pubmed23n0001_0</td>\n",
       "      <td>[Biochemical studies on camomile components/III. In vitro studies about the antipeptic activity of (--)-alpha-bisabolol (author's transl)].</td>\n",
       "      <td>(--)-alpha-Bisabolol has a primary antipeptic action depending on dosage, which is not caused by an alteration of the pH-value. The proteolytic activity of pepsin is reduced by 50 percent through ...</td>\n",
       "      <td>[Biochemical studies on camomile components/III. In vitro studies about the antipeptic activity of (--)-alpha-bisabolol (author's transl)]. (--)-alpha-Bisabolol has a primary antipeptic action dep...</td>\n",
       "      <td>21</td>\n",
       "      <td>biochemical study camomile component iii vitro study antipeptic activity bisabolol author transl bisabolol primary antipeptic action depend dosage cause alteration ph value proteolytic activity pe...</td>\n",
       "      <td>1.000000</td>\n",
       "    </tr>\n",
       "    <tr>\n",
       "      <th>139</th>\n",
       "      <td>pubmed23n0001_139</td>\n",
       "      <td>[Biphasic (ulcer-forming and ulcer-preventing) effect of adrenaline in rats].</td>\n",
       "      <td>Adrenaline-induced gastric ulceration was studied in rats. Adrenaline in high doses caused gastric ulcer, which was completely blocked by pretreatment with alpha-blockers (phenoxybenzamine, dibena...</td>\n",
       "      <td>[Biphasic (ulcer-forming and ulcer-preventing) effect of adrenaline in rats]. Adrenaline-induced gastric ulceration was studied in rats. Adrenaline in high doses caused gastric ulcer, which was co...</td>\n",
       "      <td>278</td>\n",
       "      <td>biphasic ulcer forming ulcer prevent effect adrenaline rat adrenaline induce gastric ulceration study rat adrenaline high dose cause gastric ulcer completely block pretreatment alpha blocker pheno...</td>\n",
       "      <td>0.741696</td>\n",
       "    </tr>\n",
       "    <tr>\n",
       "      <th>4794</th>\n",
       "      <td>pubmed23n0001_4794</td>\n",
       "      <td>[In vitro antibacterial effects of spectinomycin and penicillin G on Neisseria gonorrhoeae singly and in combination (author's transl)].</td>\n",
       "      <td>The antibacterial effects of spectinomycin and penicillin G on clinical isolates of Neisseria gonorrhoeae were studied. The concentrations of penicillin G at which the isolates showed drug sensiti...</td>\n",
       "      <td>[In vitro antibacterial effects of spectinomycin and penicillin G on Neisseria gonorrhoeae singly and in combination (author's transl)]. The antibacterial effects of spectinomycin and penicillin G...</td>\n",
       "      <td>9523</td>\n",
       "      <td>vitro antibacterial effect spectinomycin penicillin g neisseria gonorrhoeae singly combination author transl antibacterial effect spectinomycin penicillin g clinical isolate neisseria gonorrhoeae ...</td>\n",
       "      <td>0.677381</td>\n",
       "    </tr>\n",
       "    <tr>\n",
       "      <th>2083</th>\n",
       "      <td>pubmed23n0001_2083</td>\n",
       "      <td>Effect of SAS (a new 10-N-acylaminophenothiazine) on gastric secretion and ulceration in rats.</td>\n",
       "      <td>The antiulcer and antisecretory activity of 2-chloro-10-[4'(N-beta-hydroxyethyl) piperazinyl-1'] acetylphenothiazine (SAS) has been investigated. At 10 and 20 mg/kg (s.c.) the drug was found to po...</td>\n",
       "      <td>Effect of SAS (a new 10-N-acylaminophenothiazine) on gastric secretion and ulceration in rats. The antiulcer and antisecretory activity of 2-chloro-10-[4'(N-beta-hydroxyethyl) piperazinyl-1'] acet...</td>\n",
       "      <td>4186</td>\n",
       "      <td>effect sas new n acylaminophenothiazine gastric secretion ulceration rat antiulcer antisecretory activity beta hydroxyethyl acetylphenothiazine sas investigate mg kg drug find possess potent antig...</td>\n",
       "      <td>0.662320</td>\n",
       "    </tr>\n",
       "    <tr>\n",
       "      <th>9428</th>\n",
       "      <td>pubmed23n0001_9428</td>\n",
       "      <td>Effects of cimetidine, a histamine H2-receptor antagonist, on various experimental gastric and duodenal ulcers.</td>\n",
       "      <td>The effects of cimetidine, a new histamine H2-receptor antagonist, on the development of experimental gastric and duodenal ulcers were studied. It was found that either by the oral, intraduodenal,...</td>\n",
       "      <td>Effects of cimetidine, a histamine H2-receptor antagonist, on various experimental gastric and duodenal ulcers. The effects of cimetidine, a new histamine H2-receptor antagonist, on the developmen...</td>\n",
       "      <td>18007</td>\n",
       "      <td>effect cimetidine histamine receptor antagonist experimental gastric duodenal ulcer effect cimetidine new histamine receptor antagonist development experimental gastric duodenal ulcer study find o...</td>\n",
       "      <td>0.658798</td>\n",
       "    </tr>\n",
       "    <tr>\n",
       "      <th>4868</th>\n",
       "      <td>pubmed23n0001_4868</td>\n",
       "      <td>Studies on the action mechanism of the antihemostatic effect of lodopeptides.</td>\n",
       "      <td>A synthetic iodopeptide having a glutamic acid-diiodotyrosine molar ratio of 1:1 has been shown to be an effective anticoagulant both in vivo and in vitro. Contrasted with heparin the following ge...</td>\n",
       "      <td>Studies on the action mechanism of the antihemostatic effect of lodopeptides. A synthetic iodopeptide having a glutamic acid-diiodotyrosine molar ratio of 1:1 has been shown to be an effective ant...</td>\n",
       "      <td>9704</td>\n",
       "      <td>study action mechanism antihemostatic effect lodopeptide synthetic iodopeptide have glutamic acid diiodotyrosine molar ratio show effective anticoagulant vivo vitro contrast heparin follow general...</td>\n",
       "      <td>0.652572</td>\n",
       "    </tr>\n",
       "    <tr>\n",
       "      <th>4856</th>\n",
       "      <td>pubmed23n0001_4856</td>\n",
       "      <td>In vitro studies on the antimicrobial effects of colostrum and milk from vaccinated and unvaccinated pigs on Escherichia coli.</td>\n",
       "      <td>Unsupplemented porcine colostrum and milk exhibited a powerful bactericidal effect for porcine strains of E coli incubated in vitro at 37 degrees C. This activity was independent of complement but...</td>\n",
       "      <td>In vitro studies on the antimicrobial effects of colostrum and milk from vaccinated and unvaccinated pigs on Escherichia coli. Unsupplemented porcine colostrum and milk exhibited a powerful bacter...</td>\n",
       "      <td>9677</td>\n",
       "      <td>vitro study antimicrobial effect colostrum milk vaccinate unvaccinated pig escherichia coli unsupplemented porcine colostrum milk exhibit powerful bactericidal effect porcine strain e coli incubat...</td>\n",
       "      <td>0.637806</td>\n",
       "    </tr>\n",
       "    <tr>\n",
       "      <th>4248</th>\n",
       "      <td>pubmed23n0001_4248</td>\n",
       "      <td>Studies on the alpha-andrenergic activation of hepatic glucose output. II. Investigation of the roles of adenosine 3':5'-monophosphate and adenosine 3':5'-monophosphate-dependent protein kinase in...</td>\n",
       "      <td>The effects of the alpha-adrenergic agonist phenylephrine on the levels of adenosine 3':5'-monophosphate (cAMP) and the activity of the cAMP-dependent protein kinase in isolated rat liver parenchy...</td>\n",
       "      <td>Studies on the alpha-andrenergic activation of hepatic glucose output. II. Investigation of the roles of adenosine 3':5'-monophosphate and adenosine 3':5'-monophosphate-dependent protein kinase in...</td>\n",
       "      <td>8457</td>\n",
       "      <td>study alpha andrenergic activation hepatic glucose output ii investigation role adenosine adenosine dependent protein kinase action phenylephrine isolated hepatocyte effect alpha adrenergic agonis...</td>\n",
       "      <td>0.622631</td>\n",
       "    </tr>\n",
       "    <tr>\n",
       "      <th>4247</th>\n",
       "      <td>pubmed23n0001_4247</td>\n",
       "      <td>Studies on the alpha-adrenergic activation of hepatic glucose output. I. Studies on the alpha-adrenergic activation of phosphorylase and gluconeogenesis and inactivation of glycogen synthase in is...</td>\n",
       "      <td>Epinephrine and the alpha-adrenergic agonist phenylephrine activated phosphorylase, glycogenolysis, and gluconeogenesis from lactate in a dose-dependent manner in isolated rat liver parenchymal ce...</td>\n",
       "      <td>Studies on the alpha-adrenergic activation of hepatic glucose output. I. Studies on the alpha-adrenergic activation of phosphorylase and gluconeogenesis and inactivation of glycogen synthase in is...</td>\n",
       "      <td>8456</td>\n",
       "      <td>study alpha adrenergic activation hepatic glucose output studies alpha adrenergic activation phosphorylase gluconeogenesis inactivation glycogen synthase isolate rat liver parenchymal cell epineph...</td>\n",
       "      <td>0.611488</td>\n",
       "    </tr>\n",
       "    <tr>\n",
       "      <th>9027</th>\n",
       "      <td>pubmed23n0001_9027</td>\n",
       "      <td>[Peptic ulcer: new aspects of conservative therapy].</td>\n",
       "      <td>In spite of the large number of preparations, medical therapy of peptic ulcer disease has long been unsatisfactory. Antacids, anticholinergics and diet neither accelerate healing of ulcers nor pre...</td>\n",
       "      <td>[Peptic ulcer: new aspects of conservative therapy]. In spite of the large number of preparations, medical therapy of peptic ulcer disease has long been unsatisfactory. Antacids, anticholinergics ...</td>\n",
       "      <td>17157</td>\n",
       "      <td>peptic ulcer new aspect conservative therapy spite large number preparation medical therapy peptic ulcer disease long unsatisfactory antacids anticholinergic diet accelerate healing ulcer prevent ...</td>\n",
       "      <td>0.586713</td>\n",
       "    </tr>\n",
       "  </tbody>\n",
       "</table>\n",
       "</div>"
      ],
      "text/plain": [
       "                      id  \\\n",
       "0        pubmed23n0001_0   \n",
       "139    pubmed23n0001_139   \n",
       "4794  pubmed23n0001_4794   \n",
       "2083  pubmed23n0001_2083   \n",
       "9428  pubmed23n0001_9428   \n",
       "4868  pubmed23n0001_4868   \n",
       "4856  pubmed23n0001_4856   \n",
       "4248  pubmed23n0001_4248   \n",
       "4247  pubmed23n0001_4247   \n",
       "9027  pubmed23n0001_9027   \n",
       "\n",
       "                                                                                                                                                                                                        title  \\\n",
       "0                                                                 [Biochemical studies on camomile components/III. In vitro studies about the antipeptic activity of (--)-alpha-bisabolol (author's transl)].   \n",
       "139                                                                                                                             [Biphasic (ulcer-forming and ulcer-preventing) effect of adrenaline in rats].   \n",
       "4794                                                                 [In vitro antibacterial effects of spectinomycin and penicillin G on Neisseria gonorrhoeae singly and in combination (author's transl)].   \n",
       "2083                                                                                                           Effect of SAS (a new 10-N-acylaminophenothiazine) on gastric secretion and ulceration in rats.   \n",
       "9428                                                                                          Effects of cimetidine, a histamine H2-receptor antagonist, on various experimental gastric and duodenal ulcers.   \n",
       "4868                                                                                                                            Studies on the action mechanism of the antihemostatic effect of lodopeptides.   \n",
       "4856                                                                           In vitro studies on the antimicrobial effects of colostrum and milk from vaccinated and unvaccinated pigs on Escherichia coli.   \n",
       "4248  Studies on the alpha-andrenergic activation of hepatic glucose output. II. Investigation of the roles of adenosine 3':5'-monophosphate and adenosine 3':5'-monophosphate-dependent protein kinase in...   \n",
       "4247  Studies on the alpha-adrenergic activation of hepatic glucose output. I. Studies on the alpha-adrenergic activation of phosphorylase and gluconeogenesis and inactivation of glycogen synthase in is...   \n",
       "9027                                                                                                                                                     [Peptic ulcer: new aspects of conservative therapy].   \n",
       "\n",
       "                                                                                                                                                                                                      content  \\\n",
       "0     (--)-alpha-Bisabolol has a primary antipeptic action depending on dosage, which is not caused by an alteration of the pH-value. The proteolytic activity of pepsin is reduced by 50 percent through ...   \n",
       "139   Adrenaline-induced gastric ulceration was studied in rats. Adrenaline in high doses caused gastric ulcer, which was completely blocked by pretreatment with alpha-blockers (phenoxybenzamine, dibena...   \n",
       "4794  The antibacterial effects of spectinomycin and penicillin G on clinical isolates of Neisseria gonorrhoeae were studied. The concentrations of penicillin G at which the isolates showed drug sensiti...   \n",
       "2083  The antiulcer and antisecretory activity of 2-chloro-10-[4'(N-beta-hydroxyethyl) piperazinyl-1'] acetylphenothiazine (SAS) has been investigated. At 10 and 20 mg/kg (s.c.) the drug was found to po...   \n",
       "9428  The effects of cimetidine, a new histamine H2-receptor antagonist, on the development of experimental gastric and duodenal ulcers were studied. It was found that either by the oral, intraduodenal,...   \n",
       "4868  A synthetic iodopeptide having a glutamic acid-diiodotyrosine molar ratio of 1:1 has been shown to be an effective anticoagulant both in vivo and in vitro. Contrasted with heparin the following ge...   \n",
       "4856  Unsupplemented porcine colostrum and milk exhibited a powerful bactericidal effect for porcine strains of E coli incubated in vitro at 37 degrees C. This activity was independent of complement but...   \n",
       "4248  The effects of the alpha-adrenergic agonist phenylephrine on the levels of adenosine 3':5'-monophosphate (cAMP) and the activity of the cAMP-dependent protein kinase in isolated rat liver parenchy...   \n",
       "4247  Epinephrine and the alpha-adrenergic agonist phenylephrine activated phosphorylase, glycogenolysis, and gluconeogenesis from lactate in a dose-dependent manner in isolated rat liver parenchymal ce...   \n",
       "9027  In spite of the large number of preparations, medical therapy of peptic ulcer disease has long been unsatisfactory. Antacids, anticholinergics and diet neither accelerate healing of ulcers nor pre...   \n",
       "\n",
       "                                                                                                                                                                                                     contents  \\\n",
       "0     [Biochemical studies on camomile components/III. In vitro studies about the antipeptic activity of (--)-alpha-bisabolol (author's transl)]. (--)-alpha-Bisabolol has a primary antipeptic action dep...   \n",
       "139   [Biphasic (ulcer-forming and ulcer-preventing) effect of adrenaline in rats]. Adrenaline-induced gastric ulceration was studied in rats. Adrenaline in high doses caused gastric ulcer, which was co...   \n",
       "4794  [In vitro antibacterial effects of spectinomycin and penicillin G on Neisseria gonorrhoeae singly and in combination (author's transl)]. The antibacterial effects of spectinomycin and penicillin G...   \n",
       "2083  Effect of SAS (a new 10-N-acylaminophenothiazine) on gastric secretion and ulceration in rats. The antiulcer and antisecretory activity of 2-chloro-10-[4'(N-beta-hydroxyethyl) piperazinyl-1'] acet...   \n",
       "9428  Effects of cimetidine, a histamine H2-receptor antagonist, on various experimental gastric and duodenal ulcers. The effects of cimetidine, a new histamine H2-receptor antagonist, on the developmen...   \n",
       "4868  Studies on the action mechanism of the antihemostatic effect of lodopeptides. A synthetic iodopeptide having a glutamic acid-diiodotyrosine molar ratio of 1:1 has been shown to be an effective ant...   \n",
       "4856  In vitro studies on the antimicrobial effects of colostrum and milk from vaccinated and unvaccinated pigs on Escherichia coli. Unsupplemented porcine colostrum and milk exhibited a powerful bacter...   \n",
       "4248  Studies on the alpha-andrenergic activation of hepatic glucose output. II. Investigation of the roles of adenosine 3':5'-monophosphate and adenosine 3':5'-monophosphate-dependent protein kinase in...   \n",
       "4247  Studies on the alpha-adrenergic activation of hepatic glucose output. I. Studies on the alpha-adrenergic activation of phosphorylase and gluconeogenesis and inactivation of glycogen synthase in is...   \n",
       "9027  [Peptic ulcer: new aspects of conservative therapy]. In spite of the large number of preparations, medical therapy of peptic ulcer disease has long been unsatisfactory. Antacids, anticholinergics ...   \n",
       "\n",
       "       PMID  \\\n",
       "0        21   \n",
       "139     278   \n",
       "4794   9523   \n",
       "2083   4186   \n",
       "9428  18007   \n",
       "4868   9704   \n",
       "4856   9677   \n",
       "4248   8457   \n",
       "4247   8456   \n",
       "9027  17157   \n",
       "\n",
       "                                                                                                                                                                                                      cleaned  \\\n",
       "0     biochemical study camomile component iii vitro study antipeptic activity bisabolol author transl bisabolol primary antipeptic action depend dosage cause alteration ph value proteolytic activity pe...   \n",
       "139   biphasic ulcer forming ulcer prevent effect adrenaline rat adrenaline induce gastric ulceration study rat adrenaline high dose cause gastric ulcer completely block pretreatment alpha blocker pheno...   \n",
       "4794  vitro antibacterial effect spectinomycin penicillin g neisseria gonorrhoeae singly combination author transl antibacterial effect spectinomycin penicillin g clinical isolate neisseria gonorrhoeae ...   \n",
       "2083  effect sas new n acylaminophenothiazine gastric secretion ulceration rat antiulcer antisecretory activity beta hydroxyethyl acetylphenothiazine sas investigate mg kg drug find possess potent antig...   \n",
       "9428  effect cimetidine histamine receptor antagonist experimental gastric duodenal ulcer effect cimetidine new histamine receptor antagonist development experimental gastric duodenal ulcer study find o...   \n",
       "4868  study action mechanism antihemostatic effect lodopeptide synthetic iodopeptide have glutamic acid diiodotyrosine molar ratio show effective anticoagulant vivo vitro contrast heparin follow general...   \n",
       "4856  vitro study antimicrobial effect colostrum milk vaccinate unvaccinated pig escherichia coli unsupplemented porcine colostrum milk exhibit powerful bactericidal effect porcine strain e coli incubat...   \n",
       "4248  study alpha andrenergic activation hepatic glucose output ii investigation role adenosine adenosine dependent protein kinase action phenylephrine isolated hepatocyte effect alpha adrenergic agonis...   \n",
       "4247  study alpha adrenergic activation hepatic glucose output studies alpha adrenergic activation phosphorylase gluconeogenesis inactivation glycogen synthase isolate rat liver parenchymal cell epineph...   \n",
       "9027  peptic ulcer new aspect conservative therapy spite large number preparation medical therapy peptic ulcer disease long unsatisfactory antacids anticholinergic diet accelerate healing ulcer prevent ...   \n",
       "\n",
       "      cross_encoder_score  \n",
       "0                1.000000  \n",
       "139              0.741696  \n",
       "4794             0.677381  \n",
       "2083             0.662320  \n",
       "9428             0.658798  \n",
       "4868             0.652572  \n",
       "4856             0.637806  \n",
       "4248             0.622631  \n",
       "4247             0.611488  \n",
       "9027             0.586713  "
      ]
     },
     "execution_count": 29,
     "metadata": {},
     "output_type": "execute_result"
    }
   ],
   "source": [
    "query = \"What are other studies exploring in vitro antipeptic or anti-ulcer effects of terpenoids or natural products like alpha-bisabolol?\"\n",
    "dataset = pd.read_csv('train_clean.csv')\n",
    "k = 10\n",
    "model = CrossEncoder('cross-encoder/ms-marco-MiniLM-L6-v2', device='cuda' if torch.cuda.is_available() else 'cpu')\n",
    "CROSS_encoder(query, k=k, dataset=dataset, model=model)"
   ]
  },
  {
   "cell_type": "markdown",
   "id": "14ee0f12",
   "metadata": {},
   "source": [
    "Test running speed and accuracy"
   ]
  },
  {
   "cell_type": "code",
   "execution_count": 30,
   "id": "61cbf3ea",
   "metadata": {},
   "outputs": [
    {
     "name": "stdout",
     "output_type": "stream",
     "text": [
      "Start testing...\n",
      "All papers have been tested.\n",
      "Accuracy: 0.9900\n",
      "Time Mean: 16.4511\n",
      "Time Std: 0.3471\n",
      "Time Max: 17.6196\n",
      "Time Min: 15.7288\n"
     ]
    },
    {
     "data": {
      "image/png": "[encoded data removed]",
      "text/plain": [
       "<Figure size 700x400 with 1 Axes>"
      ]
     },
     "metadata": {},
     "output_type": "display_data"
    },
    {
     "data": {
      "image/png": "[encoded data removed]",
      "text/plain": [
       "<Figure size 640x480 with 1 Axes>"
      ]
     },
     "metadata": {},
     "output_type": "display_data"
    },
    {
     "name": "stdout",
     "output_type": "stream",
     "text": [
      "Test result saved to Cross_test_result.csv\n"
     ]
    }
   ],
   "source": [
    "import time\n",
    "import matplotlib.pyplot as plt\n",
    "\n",
    "def CROSS_time_test(test_df):\n",
    "    k = 1\n",
    "    dataset = pd.read_csv('train_clean.csv')\n",
    "    test_result = test_df.copy()\n",
    "    test_result['top PMID'] = None\n",
    "    test_result['Time'] = None\n",
    "    test_result['hit'] = None\n",
    "    model = CrossEncoder('cross-encoder/ms-marco-MiniLM-L6-v2', device='cuda' if torch.cuda.is_available() else 'cpu')\n",
    "\n",
    "    print(\"Start testing...\")\n",
    "    for _, row in test_df.iterrows():\n",
    "        start_time = time.time()\n",
    "        query = row['generated_query']\n",
    "\n",
    "        # Get the top 1 most similar papers\n",
    "        top_results = CROSS_encoder(query, k=k, dataset=dataset, model=model)\n",
    "        end_time = time.time()\n",
    "\n",
    "        test_result.loc[_, 'top PMID'] = top_results['PMID'].iloc[0]\n",
    "        test_result.loc[_, 'Time'] = end_time - start_time\n",
    "        test_result.loc[_, 'hit'] = 1 if test_result.loc[_, 'top PMID'] == row['PMID'] else 0\n",
    "    print(\"All papers have been tested.\")\n",
    "\n",
    "    accuracy = test_result['hit'].mean()\n",
    "    time_mean = test_result['Time'].mean()\n",
    "    time_std = test_result['Time'].std()\n",
    "    time_max = test_result['Time'].max()\n",
    "    time_min = test_result['Time'].min()\n",
    "    print(f\"Accuracy: {accuracy:.4f}\")\n",
    "    print(f\"Time Mean: {time_mean:.4f}\")\n",
    "    print(f\"Time Std: {time_std:.4f}\")\n",
    "    print(f\"Time Max: {time_max:.4f}\")\n",
    "    print(f\"Time Min: {time_min:.4f}\")\n",
    "\n",
    "    plt.figure(figsize=(7, 4))\n",
    "    plt.hist(test_result['Time'], bins=10, color='blue', alpha=0.7)\n",
    "    plt.title('Distribution of Inference Time per Query')\n",
    "    plt.xlabel('Time (seconds)')\n",
    "    plt.ylabel('Number of Queries')\n",
    "    plt.show()\n",
    "\n",
    "    hit_counts = test_result['hit'].value_counts().reindex([0, 1], fill_value=0)\n",
    "    plt.bar(['Incorrect', 'Correct'], hit_counts.sort_index(), color=['red', 'Green'])\n",
    "    plt.title('Top-1 Prediction Accuracy')\n",
    "    plt.ylabel('Number of Queries')\n",
    "    plt.show()\n",
    "\n",
    "    test_result.to_csv('CROSS_test_result.csv', index=False)\n",
    "    print(\"Test result saved to Cross_test_result.csv\")\n",
    "\n",
    "test_df = pd.read_csv('test.csv')   \n",
    "CROSS_time_test(test_df)"
   ]
  },
  {
   "cell_type": "markdown",
   "id": "223b06f8",
   "metadata": {},
   "source": [
    "Cross-encoder has 100% accuracy, but it's too slow!"
   ]
  },
  {
   "cell_type": "markdown",
   "id": "b97f7ac3",
   "metadata": {},
   "source": [
    "### 6. Re-ranker: Combination of Bi-encoder and Cross Encoder"
   ]
  },
  {
   "cell_type": "code",
   "execution_count": 31,
   "id": "41f7585a",
   "metadata": {},
   "outputs": [],
   "source": [
    "from sentence_transformers import SentenceTransformer, CrossEncoder\n",
    "import pandas as pd\n",
    "import torch\n",
    "\n",
    "bi_model = SentenceTransformer(\"all-MiniLM-L6-v2\", device='cuda' if torch.cuda.is_available() else 'cpu')\n",
    "cross_model = CrossEncoder('cross-encoder/ms-marco-MiniLM-L6-v2', device='cuda' if torch.cuda.is_available() else 'cpu')\n",
    "embeddings = torch.load('embeddings.pt', weights_only=False)\n",
    "\n",
    "def Merge_encoder(query, k=10, embeddings=embeddings, bi_model=bi_model, cross_model=cross_model):\n",
    "\n",
    "    # Load the original dataset to retrieve paper details\n",
    "    dataset = BI_encoder(query, k=k, embeddings=embeddings, model=bi_model)\n",
    "\n",
    "    top_k_papers = CROSS_encoder(query, k=k, dataset=dataset, model=cross_model)\n",
    "\n",
    "    return top_k_papers.iloc[:5]"
   ]
  },
  {
   "cell_type": "code",
   "execution_count": 32,
   "id": "c6d76b85",
   "metadata": {},
   "outputs": [
    {
     "data": {
      "text/html": [
       "<div>\n",
       "<style scoped>\n",
       "    .dataframe tbody tr th:only-of-type {\n",
       "        vertical-align: middle;\n",
       "    }\n",
       "\n",
       "    .dataframe tbody tr th {\n",
       "        vertical-align: top;\n",
       "    }\n",
       "\n",
       "    .dataframe thead th {\n",
       "        text-align: right;\n",
       "    }\n",
       "</style>\n",
       "<table border=\"1\" class=\"dataframe\">\n",
       "  <thead>\n",
       "    <tr style=\"text-align: right;\">\n",
       "      <th></th>\n",
       "      <th>id</th>\n",
       "      <th>title</th>\n",
       "      <th>content</th>\n",
       "      <th>contents</th>\n",
       "      <th>PMID</th>\n",
       "      <th>cleaned</th>\n",
       "      <th>cross_encoder_score</th>\n",
       "    </tr>\n",
       "  </thead>\n",
       "  <tbody>\n",
       "    <tr>\n",
       "      <th>0</th>\n",
       "      <td>pubmed23n0001_0</td>\n",
       "      <td>[Biochemical studies on camomile components/III. In vitro studies about the antipeptic activity of (--)-alpha-bisabolol (author's transl)].</td>\n",
       "      <td>(--)-alpha-Bisabolol has a primary antipeptic action depending on dosage, which is not caused by an alteration of the pH-value. The proteolytic activity of pepsin is reduced by 50 percent through ...</td>\n",
       "      <td>[Biochemical studies on camomile components/III. In vitro studies about the antipeptic activity of (--)-alpha-bisabolol (author's transl)]. (--)-alpha-Bisabolol has a primary antipeptic action dep...</td>\n",
       "      <td>21</td>\n",
       "      <td>biochemical study camomile component iii vitro study antipeptic activity bisabolol author transl bisabolol primary antipeptic action depend dosage cause alteration ph value proteolytic activity pe...</td>\n",
       "      <td>1.000000</td>\n",
       "    </tr>\n",
       "    <tr>\n",
       "      <th>139</th>\n",
       "      <td>pubmed23n0001_139</td>\n",
       "      <td>[Biphasic (ulcer-forming and ulcer-preventing) effect of adrenaline in rats].</td>\n",
       "      <td>Adrenaline-induced gastric ulceration was studied in rats. Adrenaline in high doses caused gastric ulcer, which was completely blocked by pretreatment with alpha-blockers (phenoxybenzamine, dibena...</td>\n",
       "      <td>[Biphasic (ulcer-forming and ulcer-preventing) effect of adrenaline in rats]. Adrenaline-induced gastric ulceration was studied in rats. Adrenaline in high doses caused gastric ulcer, which was co...</td>\n",
       "      <td>278</td>\n",
       "      <td>biphasic ulcer forming ulcer prevent effect adrenaline rat adrenaline induce gastric ulceration study rat adrenaline high dose cause gastric ulcer completely block pretreatment alpha blocker pheno...</td>\n",
       "      <td>0.643701</td>\n",
       "    </tr>\n",
       "    <tr>\n",
       "      <th>2083</th>\n",
       "      <td>pubmed23n0001_2083</td>\n",
       "      <td>Effect of SAS (a new 10-N-acylaminophenothiazine) on gastric secretion and ulceration in rats.</td>\n",
       "      <td>The antiulcer and antisecretory activity of 2-chloro-10-[4'(N-beta-hydroxyethyl) piperazinyl-1'] acetylphenothiazine (SAS) has been investigated. At 10 and 20 mg/kg (s.c.) the drug was found to po...</td>\n",
       "      <td>Effect of SAS (a new 10-N-acylaminophenothiazine) on gastric secretion and ulceration in rats. The antiulcer and antisecretory activity of 2-chloro-10-[4'(N-beta-hydroxyethyl) piperazinyl-1'] acet...</td>\n",
       "      <td>4186</td>\n",
       "      <td>effect sas new n acylaminophenothiazine gastric secretion ulceration rat antiulcer antisecretory activity beta hydroxyethyl acetylphenothiazine sas investigate mg kg drug find possess potent antig...</td>\n",
       "      <td>0.534212</td>\n",
       "    </tr>\n",
       "    <tr>\n",
       "      <th>9027</th>\n",
       "      <td>pubmed23n0001_9027</td>\n",
       "      <td>[Peptic ulcer: new aspects of conservative therapy].</td>\n",
       "      <td>In spite of the large number of preparations, medical therapy of peptic ulcer disease has long been unsatisfactory. Antacids, anticholinergics and diet neither accelerate healing of ulcers nor pre...</td>\n",
       "      <td>[Peptic ulcer: new aspects of conservative therapy]. In spite of the large number of preparations, medical therapy of peptic ulcer disease has long been unsatisfactory. Antacids, anticholinergics ...</td>\n",
       "      <td>17157</td>\n",
       "      <td>peptic ulcer new aspect conservative therapy spite large number preparation medical therapy peptic ulcer disease long unsatisfactory antacids anticholinergic diet accelerate healing ulcer prevent ...</td>\n",
       "      <td>0.429921</td>\n",
       "    </tr>\n",
       "    <tr>\n",
       "      <th>9054</th>\n",
       "      <td>pubmed23n0001_9054</td>\n",
       "      <td>Drugs for peptic ulcer.</td>\n",
       "      <td>Conservative management of peptic ulcer relies on the use of drugs as an adjuvant to the time-honored measures of avoiding stress, reducing gastric secretion, and regulating the diet. Alkalies neu...</td>\n",
       "      <td>Drugs for peptic ulcer. Conservative management of peptic ulcer relies on the use of drugs as an adjuvant to the time-honored measures of avoiding stress, reducing gastric secretion, and regulatin...</td>\n",
       "      <td>17229</td>\n",
       "      <td>drug peptic ulcer conservative management peptic ulcer relie use drug adjuvant time honor measure avoid stress reduce gastric secretion regulating diet alkalies neutralize acid anticholinergic dru...</td>\n",
       "      <td>0.296282</td>\n",
       "    </tr>\n",
       "  </tbody>\n",
       "</table>\n",
       "</div>"
      ],
      "text/plain": [
       "                      id  \\\n",
       "0        pubmed23n0001_0   \n",
       "139    pubmed23n0001_139   \n",
       "2083  pubmed23n0001_2083   \n",
       "9027  pubmed23n0001_9027   \n",
       "9054  pubmed23n0001_9054   \n",
       "\n",
       "                                                                                                                                            title  \\\n",
       "0     [Biochemical studies on camomile components/III. In vitro studies about the antipeptic activity of (--)-alpha-bisabolol (author's transl)].   \n",
       "139                                                                 [Biphasic (ulcer-forming and ulcer-preventing) effect of adrenaline in rats].   \n",
       "2083                                               Effect of SAS (a new 10-N-acylaminophenothiazine) on gastric secretion and ulceration in rats.   \n",
       "9027                                                                                         [Peptic ulcer: new aspects of conservative therapy].   \n",
       "9054                                                                                                                      Drugs for peptic ulcer.   \n",
       "\n",
       "                                                                                                                                                                                                      content  \\\n",
       "0     (--)-alpha-Bisabolol has a primary antipeptic action depending on dosage, which is not caused by an alteration of the pH-value. The proteolytic activity of pepsin is reduced by 50 percent through ...   \n",
       "139   Adrenaline-induced gastric ulceration was studied in rats. Adrenaline in high doses caused gastric ulcer, which was completely blocked by pretreatment with alpha-blockers (phenoxybenzamine, dibena...   \n",
       "2083  The antiulcer and antisecretory activity of 2-chloro-10-[4'(N-beta-hydroxyethyl) piperazinyl-1'] acetylphenothiazine (SAS) has been investigated. At 10 and 20 mg/kg (s.c.) the drug was found to po...   \n",
       "9027  In spite of the large number of preparations, medical therapy of peptic ulcer disease has long been unsatisfactory. Antacids, anticholinergics and diet neither accelerate healing of ulcers nor pre...   \n",
       "9054  Conservative management of peptic ulcer relies on the use of drugs as an adjuvant to the time-honored measures of avoiding stress, reducing gastric secretion, and regulating the diet. Alkalies neu...   \n",
       "\n",
       "                                                                                                                                                                                                     contents  \\\n",
       "0     [Biochemical studies on camomile components/III. In vitro studies about the antipeptic activity of (--)-alpha-bisabolol (author's transl)]. (--)-alpha-Bisabolol has a primary antipeptic action dep...   \n",
       "139   [Biphasic (ulcer-forming and ulcer-preventing) effect of adrenaline in rats]. Adrenaline-induced gastric ulceration was studied in rats. Adrenaline in high doses caused gastric ulcer, which was co...   \n",
       "2083  Effect of SAS (a new 10-N-acylaminophenothiazine) on gastric secretion and ulceration in rats. The antiulcer and antisecretory activity of 2-chloro-10-[4'(N-beta-hydroxyethyl) piperazinyl-1'] acet...   \n",
       "9027  [Peptic ulcer: new aspects of conservative therapy]. In spite of the large number of preparations, medical therapy of peptic ulcer disease has long been unsatisfactory. Antacids, anticholinergics ...   \n",
       "9054  Drugs for peptic ulcer. Conservative management of peptic ulcer relies on the use of drugs as an adjuvant to the time-honored measures of avoiding stress, reducing gastric secretion, and regulatin...   \n",
       "\n",
       "       PMID  \\\n",
       "0        21   \n",
       "139     278   \n",
       "2083   4186   \n",
       "9027  17157   \n",
       "9054  17229   \n",
       "\n",
       "                                                                                                                                                                                                      cleaned  \\\n",
       "0     biochemical study camomile component iii vitro study antipeptic activity bisabolol author transl bisabolol primary antipeptic action depend dosage cause alteration ph value proteolytic activity pe...   \n",
       "139   biphasic ulcer forming ulcer prevent effect adrenaline rat adrenaline induce gastric ulceration study rat adrenaline high dose cause gastric ulcer completely block pretreatment alpha blocker pheno...   \n",
       "2083  effect sas new n acylaminophenothiazine gastric secretion ulceration rat antiulcer antisecretory activity beta hydroxyethyl acetylphenothiazine sas investigate mg kg drug find possess potent antig...   \n",
       "9027  peptic ulcer new aspect conservative therapy spite large number preparation medical therapy peptic ulcer disease long unsatisfactory antacids anticholinergic diet accelerate healing ulcer prevent ...   \n",
       "9054  drug peptic ulcer conservative management peptic ulcer relie use drug adjuvant time honor measure avoid stress reduce gastric secretion regulating diet alkalies neutralize acid anticholinergic dru...   \n",
       "\n",
       "      cross_encoder_score  \n",
       "0                1.000000  \n",
       "139              0.643701  \n",
       "2083             0.534212  \n",
       "9027             0.429921  \n",
       "9054             0.296282  "
      ]
     },
     "execution_count": 32,
     "metadata": {},
     "output_type": "execute_result"
    }
   ],
   "source": [
    "bi_model = SentenceTransformer(\"all-MiniLM-L6-v2\", device='cuda' if torch.cuda.is_available() else 'cpu')\n",
    "cross_model = CrossEncoder('cross-encoder/ms-marco-MiniLM-L6-v2', device='cuda' if torch.cuda.is_available() else 'cpu')\n",
    "embeddings = torch.load('embeddings.pt', weights_only=False)\n",
    "query = \"What are other studies exploring in vitro antipeptic or anti-ulcer effects of terpenoids or natural products like alpha-bisabolol?\"\n",
    "k = 10\n",
    "Merge_encoder(query, k=k, embeddings=embeddings, bi_model=bi_model, cross_model=cross_model)"
   ]
  },
  {
   "cell_type": "code",
   "execution_count": 33,
   "id": "548b12b7",
   "metadata": {},
   "outputs": [
    {
     "name": "stdout",
     "output_type": "stream",
     "text": [
      "Start testing...\n",
      "All papers have been tested.\n",
      "Accuracy: 0.9800\n",
      "Time Mean: 0.0449\n",
      "Time Std: 0.0092\n",
      "Time Max: 0.0918\n",
      "Time Min: 0.0304\n"
     ]
    },
    {
     "data": {
      "image/png": "[encoded data removed]",
      "text/plain": [
       "<Figure size 700x400 with 1 Axes>"
      ]
     },
     "metadata": {},
     "output_type": "display_data"
    },
    {
     "data": {
      "image/png": "[encoded data removed]",
      "text/plain": [
       "<Figure size 500x400 with 1 Axes>"
      ]
     },
     "metadata": {},
     "output_type": "display_data"
    },
    {
     "name": "stdout",
     "output_type": "stream",
     "text": [
      "Test result saved to Merge_test_result.csv\n"
     ]
    }
   ],
   "source": [
    "import time\n",
    "import matplotlib.pyplot as plt\n",
    "\n",
    "def Merge_time_test(test_df):\n",
    "    k = 10\n",
    "    test_result = test_df.copy()\n",
    "    test_result['top PMID'] = None\n",
    "    test_result['Time'] = None\n",
    "    test_result['hit'] = None\n",
    "\n",
    "    bi_model = SentenceTransformer(\"all-MiniLM-L6-v2\", device='cuda' if torch.cuda.is_available() else 'cpu')\n",
    "    cross_model = CrossEncoder('cross-encoder/ms-marco-MiniLM-L6-v2', device='cuda' if torch.cuda.is_available() else 'cpu')\n",
    "    embeddings = torch.load('embeddings.pt', weights_only=False)\n",
    "\n",
    "    print(\"Start testing...\")\n",
    "    for _, row in test_df.iterrows():\n",
    "        start_time = time.time()\n",
    "        query = row['generated_query']\n",
    "\n",
    "        # Get the top 1 most similar papers\n",
    "        top_results = Merge_encoder(query, k=k, embeddings=embeddings, bi_model=bi_model, cross_model=cross_model)\n",
    "        end_time = time.time()\n",
    "\n",
    "        test_result.loc[_, 'top PMID'] = top_results['PMID'].iloc[0]\n",
    "        test_result.loc[_, 'Time'] = end_time - start_time\n",
    "        test_result.loc[_, 'hit'] = 1 if test_result.loc[_, 'top PMID'] == row['PMID'] else 0\n",
    "    print(\"All papers have been tested.\")\n",
    "\n",
    "    accuracy = test_result['hit'].mean()\n",
    "    time_mean = test_result['Time'].mean()\n",
    "    time_std = test_result['Time'].std()\n",
    "    time_max = test_result['Time'].max()\n",
    "    time_min = test_result['Time'].min()\n",
    "    print(f\"Accuracy: {accuracy:.4f}\")\n",
    "    print(f\"Time Mean: {time_mean:.4f}\")\n",
    "    print(f\"Time Std: {time_std:.4f}\")\n",
    "    print(f\"Time Max: {time_max:.4f}\")\n",
    "    print(f\"Time Min: {time_min:.4f}\")\n",
    "\n",
    "    plt.figure(figsize=(7, 4))\n",
    "    plt.hist(test_result['Time'], bins=10, color='blue', alpha=0.7)\n",
    "    plt.title('Distribution of Inference Time per Query')\n",
    "    plt.xlabel('Time (seconds)')\n",
    "    plt.ylabel('Number of Queries')\n",
    "    plt.show()\n",
    "\n",
    "    hit_counts = test_result['hit'].value_counts()\n",
    "    plt.figure(figsize=(5, 4))\n",
    "    plt.bar(['Incorrect', 'Correct'], hit_counts.sort_index(), color=['red', 'Green'])\n",
    "    plt.title('Top-1 Prediction Accuracy')\n",
    "    plt.ylabel('Number of Queries')\n",
    "    plt.show()\n",
    "\n",
    "    test_result.to_csv('Merge_test_result.csv', index=False)\n",
    "    print(\"Test result saved to Merge_test_result.csv\")\n",
    "\n",
    "test_df = pd.read_csv('test.csv')   \n",
    "Merge_time_test(test_df)"
   ]
  },
  {
   "cell_type": "markdown",
   "id": "ab0481f8",
   "metadata": {},
   "source": [
    "Like Bi-encoder, the Re-ranker runs every query within 1 second.  \n",
    "Like Cross-encoder, the Re-ranker accuracy is pretty high."
   ]
  },
  {
   "cell_type": "code",
   "execution_count": 34,
   "id": "9e65a23a",
   "metadata": {},
   "outputs": [
    {
     "data": {
      "application/vnd.plotly.v1+json": {
       "config": {
        "plotlyServerURL": "https://plot.ly"
       },
       "data": [
        {
         "bingroup": "1",
         "marker": {
          "color": "blue"
         },
         "name": "Bi-encoder",
         "opacity": 0.6,
         "type": "histogram",
         "x": [
          0.0206658840179443,
          0.0201685428619384,
          0.017380952835083,
          0.0101380348205566,
          0.020059585571289,
          0.0200076103210449,
          0.0167479515075683,
          0.0132749080657958,
          0.0101606845855712,
          0.0123476982116699,
          0.018228530883789,
          0.0118958950042724,
          0.018289566040039,
          0.0149462223052978,
          0.016702651977539,
          0.0087566375732421,
          0.0101921558380126,
          0.0133197307586669,
          0.0179526805877685,
          0.0083413124084472,
          0.0208392143249511,
          0.0169994831085205,
          0.0164403915405273,
          0.0129315853118896,
          0.0121891498565673,
          0.0142948627471923,
          0.0197672843933105,
          0.0183470249176025,
          0.0115070343017578,
          0.0158030986785888,
          0.0206077098846435,
          0.0138025283813476,
          0.0196750164031982,
          0.0162413120269775,
          0.0157027244567871,
          0.0175278186798095,
          0.0120530128479003,
          0.0102214813232421,
          0.018996238708496,
          0.0167548656463623,
          0.01715087890625,
          0.014988899230957,
          0.0158643722534179,
          0.0184526443481445,
          0.016768455505371,
          0.0124280452728271,
          0.0206015110015869,
          0.0057804584503173,
          0.0197908878326416,
          0.0197908878326416,
          0.0149588584899902,
          0.016824722290039,
          0.0180814266204834,
          0.0232949256896972,
          0.0087080001831054,
          0.0184066295623779,
          0.0097959041595458,
          0.0099883079528808,
          0.0200002193450927,
          0.0165553092956542,
          0.0132312774658203,
          0.0119802951812744,
          0.018122911453247,
          0.0083320140838623,
          0.0206773281097412,
          0.0095984935760498,
          0.0184910297393798,
          0.0102841854095458,
          0.0217378139495849,
          0.0106599330902099,
          0.0192139148712158,
          0.0066874027252197,
          0.0148236751556396,
          0.0128641128540039,
          0.0144073963165283,
          0.0210599899291992,
          0.0101146697998046,
          0.0187618732452392,
          0.0162780284881591,
          0.0161247253417968,
          0.0176191329956054,
          0.0101888179779052,
          0.0199356079101562,
          0.0199470520019531,
          0.0123090744018554,
          0.0173931121826171,
          0.0152585506439208,
          0.0147967338562011,
          0.0200986862182617,
          0.0103042125701904,
          0.0197741985321044,
          0.0128219127655029,
          0.0171790122985839,
          0.0119926929473876,
          0.0200886726379394,
          0.0081398487091064,
          0.0188336372375488,
          0.0110549926757812,
          0.0168547630310058,
          0.0138678550720214
         ],
         "xbins": {
          "end": 1,
          "size": 0.001,
          "start": 0
         }
        },
        {
         "bingroup": "1",
         "marker": {
          "color": "green"
         },
         "name": "Merge-encoder",
         "opacity": 0.6,
         "type": "histogram",
         "x": [
          0.0917880535125732,
          0.0791778564453125,
          0.0789816379547119,
          0.0626206398010253,
          0.0581681728363037,
          0.0699315071105957,
          0.051105260848999,
          0.049936294555664,
          0.0476973056793212,
          0.0420756340026855,
          0.0578160285949707,
          0.0550689697265625,
          0.0458080768585205,
          0.0390529632568359,
          0.0568189620971679,
          0.0332651138305664,
          0.0502309799194335,
          0.0399398803710937,
          0.0451743602752685,
          0.0445702075958251,
          0.0400521755218505,
          0.0550713539123535,
          0.0373737812042236,
          0.0459277629852294,
          0.0436286926269531,
          0.0381538867950439,
          0.0409705638885498,
          0.04620361328125,
          0.0409715175628662,
          0.045844554901123,
          0.0402441024780273,
          0.039762258529663,
          0.0375175476074218,
          0.0417239665985107,
          0.0499393939971923,
          0.0401051044464111,
          0.0399420261383056,
          0.041670799255371,
          0.0398976802825927,
          0.0458106994628906,
          0.0460133552551269,
          0.0406525135040283,
          0.0417799949645996,
          0.0457298755645751,
          0.0417542457580566,
          0.037447452545166,
          0.0483920574188232,
          0.0400166511535644,
          0.040118932723999,
          0.0422179698944091,
          0.0459687709808349,
          0.0417022705078125,
          0.0457611083984375,
          0.0443229675292968,
          0.0398151874542236,
          0.0407502651214599,
          0.0491163730621337,
          0.0481610298156738,
          0.0419790744781494,
          0.0522701740264892,
          0.0377230644226074,
          0.0471863746643066,
          0.04278564453125,
          0.0401523113250732,
          0.0406343936920166,
          0.0416927337646484,
          0.0475389957427978,
          0.0402028560638427,
          0.0417683124542236,
          0.0380473136901855,
          0.0449881553649902,
          0.0450794696807861,
          0.0423345565795898,
          0.037550926208496,
          0.0457792282104492,
          0.0395648479461669,
          0.0397627353668212,
          0.0373334884643554,
          0.0416913032531738,
          0.0521144866943359,
          0.0338687896728515,
          0.0500633716583251,
          0.0438501834869384,
          0.036722183227539,
          0.0444452762603759,
          0.0433168411254882,
          0.040043830871582,
          0.0374295711517334,
          0.0377178192138671,
          0.0449061393737793,
          0.040295124053955,
          0.0395910739898681,
          0.0478777885437011,
          0.0303511619567871,
          0.0470430850982666,
          0.043492317199707,
          0.0392775535583496,
          0.0482709407806396,
          0.03395676612854,
          0.0391290187835693
         ],
         "xbins": {
          "end": 1,
          "size": 0.001,
          "start": 0
         }
        }
       ],
       "layout": {
        "bargap": 0.1,
        "barmode": "overlay",
        "height": 400,
        "template": {
         "data": {
          "bar": [
           {
            "error_x": {
             "color": "#2a3f5f"
            },
            "error_y": {
             "color": "#2a3f5f"
            },
            "marker": {
             "line": {
              "color": "#E5ECF6",
              "width": 0.5
             },
             "pattern": {
              "fillmode": "overlay",
              "size": 10,
              "solidity": 0.2
             }
            },
            "type": "bar"
           }
          ],
          "barpolar": [
           {
            "marker": {
             "line": {
              "color": "#E5ECF6",
              "width": 0.5
             },
             "pattern": {
              "fillmode": "overlay",
              "size": 10,
              "solidity": 0.2
             }
            },
            "type": "barpolar"
           }
          ],
          "carpet": [
           {
            "aaxis": {
             "endlinecolor": "#2a3f5f",
             "gridcolor": "white",
             "linecolor": "white",
             "minorgridcolor": "white",
             "startlinecolor": "#2a3f5f"
            },
            "baxis": {
             "endlinecolor": "#2a3f5f",
             "gridcolor": "white",
             "linecolor": "white",
             "minorgridcolor": "white",
             "startlinecolor": "#2a3f5f"
            },
            "type": "carpet"
           }
          ],
          "choropleth": [
           {
            "colorbar": {
             "outlinewidth": 0,
             "ticks": ""
            },
            "type": "choropleth"
           }
          ],
          "contour": [
           {
            "colorbar": {
             "outlinewidth": 0,
             "ticks": ""
            },
            "colorscale": [
             [
              0,
              "#0d0887"
             ],
             [
              0.1111111111111111,
              "#46039f"
             ],
             [
              0.2222222222222222,
              "#7201a8"
             ],
             [
              0.3333333333333333,
              "#9c179e"
             ],
             [
              0.4444444444444444,
              "#bd3786"
             ],
             [
              0.5555555555555556,
              "#d8576b"
             ],
             [
              0.6666666666666666,
              "#ed7953"
             ],
             [
              0.7777777777777778,
              "#fb9f3a"
             ],
             [
              0.8888888888888888,
              "#fdca26"
             ],
             [
              1,
              "#f0f921"
             ]
            ],
            "type": "contour"
           }
          ],
          "contourcarpet": [
           {
            "colorbar": {
             "outlinewidth": 0,
             "ticks": ""
            },
            "type": "contourcarpet"
           }
          ],
          "heatmap": [
           {
            "colorbar": {
             "outlinewidth": 0,
             "ticks": ""
            },
            "colorscale": [
             [
              0,
              "#0d0887"
             ],
             [
              0.1111111111111111,
              "#46039f"
             ],
             [
              0.2222222222222222,
              "#7201a8"
             ],
             [
              0.3333333333333333,
              "#9c179e"
             ],
             [
              0.4444444444444444,
              "#bd3786"
             ],
             [
              0.5555555555555556,
              "#d8576b"
             ],
             [
              0.6666666666666666,
              "#ed7953"
             ],
             [
              0.7777777777777778,
              "#fb9f3a"
             ],
             [
              0.8888888888888888,
              "#fdca26"
             ],
             [
              1,
              "#f0f921"
             ]
            ],
            "type": "heatmap"
           }
          ],
          "histogram": [
           {
            "marker": {
             "pattern": {
              "fillmode": "overlay",
              "size": 10,
              "solidity": 0.2
             }
            },
            "type": "histogram"
           }
          ],
          "histogram2d": [
           {
            "colorbar": {
             "outlinewidth": 0,
             "ticks": ""
            },
            "colorscale": [
             [
              0,
              "#0d0887"
             ],
             [
              0.1111111111111111,
              "#46039f"
             ],
             [
              0.2222222222222222,
              "#7201a8"
             ],
             [
              0.3333333333333333,
              "#9c179e"
             ],
             [
              0.4444444444444444,
              "#bd3786"
             ],
             [
              0.5555555555555556,
              "#d8576b"
             ],
             [
              0.6666666666666666,
              "#ed7953"
             ],
             [
              0.7777777777777778,
              "#fb9f3a"
             ],
             [
              0.8888888888888888,
              "#fdca26"
             ],
             [
              1,
              "#f0f921"
             ]
            ],
            "type": "histogram2d"
           }
          ],
          "histogram2dcontour": [
           {
            "colorbar": {
             "outlinewidth": 0,
             "ticks": ""
            },
            "colorscale": [
             [
              0,
              "#0d0887"
             ],
             [
              0.1111111111111111,
              "#46039f"
             ],
             [
              0.2222222222222222,
              "#7201a8"
             ],
             [
              0.3333333333333333,
              "#9c179e"
             ],
             [
              0.4444444444444444,
              "#bd3786"
             ],
             [
              0.5555555555555556,
              "#d8576b"
             ],
             [
              0.6666666666666666,
              "#ed7953"
             ],
             [
              0.7777777777777778,
              "#fb9f3a"
             ],
             [
              0.8888888888888888,
              "#fdca26"
             ],
             [
              1,
              "#f0f921"
             ]
            ],
            "type": "histogram2dcontour"
           }
          ],
          "mesh3d": [
           {
            "colorbar": {
             "outlinewidth": 0,
             "ticks": ""
            },
            "type": "mesh3d"
           }
          ],
          "parcoords": [
           {
            "line": {
             "colorbar": {
              "outlinewidth": 0,
              "ticks": ""
             }
            },
            "type": "parcoords"
           }
          ],
          "pie": [
           {
            "automargin": true,
            "type": "pie"
           }
          ],
          "scatter": [
           {
            "fillpattern": {
             "fillmode": "overlay",
             "size": 10,
             "solidity": 0.2
            },
            "type": "scatter"
           }
          ],
          "scatter3d": [
           {
            "line": {
             "colorbar": {
              "outlinewidth": 0,
              "ticks": ""
             }
            },
            "marker": {
             "colorbar": {
              "outlinewidth": 0,
              "ticks": ""
             }
            },
            "type": "scatter3d"
           }
          ],
          "scattercarpet": [
           {
            "marker": {
             "colorbar": {
              "outlinewidth": 0,
              "ticks": ""
             }
            },
            "type": "scattercarpet"
           }
          ],
          "scattergeo": [
           {
            "marker": {
             "colorbar": {
              "outlinewidth": 0,
              "ticks": ""
             }
            },
            "type": "scattergeo"
           }
          ],
          "scattergl": [
           {
            "marker": {
             "colorbar": {
              "outlinewidth": 0,
              "ticks": ""
             }
            },
            "type": "scattergl"
           }
          ],
          "scattermap": [
           {
            "marker": {
             "colorbar": {
              "outlinewidth": 0,
              "ticks": ""
             }
            },
            "type": "scattermap"
           }
          ],
          "scattermapbox": [
           {
            "marker": {
             "colorbar": {
              "outlinewidth": 0,
              "ticks": ""
             }
            },
            "type": "scattermapbox"
           }
          ],
          "scatterpolar": [
           {
            "marker": {
             "colorbar": {
              "outlinewidth": 0,
              "ticks": ""
             }
            },
            "type": "scatterpolar"
           }
          ],
          "scatterpolargl": [
           {
            "marker": {
             "colorbar": {
              "outlinewidth": 0,
              "ticks": ""
             }
            },
            "type": "scatterpolargl"
           }
          ],
          "scatterternary": [
           {
            "marker": {
             "colorbar": {
              "outlinewidth": 0,
              "ticks": ""
             }
            },
            "type": "scatterternary"
           }
          ],
          "surface": [
           {
            "colorbar": {
             "outlinewidth": 0,
             "ticks": ""
            },
            "colorscale": [
             [
              0,
              "#0d0887"
             ],
             [
              0.1111111111111111,
              "#46039f"
             ],
             [
              0.2222222222222222,
              "#7201a8"
             ],
             [
              0.3333333333333333,
              "#9c179e"
             ],
             [
              0.4444444444444444,
              "#bd3786"
             ],
             [
              0.5555555555555556,
              "#d8576b"
             ],
             [
              0.6666666666666666,
              "#ed7953"
             ],
             [
              0.7777777777777778,
              "#fb9f3a"
             ],
             [
              0.8888888888888888,
              "#fdca26"
             ],
             [
              1,
              "#f0f921"
             ]
            ],
            "type": "surface"
           }
          ],
          "table": [
           {
            "cells": {
             "fill": {
              "color": "#EBF0F8"
             },
             "line": {
              "color": "white"
             }
            },
            "header": {
             "fill": {
              "color": "#C8D4E3"
             },
             "line": {
              "color": "white"
             }
            },
            "type": "table"
           }
          ]
         },
         "layout": {
          "annotationdefaults": {
           "arrowcolor": "#2a3f5f",
           "arrowhead": 0,
           "arrowwidth": 1
          },
          "autotypenumbers": "strict",
          "coloraxis": {
           "colorbar": {
            "outlinewidth": 0,
            "ticks": ""
           }
          },
          "colorscale": {
           "diverging": [
            [
             0,
             "#8e0152"
            ],
            [
             0.1,
             "#c51b7d"
            ],
            [
             0.2,
             "#de77ae"
            ],
            [
             0.3,
             "#f1b6da"
            ],
            [
             0.4,
             "#fde0ef"
            ],
            [
             0.5,
             "#f7f7f7"
            ],
            [
             0.6,
             "#e6f5d0"
            ],
            [
             0.7,
             "#b8e186"
            ],
            [
             0.8,
             "#7fbc41"
            ],
            [
             0.9,
             "#4d9221"
            ],
            [
             1,
             "#276419"
            ]
           ],
           "sequential": [
            [
             0,
             "#0d0887"
            ],
            [
             0.1111111111111111,
             "#46039f"
            ],
            [
             0.2222222222222222,
             "#7201a8"
            ],
            [
             0.3333333333333333,
             "#9c179e"
            ],
            [
             0.4444444444444444,
             "#bd3786"
            ],
            [
             0.5555555555555556,
             "#d8576b"
            ],
            [
             0.6666666666666666,
             "#ed7953"
            ],
            [
             0.7777777777777778,
             "#fb9f3a"
            ],
            [
             0.8888888888888888,
             "#fdca26"
            ],
            [
             1,
             "#f0f921"
            ]
           ],
           "sequentialminus": [
            [
             0,
             "#0d0887"
            ],
            [
             0.1111111111111111,
             "#46039f"
            ],
            [
             0.2222222222222222,
             "#7201a8"
            ],
            [
             0.3333333333333333,
             "#9c179e"
            ],
            [
             0.4444444444444444,
             "#bd3786"
            ],
            [
             0.5555555555555556,
             "#d8576b"
            ],
            [
             0.6666666666666666,
             "#ed7953"
            ],
            [
             0.7777777777777778,
             "#fb9f3a"
            ],
            [
             0.8888888888888888,
             "#fdca26"
            ],
            [
             1,
             "#f0f921"
            ]
           ]
          },
          "colorway": [
           "#636efa",
           "#EF553B",
           "#00cc96",
           "#ab63fa",
           "#FFA15A",
           "#19d3f3",
           "#FF6692",
           "#B6E880",
           "#FF97FF",
           "#FECB52"
          ],
          "font": {
           "color": "#2a3f5f"
          },
          "geo": {
           "bgcolor": "white",
           "lakecolor": "white",
           "landcolor": "#E5ECF6",
           "showlakes": true,
           "showland": true,
           "subunitcolor": "white"
          },
          "hoverlabel": {
           "align": "left"
          },
          "hovermode": "closest",
          "mapbox": {
           "style": "light"
          },
          "paper_bgcolor": "white",
          "plot_bgcolor": "#E5ECF6",
          "polar": {
           "angularaxis": {
            "gridcolor": "white",
            "linecolor": "white",
            "ticks": ""
           },
           "bgcolor": "#E5ECF6",
           "radialaxis": {
            "gridcolor": "white",
            "linecolor": "white",
            "ticks": ""
           }
          },
          "scene": {
           "xaxis": {
            "backgroundcolor": "#E5ECF6",
            "gridcolor": "white",
            "gridwidth": 2,
            "linecolor": "white",
            "showbackground": true,
            "ticks": "",
            "zerolinecolor": "white"
           },
           "yaxis": {
            "backgroundcolor": "#E5ECF6",
            "gridcolor": "white",
            "gridwidth": 2,
            "linecolor": "white",
            "showbackground": true,
            "ticks": "",
            "zerolinecolor": "white"
           },
           "zaxis": {
            "backgroundcolor": "#E5ECF6",
            "gridcolor": "white",
            "gridwidth": 2,
            "linecolor": "white",
            "showbackground": true,
            "ticks": "",
            "zerolinecolor": "white"
           }
          },
          "shapedefaults": {
           "line": {
            "color": "#2a3f5f"
           }
          },
          "ternary": {
           "aaxis": {
            "gridcolor": "white",
            "linecolor": "white",
            "ticks": ""
           },
           "baxis": {
            "gridcolor": "white",
            "linecolor": "white",
            "ticks": ""
           },
           "bgcolor": "#E5ECF6",
           "caxis": {
            "gridcolor": "white",
            "linecolor": "white",
            "ticks": ""
           }
          },
          "title": {
           "x": 0.05
          },
          "xaxis": {
           "automargin": true,
           "gridcolor": "white",
           "linecolor": "white",
           "ticks": "",
           "title": {
            "standoff": 15
           },
           "zerolinecolor": "white",
           "zerolinewidth": 2
          },
          "yaxis": {
           "automargin": true,
           "gridcolor": "white",
           "linecolor": "white",
           "ticks": "",
           "title": {
            "standoff": 15
           },
           "zerolinecolor": "white",
           "zerolinewidth": 2
          }
         }
        },
        "title": {
         "text": "Comparison of Running Time Distributions"
        },
        "width": 600,
        "xaxis": {
         "title": {
          "text": "Time (seconds)"
         }
        },
        "yaxis": {
         "title": {
          "text": "Count"
         }
        }
       }
      }
     },
     "metadata": {},
     "output_type": "display_data"
    }
   ],
   "source": [
    "import plotly.graph_objects as go\n",
    "import pandas as pd\n",
    "\n",
    "bi = pd.read_csv('BI_test_result.csv')\n",
    "merge = pd.read_csv('Merge_test_result.csv')\n",
    "\n",
    "time_bi_encoder = bi.loc[:, 'Time'].tolist()\n",
    "time_merge_encoder = merge.loc[:, 'Time'].tolist()\n",
    "\n",
    "fig = go.Figure()\n",
    "\n",
    "fig.add_trace(go.Histogram(\n",
    "    x=time_bi_encoder,\n",
    "    name='Bi-encoder',\n",
    "    opacity=0.6,\n",
    "    bingroup=1, \n",
    "    marker=dict(color='blue'),\n",
    "    xbins=dict(start=0, end=1, size=0.001)  \n",
    "))\n",
    "\n",
    "fig.add_trace(go.Histogram(\n",
    "    x=time_merge_encoder,\n",
    "    name='Merge-encoder',\n",
    "    opacity=0.6,\n",
    "    bingroup=1,\n",
    "    marker=dict(color='green'),\n",
    "    xbins=dict(start=0, end=1, size=0.001)\n",
    "))\n",
    "\n",
    "fig.update_layout(\n",
    "    title='Comparison of Running Time Distributions',\n",
    "    xaxis_title='Time (seconds)',\n",
    "    yaxis_title='Count',\n",
    "    barmode='overlay', \n",
    "    bargap=0.1,\n",
    "    height=400, \n",
    "    width=600 \n",
    ")\n",
    "\n",
    "fig.show()\n"
   ]
  },
  {
   "cell_type": "code",
   "execution_count": 35,
   "id": "b2a100b3",
   "metadata": {},
   "outputs": [
    {
     "data": {
      "application/vnd.plotly.v1+json": {
       "config": {
        "plotlyServerURL": "https://plot.ly"
       },
       "data": [
        {
         "marker": {
          "color": "blue"
         },
         "name": "Bi-encoder",
         "type": "bar",
         "x": [
          "Bi-encoder"
         ],
         "y": [
          0.95
         ]
        },
        {
         "marker": {
          "color": "red"
         },
         "name": "Cross-encoder",
         "type": "bar",
         "x": [
          "Cross-encoder"
         ],
         "y": [
          0.99
         ]
        },
        {
         "marker": {
          "color": "green"
         },
         "name": "Merge-encoder",
         "type": "bar",
         "x": [
          "Merge-encoder"
         ],
         "y": [
          0.98
         ]
        }
       ],
       "layout": {
        "barmode": "group",
        "height": 400,
        "showlegend": false,
        "template": {
         "data": {
          "bar": [
           {
            "error_x": {
             "color": "#2a3f5f"
            },
            "error_y": {
             "color": "#2a3f5f"
            },
            "marker": {
             "line": {
              "color": "#E5ECF6",
              "width": 0.5
             },
             "pattern": {
              "fillmode": "overlay",
              "size": 10,
              "solidity": 0.2
             }
            },
            "type": "bar"
           }
          ],
          "barpolar": [
           {
            "marker": {
             "line": {
              "color": "#E5ECF6",
              "width": 0.5
             },
             "pattern": {
              "fillmode": "overlay",
              "size": 10,
              "solidity": 0.2
             }
            },
            "type": "barpolar"
           }
          ],
          "carpet": [
           {
            "aaxis": {
             "endlinecolor": "#2a3f5f",
             "gridcolor": "white",
             "linecolor": "white",
             "minorgridcolor": "white",
             "startlinecolor": "#2a3f5f"
            },
            "baxis": {
             "endlinecolor": "#2a3f5f",
             "gridcolor": "white",
             "linecolor": "white",
             "minorgridcolor": "white",
             "startlinecolor": "#2a3f5f"
            },
            "type": "carpet"
           }
          ],
          "choropleth": [
           {
            "colorbar": {
             "outlinewidth": 0,
             "ticks": ""
            },
            "type": "choropleth"
           }
          ],
          "contour": [
           {
            "colorbar": {
             "outlinewidth": 0,
             "ticks": ""
            },
            "colorscale": [
             [
              0,
              "#0d0887"
             ],
             [
              0.1111111111111111,
              "#46039f"
             ],
             [
              0.2222222222222222,
              "#7201a8"
             ],
             [
              0.3333333333333333,
              "#9c179e"
             ],
             [
              0.4444444444444444,
              "#bd3786"
             ],
             [
              0.5555555555555556,
              "#d8576b"
             ],
             [
              0.6666666666666666,
              "#ed7953"
             ],
             [
              0.7777777777777778,
              "#fb9f3a"
             ],
             [
              0.8888888888888888,
              "#fdca26"
             ],
             [
              1,
              "#f0f921"
             ]
            ],
            "type": "contour"
           }
          ],
          "contourcarpet": [
           {
            "colorbar": {
             "outlinewidth": 0,
             "ticks": ""
            },
            "type": "contourcarpet"
           }
          ],
          "heatmap": [
           {
            "colorbar": {
             "outlinewidth": 0,
             "ticks": ""
            },
            "colorscale": [
             [
              0,
              "#0d0887"
             ],
             [
              0.1111111111111111,
              "#46039f"
             ],
             [
              0.2222222222222222,
              "#7201a8"
             ],
             [
              0.3333333333333333,
              "#9c179e"
             ],
             [
              0.4444444444444444,
              "#bd3786"
             ],
             [
              0.5555555555555556,
              "#d8576b"
             ],
             [
              0.6666666666666666,
              "#ed7953"
             ],
             [
              0.7777777777777778,
              "#fb9f3a"
             ],
             [
              0.8888888888888888,
              "#fdca26"
             ],
             [
              1,
              "#f0f921"
             ]
            ],
            "type": "heatmap"
           }
          ],
          "histogram": [
           {
            "marker": {
             "pattern": {
              "fillmode": "overlay",
              "size": 10,
              "solidity": 0.2
             }
            },
            "type": "histogram"
           }
          ],
          "histogram2d": [
           {
            "colorbar": {
             "outlinewidth": 0,
             "ticks": ""
            },
            "colorscale": [
             [
              0,
              "#0d0887"
             ],
             [
              0.1111111111111111,
              "#46039f"
             ],
             [
              0.2222222222222222,
              "#7201a8"
             ],
             [
              0.3333333333333333,
              "#9c179e"
             ],
             [
              0.4444444444444444,
              "#bd3786"
             ],
             [
              0.5555555555555556,
              "#d8576b"
             ],
             [
              0.6666666666666666,
              "#ed7953"
             ],
             [
              0.7777777777777778,
              "#fb9f3a"
             ],
             [
              0.8888888888888888,
              "#fdca26"
             ],
             [
              1,
              "#f0f921"
             ]
            ],
            "type": "histogram2d"
           }
          ],
          "histogram2dcontour": [
           {
            "colorbar": {
             "outlinewidth": 0,
             "ticks": ""
            },
            "colorscale": [
             [
              0,
              "#0d0887"
             ],
             [
              0.1111111111111111,
              "#46039f"
             ],
             [
              0.2222222222222222,
              "#7201a8"
             ],
             [
              0.3333333333333333,
              "#9c179e"
             ],
             [
              0.4444444444444444,
              "#bd3786"
             ],
             [
              0.5555555555555556,
              "#d8576b"
             ],
             [
              0.6666666666666666,
              "#ed7953"
             ],
             [
              0.7777777777777778,
              "#fb9f3a"
             ],
             [
              0.8888888888888888,
              "#fdca26"
             ],
             [
              1,
              "#f0f921"
             ]
            ],
            "type": "histogram2dcontour"
           }
          ],
          "mesh3d": [
           {
            "colorbar": {
             "outlinewidth": 0,
             "ticks": ""
            },
            "type": "mesh3d"
           }
          ],
          "parcoords": [
           {
            "line": {
             "colorbar": {
              "outlinewidth": 0,
              "ticks": ""
             }
            },
            "type": "parcoords"
           }
          ],
          "pie": [
           {
            "automargin": true,
            "type": "pie"
           }
          ],
          "scatter": [
           {
            "fillpattern": {
             "fillmode": "overlay",
             "size": 10,
             "solidity": 0.2
            },
            "type": "scatter"
           }
          ],
          "scatter3d": [
           {
            "line": {
             "colorbar": {
              "outlinewidth": 0,
              "ticks": ""
             }
            },
            "marker": {
             "colorbar": {
              "outlinewidth": 0,
              "ticks": ""
             }
            },
            "type": "scatter3d"
           }
          ],
          "scattercarpet": [
           {
            "marker": {
             "colorbar": {
              "outlinewidth": 0,
              "ticks": ""
             }
            },
            "type": "scattercarpet"
           }
          ],
          "scattergeo": [
           {
            "marker": {
             "colorbar": {
              "outlinewidth": 0,
              "ticks": ""
             }
            },
            "type": "scattergeo"
           }
          ],
          "scattergl": [
           {
            "marker": {
             "colorbar": {
              "outlinewidth": 0,
              "ticks": ""
             }
            },
            "type": "scattergl"
           }
          ],
          "scattermap": [
           {
            "marker": {
             "colorbar": {
              "outlinewidth": 0,
              "ticks": ""
             }
            },
            "type": "scattermap"
           }
          ],
          "scattermapbox": [
           {
            "marker": {
             "colorbar": {
              "outlinewidth": 0,
              "ticks": ""
             }
            },
            "type": "scattermapbox"
           }
          ],
          "scatterpolar": [
           {
            "marker": {
             "colorbar": {
              "outlinewidth": 0,
              "ticks": ""
             }
            },
            "type": "scatterpolar"
           }
          ],
          "scatterpolargl": [
           {
            "marker": {
             "colorbar": {
              "outlinewidth": 0,
              "ticks": ""
             }
            },
            "type": "scatterpolargl"
           }
          ],
          "scatterternary": [
           {
            "marker": {
             "colorbar": {
              "outlinewidth": 0,
              "ticks": ""
             }
            },
            "type": "scatterternary"
           }
          ],
          "surface": [
           {
            "colorbar": {
             "outlinewidth": 0,
             "ticks": ""
            },
            "colorscale": [
             [
              0,
              "#0d0887"
             ],
             [
              0.1111111111111111,
              "#46039f"
             ],
             [
              0.2222222222222222,
              "#7201a8"
             ],
             [
              0.3333333333333333,
              "#9c179e"
             ],
             [
              0.4444444444444444,
              "#bd3786"
             ],
             [
              0.5555555555555556,
              "#d8576b"
             ],
             [
              0.6666666666666666,
              "#ed7953"
             ],
             [
              0.7777777777777778,
              "#fb9f3a"
             ],
             [
              0.8888888888888888,
              "#fdca26"
             ],
             [
              1,
              "#f0f921"
             ]
            ],
            "type": "surface"
           }
          ],
          "table": [
           {
            "cells": {
             "fill": {
              "color": "#EBF0F8"
             },
             "line": {
              "color": "white"
             }
            },
            "header": {
             "fill": {
              "color": "#C8D4E3"
             },
             "line": {
              "color": "white"
             }
            },
            "type": "table"
           }
          ]
         },
         "layout": {
          "annotationdefaults": {
           "arrowcolor": "#2a3f5f",
           "arrowhead": 0,
           "arrowwidth": 1
          },
          "autotypenumbers": "strict",
          "coloraxis": {
           "colorbar": {
            "outlinewidth": 0,
            "ticks": ""
           }
          },
          "colorscale": {
           "diverging": [
            [
             0,
             "#8e0152"
            ],
            [
             0.1,
             "#c51b7d"
            ],
            [
             0.2,
             "#de77ae"
            ],
            [
             0.3,
             "#f1b6da"
            ],
            [
             0.4,
             "#fde0ef"
            ],
            [
             0.5,
             "#f7f7f7"
            ],
            [
             0.6,
             "#e6f5d0"
            ],
            [
             0.7,
             "#b8e186"
            ],
            [
             0.8,
             "#7fbc41"
            ],
            [
             0.9,
             "#4d9221"
            ],
            [
             1,
             "#276419"
            ]
           ],
           "sequential": [
            [
             0,
             "#0d0887"
            ],
            [
             0.1111111111111111,
             "#46039f"
            ],
            [
             0.2222222222222222,
             "#7201a8"
            ],
            [
             0.3333333333333333,
             "#9c179e"
            ],
            [
             0.4444444444444444,
             "#bd3786"
            ],
            [
             0.5555555555555556,
             "#d8576b"
            ],
            [
             0.6666666666666666,
             "#ed7953"
            ],
            [
             0.7777777777777778,
             "#fb9f3a"
            ],
            [
             0.8888888888888888,
             "#fdca26"
            ],
            [
             1,
             "#f0f921"
            ]
           ],
           "sequentialminus": [
            [
             0,
             "#0d0887"
            ],
            [
             0.1111111111111111,
             "#46039f"
            ],
            [
             0.2222222222222222,
             "#7201a8"
            ],
            [
             0.3333333333333333,
             "#9c179e"
            ],
            [
             0.4444444444444444,
             "#bd3786"
            ],
            [
             0.5555555555555556,
             "#d8576b"
            ],
            [
             0.6666666666666666,
             "#ed7953"
            ],
            [
             0.7777777777777778,
             "#fb9f3a"
            ],
            [
             0.8888888888888888,
             "#fdca26"
            ],
            [
             1,
             "#f0f921"
            ]
           ]
          },
          "colorway": [
           "#636efa",
           "#EF553B",
           "#00cc96",
           "#ab63fa",
           "#FFA15A",
           "#19d3f3",
           "#FF6692",
           "#B6E880",
           "#FF97FF",
           "#FECB52"
          ],
          "font": {
           "color": "#2a3f5f"
          },
          "geo": {
           "bgcolor": "white",
           "lakecolor": "white",
           "landcolor": "#E5ECF6",
           "showlakes": true,
           "showland": true,
           "subunitcolor": "white"
          },
          "hoverlabel": {
           "align": "left"
          },
          "hovermode": "closest",
          "mapbox": {
           "style": "light"
          },
          "paper_bgcolor": "white",
          "plot_bgcolor": "#E5ECF6",
          "polar": {
           "angularaxis": {
            "gridcolor": "white",
            "linecolor": "white",
            "ticks": ""
           },
           "bgcolor": "#E5ECF6",
           "radialaxis": {
            "gridcolor": "white",
            "linecolor": "white",
            "ticks": ""
           }
          },
          "scene": {
           "xaxis": {
            "backgroundcolor": "#E5ECF6",
            "gridcolor": "white",
            "gridwidth": 2,
            "linecolor": "white",
            "showbackground": true,
            "ticks": "",
            "zerolinecolor": "white"
           },
           "yaxis": {
            "backgroundcolor": "#E5ECF6",
            "gridcolor": "white",
            "gridwidth": 2,
            "linecolor": "white",
            "showbackground": true,
            "ticks": "",
            "zerolinecolor": "white"
           },
           "zaxis": {
            "backgroundcolor": "#E5ECF6",
            "gridcolor": "white",
            "gridwidth": 2,
            "linecolor": "white",
            "showbackground": true,
            "ticks": "",
            "zerolinecolor": "white"
           }
          },
          "shapedefaults": {
           "line": {
            "color": "#2a3f5f"
           }
          },
          "ternary": {
           "aaxis": {
            "gridcolor": "white",
            "linecolor": "white",
            "ticks": ""
           },
           "baxis": {
            "gridcolor": "white",
            "linecolor": "white",
            "ticks": ""
           },
           "bgcolor": "#E5ECF6",
           "caxis": {
            "gridcolor": "white",
            "linecolor": "white",
            "ticks": ""
           }
          },
          "title": {
           "x": 0.05
          },
          "xaxis": {
           "automargin": true,
           "gridcolor": "white",
           "linecolor": "white",
           "ticks": "",
           "title": {
            "standoff": 15
           },
           "zerolinecolor": "white",
           "zerolinewidth": 2
          },
          "yaxis": {
           "automargin": true,
           "gridcolor": "white",
           "linecolor": "white",
           "ticks": "",
           "title": {
            "standoff": 15
           },
           "zerolinecolor": "white",
           "zerolinewidth": 2
          }
         }
        },
        "title": {
         "text": "Comparison of Accuracy Across RAG Techniques"
        },
        "width": 600,
        "xaxis": {
         "title": {
          "text": "RAG Techniques"
         }
        },
        "yaxis": {
         "range": [
          0.9,
          1
         ],
         "tickformat": ".2%",
         "title": {
          "text": "Accuracy"
         }
        }
       }
      }
     },
     "metadata": {},
     "output_type": "display_data"
    }
   ],
   "source": [
    "import plotly.graph_objects as go\n",
    "import pandas as pd\n",
    "\n",
    "bi = pd.read_csv('BI_test_result.csv')\n",
    "cross = pd.read_csv('CROSS_test_result.csv')\n",
    "merge = pd.read_csv('Merge_test_result.csv')\n",
    "\n",
    "bi_accuracy = bi['hit'].sum() / len(bi) \n",
    "cross_accuracy = cross['hit'].sum() / len(cross)\n",
    "merge_accuracy = merge['hit'].sum() / len(merge)\n",
    "\n",
    "fig = go.Figure()\n",
    "\n",
    "# Add the accuracy for Bi-encoder\n",
    "fig.add_trace(go.Bar(\n",
    "    x=['Bi-encoder'],\n",
    "    y=[bi_accuracy],\n",
    "    name='Bi-encoder',\n",
    "    marker=dict(color='blue')  # Blue for Bi-encoder\n",
    "))\n",
    "\n",
    "# Add the accuracy for Cross-encoder\n",
    "fig.add_trace(go.Bar(\n",
    "    x=['Cross-encoder'],\n",
    "    y=[cross_accuracy],\n",
    "    name='Cross-encoder',\n",
    "    marker=dict(color='red')  # Red for Cross-encoder\n",
    "))\n",
    "\n",
    "# Add the accuracy for Merge-encoder\n",
    "fig.add_trace(go.Bar(\n",
    "    x=['Merge-encoder'],\n",
    "    y=[merge_accuracy],\n",
    "    name='Merge-encoder',\n",
    "    marker=dict(color='green')  # Green for Merge-encoder\n",
    "))\n",
    "\n",
    "# Update layout to customize the plot\n",
    "fig.update_layout(\n",
    "    title='Comparison of Accuracy Across RAG Techniques',\n",
    "    xaxis_title='RAG Techniques',\n",
    "    yaxis_title='Accuracy',\n",
    "    showlegend=False,\n",
    "    yaxis=dict(tickformat='.2%', range=[0.9, 1]),  # Display accuracy as percentage\n",
    "    barmode='group',\n",
    "    height=400, \n",
    "    width=600 \n",
    ")\n",
    "\n",
    "# Show the plot\n",
    "fig.show()"
   ]
  },
  {
   "cell_type": "markdown",
   "id": "d3422374",
   "metadata": {},
   "source": [
    "### 7. Calling LLM to generate result"
   ]
  },
  {
   "cell_type": "code",
   "execution_count": 36,
   "id": "18152bf0",
   "metadata": {},
   "outputs": [],
   "source": [
    "import re\n",
    "import ollama\n",
    "def call_llm(rank_papers, query, temperature=0.4):\n",
    "\n",
    "    rank_list = zip(rank_papers['PMID'], rank_papers['title'], rank_papers['content'])\n",
    "\n",
    "    client = ollama.Client()\n",
    "\n",
    "    model = \"medical-paper\"\n",
    "\n",
    "    prompt = f\"\"\"\n",
    "    You are a medical paper recommendation assistant. \n",
    "    Your task is to recommend relevant medical papers based on user's requirement.\n",
    "    Here is the topic user interested in: {query}\n",
    "    Below are the top 5 most relevant papers that I found from my database. Give your reconmmendation only based on these information.\n",
    "    \"\"\"\n",
    "\n",
    "    prompt += f\"\"\"\n",
    "    Please refer to the papers using their exact Title and url from this list.\n",
    "    Do not invent new titles or URLs.\n",
    "\n",
    "    Available papers:\"\"\"\n",
    "\n",
    "    i = 1\n",
    "    for pmid, title, content in rank_list:\n",
    "        prompt += f\"\"\"\\n\n",
    "      [{i}] Title: {title}\n",
    "            URL: https://pubmed.ncbi.nlm.nih.gov/{pmid}/\n",
    "            Content: {content}\n",
    "    \\n\"\"\"\n",
    "        i += 1\n",
    "        \n",
    "    prompt += f\"\"\"\n",
    "    After reading the papers, reconmmend most relevant 2 papers **from the list above**.\n",
    "    You MUST:\n",
    "    - Use the exact Title and URL as given above.\n",
    "    - Do NOT make up new titles or PMIDs.\n",
    "    - Do NOT recommend any paper that was not listed above, no duplicate reconmmendation.\n",
    "    - Only use the information provided above for your recommendation.\n",
    "    \"\"\"\n",
    "\n",
    "    prompt += f\"\"\"\n",
    "    Below is the example of the format you should follow, you must follow this format:\n",
    "    ---\n",
    "    Paper 1:\n",
    "    - Title: \"[Biphasic (ulcer-forming and ulcer-preventing) effect of adrenaline in rats]\"  \n",
    "    - URL: [PubMed Link](https://pubmed.ncbi.nlm.nih.gov/278/)  \n",
    "    - Summary: This study explores the dual effects of adrenaline on gastric ulcers in rats, showing that high doses cause ulcers while lower doses prevent them. The mechanism involves alpha-adrenergic action and tachyphlaxis.  \n",
    "    - Why I recommend this paper: It offers valuable insights into the mechanisms behind ulcer formation and prevention, providing context for understanding natural products' potential therapeutic effects.\n",
    "    ---\n",
    "    \"\"\"\n",
    "    \n",
    "\n",
    "    response = client.generate(model=model, \n",
    "                               prompt=prompt,\n",
    "                               options={\"temperature\": temperature})\n",
    "\n",
    "    def remove_think_section(response_text):\n",
    "        pattern = r\"<think>.*?</think>\" \n",
    "        cleaned_text = re.sub(pattern, \"\", response_text, flags=re.DOTALL) \n",
    "        return cleaned_text.strip()\n",
    "    \n",
    "    cleaned_response = remove_think_section(response.response)\n",
    "    \n",
    "    return cleaned_response"
   ]
  },
  {
   "cell_type": "code",
   "execution_count": 37,
   "id": "91548c51",
   "metadata": {},
   "outputs": [
    {
     "name": "stdout",
     "output_type": "stream",
     "text": [
      "---  \n",
      "Paper 1:  \n",
      "- Title: \"[Biochemical studies on camomile components/III. In vitro studies about the antipeptic activity of (--)-alpha-bisabolol]\"  \n",
      "- URL: [PubMed Link](https://pubmed.ncbi.nlm.nih.gov/21/)  \n",
      "- Summary: This study investigates the antipeptic activity of (--)-alpha-bisabolol, showing that it reduces pepsin activity and has a direct contact-dependent inhibitory effect on proteolytic enzymes.  \n",
      "- Why I recommend this paper: It provides specific evidence on alpha-bisabolol's antipeptic effects, aligning directly with the user's interest in natural products like bisabolol.\n",
      "\n",
      "Paper 2:  \n",
      "- Title: \"[Biphasic (ulcer-forming and ulcer-preventing) effect of adrenaline in rats]\"  \n",
      "- URL: [PubMed Link](https://pubmed.ncbi.nlm.nih.gov/278/)  \n",
      "- Summary: This study highlights adrenaline's dual role, causing ulcers at high doses but preventing them at low doses through alpha-adrenergic mechanisms.  \n",
      "- Why I recommend this paper: It offers valuable insights into biological mechanisms that could be relevant for understanding natural product effects on ulcers, providing context for therapeutic applications.\n",
      "\n",
      "---\n"
     ]
    }
   ],
   "source": [
    "from sentence_transformers import SentenceTransformer, CrossEncoder\n",
    "import torch\n",
    "\n",
    "bi_model = SentenceTransformer(\"all-MiniLM-L6-v2\", device='cuda' if torch.cuda.is_available() else 'cpu')\n",
    "cross_model = CrossEncoder('cross-encoder/ms-marco-MiniLM-L6-v2', device='cuda' if torch.cuda.is_available() else 'cpu')\n",
    "embeddings = torch.load('embeddings.pt', weights_only=False)\n",
    "query = \"What are other studies exploring in vitro antipeptic or anti-ulcer effects of terpenoids or natural products like alpha-bisabolol?\"\n",
    "k = 10\n",
    "\n",
    "rank_papers = Merge_encoder(query, k=k, embeddings=embeddings, bi_model=bi_model, cross_model=cross_model).iloc[:5]\n",
    "\n",
    "print(call_llm(rank_papers, query))"
   ]
  },
  {
   "cell_type": "markdown",
   "id": "40034943",
   "metadata": {},
   "source": [
    "### 8. Final Command Line User Interface"
   ]
  },
  {
   "cell_type": "code",
   "execution_count": 38,
   "id": "fc8404e7",
   "metadata": {},
   "outputs": [],
   "source": [
    "bi_model = SentenceTransformer(\"all-MiniLM-L6-v2\", device='cuda' if torch.cuda.is_available() else 'cpu')\n",
    "cross_model = CrossEncoder('cross-encoder/ms-marco-MiniLM-L6-v2', device='cuda' if torch.cuda.is_available() else 'cpu')\n",
    "embeddings = torch.load('embeddings.pt', weights_only=False)\n",
    "k = 10"
   ]
  },
  {
   "cell_type": "code",
   "execution_count": 40,
   "id": "6197df54",
   "metadata": {},
   "outputs": [
    {
     "name": "stdout",
     "output_type": "stream",
     "text": [
      "Welcome to the Medical Paper Recommendation Assistant!\n",
      "Type your query below (or type 'exit' to quit):\n",
      "\n",
      "Processing your query... (Start Time: 2025-04-17 22:42:11.376493)\n",
      "---\n",
      "Paper 1:\n",
      "- Title: \"[Biochemical studies on camomile components/III. In vitro studies about the antipeptic activity of (--)-alpha-bisabolol (author's transl)]\"  \n",
      "- URL: [PubMed Link](https://pubmed.ncbi.nlm.nih.gov/21/)  \n",
      "- Summary: This study investigates the antipeptic effects of (--)-alpha-Bisabolol, showing it reduces pepsin activity and has a direct contact-dependent inhibitory effect on proteolytic enzymes.  \n",
      "- Why I recommend this paper: It provides specific evidence on alpha-bisabolol's antipeptic activity, aligning directly with the user's interest in natural products like this terpenoid.\n",
      "\n",
      "Paper 3:\n",
      "- Title: \"Effect of SAS (a new 10-N-acylaminophenothiazine) on gastric secretion and ulceration in rats.\"  \n",
      "- URL: [PubMed Link](https://pubmed.ncbi.nlm.nih.gov/4186/)  \n",
      "- Summary: This study highlights the antiulcer and antisecretory effects of SAS, a natural product derivative, in rats. It demonstrates its therapeutic potential for treating ulcers.  \n",
      "- Why I recommend this paper: It directly studies another natural product (SAS) with proven antiulcer activity, making it highly relevant to the user's interest.\n",
      "\n",
      "---\n",
      "\n",
      "End Time: 2025-04-17 22:43:57.341652\n",
      "Execution Time: 0:01:45.965159\n",
      "Goodbye!\n"
     ]
    }
   ],
   "source": [
    "from datetime import datetime\n",
    "\n",
    "def main():\n",
    "    print(\"Welcome to the Medical Paper Recommendation Assistant!\")\n",
    "    print(\"Type your query below (or type 'exit' to quit):\")\n",
    "\n",
    "    while True:\n",
    "        # Get user input\n",
    "        user_query = input(\"\\nEnter your query: \").strip()\n",
    "        if user_query.lower() == \"exit\":\n",
    "            print(\"Goodbye!\")\n",
    "            break\n",
    "\n",
    "        # Start timing\n",
    "        start_time = datetime.now()\n",
    "        print(f\"\\nProcessing your query... (Start Time: {start_time})\")\n",
    "\n",
    "        rank = Merge_encoder(user_query, k=k, embeddings=embeddings, bi_model=bi_model, cross_model=cross_model).iloc[:5]\n",
    "\n",
    "        print(call_llm(rank, user_query))\n",
    "\n",
    "        # End timing\n",
    "        end_time = datetime.now()\n",
    "        print(f\"\\nEnd Time: {end_time}\")\n",
    "        print(f\"Execution Time: {end_time - start_time}\")\n",
    "\n",
    "if __name__ == \"__main__\":\n",
    "    main()"
   ]
  },
  {
   "cell_type": "code",
   "execution_count": null,
   "id": "ded3c9fd",
   "metadata": {},
   "outputs": [],
   "source": []
  }
 ],
 "metadata": {
  "kernelspec": {
   "display_name": "rag_env",
   "language": "python",
   "name": "python3"
  },
  "language_info": {
   "codemirror_mode": {
    "name": "ipython",
    "version": 3
   },
   "file_extension": ".py",
   "mimetype": "text/x-python",
   "name": "python",
   "nbconvert_exporter": "python",
   "pygments_lexer": "ipython3",
   "version": "3.12.9"
  }
 },
 "nbformat": 4,
 "nbformat_minor": 5
}
