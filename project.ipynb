{
 "cells": [
  {
   "cell_type": "markdown",
   "id": "f878af7d",
   "metadata": {},
   "source": [
    "## RAG"
   ]
  },
  {
   "cell_type": "markdown",
   "id": "bb6a3939",
   "metadata": {},
   "source": [
    "### 1. Load the data from HuggingFace"
   ]
  },
  {
   "cell_type": "code",
   "execution_count": null,
   "id": "20f3d6bd",
   "metadata": {},
   "outputs": [],
   "source": [
    "from datasets import load_dataset\n",
    "import pandas as pd\n",
    "\n",
    "# Load the dataset from \n",
    "ds = load_dataset(\"MedRAG/pubmed\")\n",
    "\n",
    "# Get the train data， first 10k samples\n",
    "train_data = ds['train']\n",
    "\n",
    "df = pd.DataFrame(train_data[:10000])\n",
    "\n",
    "# Save the whole train data to a csv file\n",
    "df.to_csv('train.csv', index=False)"
   ]
  },
  {
   "cell_type": "markdown",
   "id": "571325e2",
   "metadata": {},
   "source": [
    "### 2. Data cleaning"
   ]
  },
  {
   "cell_type": "code",
   "execution_count": 54,
   "id": "32bc6fd8",
   "metadata": {},
   "outputs": [],
   "source": [
    "import spacy\n",
    "import pandas as pd\n",
    "from collections import Counter\n",
    "import matplotlib.pyplot as plt\n",
    "nlp = spacy.load('en_core_web_sm')"
   ]
  },
  {
   "cell_type": "code",
   "execution_count": 55,
   "id": "66ed156e",
   "metadata": {},
   "outputs": [],
   "source": [
    "data_raw = pd.read_csv('train.csv')"
   ]
  },
  {
   "cell_type": "code",
   "execution_count": 56,
   "id": "b2d84002",
   "metadata": {},
   "outputs": [
    {
     "data": {
      "text/html": [
       "<div>\n",
       "<style scoped>\n",
       "    .dataframe tbody tr th:only-of-type {\n",
       "        vertical-align: middle;\n",
       "    }\n",
       "\n",
       "    .dataframe tbody tr th {\n",
       "        vertical-align: top;\n",
       "    }\n",
       "\n",
       "    .dataframe thead th {\n",
       "        text-align: right;\n",
       "    }\n",
       "</style>\n",
       "<table border=\"1\" class=\"dataframe\">\n",
       "  <thead>\n",
       "    <tr style=\"text-align: right;\">\n",
       "      <th></th>\n",
       "      <th>id</th>\n",
       "      <th>title</th>\n",
       "      <th>content</th>\n",
       "      <th>contents</th>\n",
       "      <th>PMID</th>\n",
       "    </tr>\n",
       "  </thead>\n",
       "  <tbody>\n",
       "    <tr>\n",
       "      <th>0</th>\n",
       "      <td>pubmed23n0001_0</td>\n",
       "      <td>[Biochemical studies on camomile components/II...</td>\n",
       "      <td>(--)-alpha-Bisabolol has a primary antipeptic ...</td>\n",
       "      <td>[Biochemical studies on camomile components/II...</td>\n",
       "      <td>21</td>\n",
       "    </tr>\n",
       "    <tr>\n",
       "      <th>1</th>\n",
       "      <td>pubmed23n0001_1</td>\n",
       "      <td>[Demonstration of tumor inhibiting properties ...</td>\n",
       "      <td>A report is given on the recent discovery of o...</td>\n",
       "      <td>[Demonstration of tumor inhibiting properties ...</td>\n",
       "      <td>22</td>\n",
       "    </tr>\n",
       "    <tr>\n",
       "      <th>2</th>\n",
       "      <td>pubmed23n0001_2</td>\n",
       "      <td>Effect of etafenone on total and regional myoc...</td>\n",
       "      <td>The distribution of blood flow to the subendoc...</td>\n",
       "      <td>Effect of etafenone on total and regional myoc...</td>\n",
       "      <td>23</td>\n",
       "    </tr>\n",
       "    <tr>\n",
       "      <th>3</th>\n",
       "      <td>pubmed23n0001_3</td>\n",
       "      <td>Influence of a new virostatic compound on the ...</td>\n",
       "      <td>The virostatic compound N,N-diethyl-4-[2-(2-ox...</td>\n",
       "      <td>Influence of a new virostatic compound on the ...</td>\n",
       "      <td>24</td>\n",
       "    </tr>\n",
       "    <tr>\n",
       "      <th>4</th>\n",
       "      <td>pubmed23n0001_4</td>\n",
       "      <td>Pharmacological properties of new neuroleptic ...</td>\n",
       "      <td>RMI 61 140, RMI 61 144 and RMI 61 280 are newl...</td>\n",
       "      <td>Pharmacological properties of new neuroleptic ...</td>\n",
       "      <td>25</td>\n",
       "    </tr>\n",
       "  </tbody>\n",
       "</table>\n",
       "</div>"
      ],
      "text/plain": [
       "                id                                              title  \\\n",
       "0  pubmed23n0001_0  [Biochemical studies on camomile components/II...   \n",
       "1  pubmed23n0001_1  [Demonstration of tumor inhibiting properties ...   \n",
       "2  pubmed23n0001_2  Effect of etafenone on total and regional myoc...   \n",
       "3  pubmed23n0001_3  Influence of a new virostatic compound on the ...   \n",
       "4  pubmed23n0001_4  Pharmacological properties of new neuroleptic ...   \n",
       "\n",
       "                                             content  \\\n",
       "0  (--)-alpha-Bisabolol has a primary antipeptic ...   \n",
       "1  A report is given on the recent discovery of o...   \n",
       "2  The distribution of blood flow to the subendoc...   \n",
       "3  The virostatic compound N,N-diethyl-4-[2-(2-ox...   \n",
       "4  RMI 61 140, RMI 61 144 and RMI 61 280 are newl...   \n",
       "\n",
       "                                            contents  PMID  \n",
       "0  [Biochemical studies on camomile components/II...    21  \n",
       "1  [Demonstration of tumor inhibiting properties ...    22  \n",
       "2  Effect of etafenone on total and regional myoc...    23  \n",
       "3  Influence of a new virostatic compound on the ...    24  \n",
       "4  Pharmacological properties of new neuroleptic ...    25  "
      ]
     },
     "execution_count": 56,
     "metadata": {},
     "output_type": "execute_result"
    }
   ],
   "source": [
    "data_raw.head()"
   ]
  },
  {
   "cell_type": "markdown",
   "id": "1f2ac56c",
   "metadata": {},
   "source": [
    "\"The 'contents' field combines the title and main text, but includes many stop words and irrelevant symbols. We need to remove them to improve retrieval accuracy.\""
   ]
  },
  {
   "cell_type": "code",
   "execution_count": 57,
   "id": "313cd0b2",
   "metadata": {},
   "outputs": [
    {
     "data": {
      "text/plain": [
       "\"[Biochemical studies on camomile components/III. In vitro studies about the antipeptic activity of (--)-alpha-bisabolol (author's transl)]. (--)-alpha-Bisabolol has a primary antipeptic action depending on dosage, which is not caused by an alteration of the pH-value. The proteolytic activity of pepsin is reduced by 50 percent through addition of bisabolol in the ratio of 1/0.5. The antipeptic action of bisabolol only occurs in case of direct contact. In case of a previous contact with the substrate, the inhibiting effect is lost.\""
      ]
     },
     "execution_count": 57,
     "metadata": {},
     "output_type": "execute_result"
    }
   ],
   "source": [
    "data_raw.iloc[0]['contents']"
   ]
  },
  {
   "cell_type": "markdown",
   "id": "3d923a78",
   "metadata": {},
   "source": [
    "The contents length ranges from 22 to 511, with the mean of 161.  "
   ]
  },
  {
   "cell_type": "code",
   "execution_count": 58,
   "id": "c5f64bdb",
   "metadata": {},
   "outputs": [
    {
     "name": "stdout",
     "output_type": "stream",
     "text": [
      "Min Length: 22\n",
      "Max Length: 674\n",
      "Mean Length:161.5436\n"
     ]
    }
   ],
   "source": [
    "print(\"Min Length: \" + data_raw['contents'].apply(lambda x: len(x.split(' '))).min().astype(str))\n",
    "print(\"Max Length: \" + data_raw['contents'].apply(lambda x: len(x.split(' '))).max().astype(str))\n",
    "print(\"Mean Length:\" + data_raw['contents'].apply(lambda x: len(x.split(' '))).mean().astype(str))"
   ]
  },
  {
   "cell_type": "code",
   "execution_count": 59,
   "id": "6b42ee04",
   "metadata": {},
   "outputs": [
    {
     "data": {
      "text/plain": [
       "<Axes: ylabel='Frequency'>"
      ]
     },
     "execution_count": 59,
     "metadata": {},
     "output_type": "execute_result"
    },
    {
     "data": {
      "image/png": "[encoded data removed]",
      "text/plain": [
       "<Figure size 640x480 with 1 Axes>"
      ]
     },
     "metadata": {},
     "output_type": "display_data"
    }
   ],
   "source": [
    "data_raw['contents'].apply(lambda x: len(x.split(' '))).plot(kind='hist', bins=50)"
   ]
  },
  {
   "cell_type": "code",
   "execution_count": 60,
   "id": "4331464b",
   "metadata": {},
   "outputs": [],
   "source": [
    "doc = nlp(data_raw.iloc[0]['contents'])"
   ]
  },
  {
   "cell_type": "markdown",
   "id": "15826b07",
   "metadata": {},
   "source": [
    "Only the Alphanumeric words are important, whitespace, punctuation and stop words should be excluded."
   ]
  },
  {
   "cell_type": "code",
   "execution_count": 61,
   "id": "b477264a",
   "metadata": {},
   "outputs": [
    {
     "data": {
      "text/html": [
       "<div>\n",
       "<style scoped>\n",
       "    .dataframe tbody tr th:only-of-type {\n",
       "        vertical-align: middle;\n",
       "    }\n",
       "\n",
       "    .dataframe tbody tr th {\n",
       "        vertical-align: top;\n",
       "    }\n",
       "\n",
       "    .dataframe thead th {\n",
       "        text-align: right;\n",
       "    }\n",
       "</style>\n",
       "<table border=\"1\" class=\"dataframe\">\n",
       "  <thead>\n",
       "    <tr style=\"text-align: right;\">\n",
       "      <th></th>\n",
       "      <th>Text</th>\n",
       "      <th>Index</th>\n",
       "      <th>Whitespace</th>\n",
       "      <th>Is Alphanumeric?</th>\n",
       "      <th>Is Punctuation?</th>\n",
       "      <th>Is Stop Word?</th>\n",
       "    </tr>\n",
       "  </thead>\n",
       "  <tbody>\n",
       "    <tr>\n",
       "      <th>0</th>\n",
       "      <td>[</td>\n",
       "      <td>0</td>\n",
       "      <td>False</td>\n",
       "      <td>False</td>\n",
       "      <td>True</td>\n",
       "      <td>False</td>\n",
       "    </tr>\n",
       "    <tr>\n",
       "      <th>1</th>\n",
       "      <td>Biochemical</td>\n",
       "      <td>1</td>\n",
       "      <td>False</td>\n",
       "      <td>True</td>\n",
       "      <td>False</td>\n",
       "      <td>False</td>\n",
       "    </tr>\n",
       "    <tr>\n",
       "      <th>2</th>\n",
       "      <td>studies</td>\n",
       "      <td>13</td>\n",
       "      <td>False</td>\n",
       "      <td>True</td>\n",
       "      <td>False</td>\n",
       "      <td>False</td>\n",
       "    </tr>\n",
       "    <tr>\n",
       "      <th>3</th>\n",
       "      <td>on</td>\n",
       "      <td>21</td>\n",
       "      <td>False</td>\n",
       "      <td>True</td>\n",
       "      <td>False</td>\n",
       "      <td>True</td>\n",
       "    </tr>\n",
       "    <tr>\n",
       "      <th>4</th>\n",
       "      <td>camomile</td>\n",
       "      <td>24</td>\n",
       "      <td>False</td>\n",
       "      <td>True</td>\n",
       "      <td>False</td>\n",
       "      <td>False</td>\n",
       "    </tr>\n",
       "    <tr>\n",
       "      <th>...</th>\n",
       "      <td>...</td>\n",
       "      <td>...</td>\n",
       "      <td>...</td>\n",
       "      <td>...</td>\n",
       "      <td>...</td>\n",
       "      <td>...</td>\n",
       "    </tr>\n",
       "    <tr>\n",
       "      <th>98</th>\n",
       "      <td>inhibiting</td>\n",
       "      <td>509</td>\n",
       "      <td>False</td>\n",
       "      <td>True</td>\n",
       "      <td>False</td>\n",
       "      <td>False</td>\n",
       "    </tr>\n",
       "    <tr>\n",
       "      <th>99</th>\n",
       "      <td>effect</td>\n",
       "      <td>520</td>\n",
       "      <td>False</td>\n",
       "      <td>True</td>\n",
       "      <td>False</td>\n",
       "      <td>False</td>\n",
       "    </tr>\n",
       "    <tr>\n",
       "      <th>100</th>\n",
       "      <td>is</td>\n",
       "      <td>527</td>\n",
       "      <td>False</td>\n",
       "      <td>True</td>\n",
       "      <td>False</td>\n",
       "      <td>True</td>\n",
       "    </tr>\n",
       "    <tr>\n",
       "      <th>101</th>\n",
       "      <td>lost</td>\n",
       "      <td>530</td>\n",
       "      <td>False</td>\n",
       "      <td>True</td>\n",
       "      <td>False</td>\n",
       "      <td>False</td>\n",
       "    </tr>\n",
       "    <tr>\n",
       "      <th>102</th>\n",
       "      <td>.</td>\n",
       "      <td>534</td>\n",
       "      <td>False</td>\n",
       "      <td>False</td>\n",
       "      <td>True</td>\n",
       "      <td>False</td>\n",
       "    </tr>\n",
       "  </tbody>\n",
       "</table>\n",
       "<p>103 rows × 6 columns</p>\n",
       "</div>"
      ],
      "text/plain": [
       "            Text  Index  Whitespace  Is Alphanumeric?  Is Punctuation?  \\\n",
       "0              [      0       False             False             True   \n",
       "1    Biochemical      1       False              True            False   \n",
       "2        studies     13       False              True            False   \n",
       "3             on     21       False              True            False   \n",
       "4       camomile     24       False              True            False   \n",
       "..           ...    ...         ...               ...              ...   \n",
       "98    inhibiting    509       False              True            False   \n",
       "99        effect    520       False              True            False   \n",
       "100           is    527       False              True            False   \n",
       "101         lost    530       False              True            False   \n",
       "102            .    534       False             False             True   \n",
       "\n",
       "     Is Stop Word?  \n",
       "0            False  \n",
       "1            False  \n",
       "2            False  \n",
       "3             True  \n",
       "4            False  \n",
       "..             ...  \n",
       "98           False  \n",
       "99           False  \n",
       "100           True  \n",
       "101          False  \n",
       "102          False  \n",
       "\n",
       "[103 rows x 6 columns]"
      ]
     },
     "execution_count": 61,
     "metadata": {},
     "output_type": "execute_result"
    }
   ],
   "source": [
    "def token_to_df(doc=doc):\n",
    "    token_info = []\n",
    "    for token in doc:\n",
    "        token_info.append({\n",
    "            \"Text\": token.text,\n",
    "            \"Index\": token.idx,\n",
    "            \"Whitespace\": token.is_space,\n",
    "            \"Is Alphanumeric?\": token.is_alpha,\n",
    "            \"Is Punctuation?\": token.is_punct,\n",
    "            \"Is Stop Word?\": token.is_stop\n",
    "        })\n",
    "    return pd.DataFrame(token_info)\n",
    "\n",
    "token_to_df(doc)"
   ]
  },
  {
   "cell_type": "markdown",
   "id": "4d6001c6",
   "metadata": {},
   "source": [
    "Lemmatization is necessary to reduce the length of the content while preserving relevant information."
   ]
  },
  {
   "cell_type": "code",
   "execution_count": 62,
   "id": "00be61ee",
   "metadata": {},
   "outputs": [
    {
     "name": "stdout",
     "output_type": "stream",
     "text": [
      "         Biochemical : biochemical\n",
      "             studies : study\n",
      "          components : component\n",
      "                  In : in\n",
      "             studies : study\n",
      "                 has : have\n",
      "           depending : depend\n",
      "                  is : be\n",
      "              caused : cause\n",
      "                  pH : ph\n",
      "                 The : the\n",
      "                  is : be\n",
      "             reduced : reduce\n",
      "                 The : the\n",
      "              occurs : occur\n",
      "                  In : in\n",
      "          inhibiting : inhibit\n",
      "                  is : be\n",
      "                lost : lose\n"
     ]
    }
   ],
   "source": [
    "for token in doc:\n",
    "    if str(token) != str(token.lemma_):\n",
    "        print(f\"{str(token):>20} : {str(token.lemma_)}\")"
   ]
  },
  {
   "cell_type": "code",
   "execution_count": 63,
   "id": "30d75304",
   "metadata": {},
   "outputs": [],
   "source": [
    "def clean_text(text):\n",
    "    complete_doc = nlp(text)\n",
    "    words = [token.text for token in complete_doc \n",
    "             if token.is_alpha and not token.is_stop and not token.is_punct]\n",
    "    return ' '.join(words)\n",
    "\n",
    "def lemmalize_text(text):\n",
    "    complete_doc = nlp(text)\n",
    "    words = [token.lemma_ for token in complete_doc]\n",
    "    return ' '.join(words)"
   ]
  },
  {
   "cell_type": "code",
   "execution_count": 64,
   "id": "3ceacb4a",
   "metadata": {},
   "outputs": [],
   "source": [
    "text = data_raw.iloc[0]['contents']\n",
    "text = clean_text(text)\n",
    "text = lemmalize_text(text)\n",
    "clean_doc = nlp(text)"
   ]
  },
  {
   "cell_type": "markdown",
   "id": "e06fcfec",
   "metadata": {},
   "source": [
    "After cleaning, the first contents length is reduced from 103 to 44."
   ]
  },
  {
   "cell_type": "code",
   "execution_count": 65,
   "id": "97a8eae5",
   "metadata": {},
   "outputs": [
    {
     "data": {
      "text/plain": [
       "44"
      ]
     },
     "execution_count": 65,
     "metadata": {},
     "output_type": "execute_result"
    }
   ],
   "source": [
    "token_to_df(clean_doc).shape[0]"
   ]
  },
  {
   "cell_type": "markdown",
   "id": "6c4e0607",
   "metadata": {},
   "source": [
    "Tokenization"
   ]
  },
  {
   "cell_type": "code",
   "execution_count": 66,
   "id": "90f7e6e3",
   "metadata": {},
   "outputs": [],
   "source": [
    "def tokenized_text(text):\n",
    "    complete_doc = nlp(text)\n",
    "    words = [token.text.lower() for token in complete_doc]\n",
    "    return words"
   ]
  },
  {
   "cell_type": "markdown",
   "id": "9daf4d02",
   "metadata": {},
   "source": [
    "Overall Cleaning Process(Takes 2.5 minutes to run)"
   ]
  },
  {
   "cell_type": "code",
   "execution_count": 67,
   "id": "ea4b509d",
   "metadata": {},
   "outputs": [],
   "source": [
    "def full_preprocessing(text):\n",
    "    text = clean_text(text)\n",
    "    text = lemmalize_text(text)\n",
    "    text = tokenized_text(text)\n",
    "    return ' '.join(text)"
   ]
  },
  {
   "cell_type": "code",
   "execution_count": 68,
   "id": "40401dad",
   "metadata": {},
   "outputs": [],
   "source": [
    "data_clean = data_raw.copy()\n",
    "data_clean['cleaned'] = data_raw['contents'].transform(full_preprocessing)"
   ]
  },
  {
   "cell_type": "markdown",
   "id": "b0a530ac",
   "metadata": {},
   "source": [
    "After cleaning, the contents length ranges from 14 to 267, with the mean of 90. "
   ]
  },
  {
   "cell_type": "code",
   "execution_count": 69,
   "id": "c175a0a9",
   "metadata": {},
   "outputs": [
    {
     "name": "stdout",
     "output_type": "stream",
     "text": [
      "Min Length: 14\n",
      "Max Length: 303\n",
      "Mean Length:90.8452\n"
     ]
    }
   ],
   "source": [
    "print(\"Min Length: \" + data_clean['cleaned'].apply(lambda x: len(x.split(' '))).min().astype(str))\n",
    "print(\"Max Length: \" + data_clean['cleaned'].apply(lambda x: len(x.split(' '))).max().astype(str))\n",
    "print(\"Mean Length:\" + data_clean['cleaned'].apply(lambda x: len(x.split(' '))).mean().astype(str))"
   ]
  },
  {
   "cell_type": "code",
   "execution_count": 70,
   "id": "e538c8e4",
   "metadata": {},
   "outputs": [
    {
     "data": {
      "text/plain": [
       "<Axes: ylabel='Frequency'>"
      ]
     },
     "execution_count": 70,
     "metadata": {},
     "output_type": "execute_result"
    },
    {
     "data": {
      "image/png": "[encoded data removed]",
      "text/plain": [
       "<Figure size 640x480 with 1 Axes>"
      ]
     },
     "metadata": {},
     "output_type": "display_data"
    }
   ],
   "source": [
    "data_clean['cleaned'].apply(lambda x: len(x.split(' '))).plot(kind='hist', bins=50)"
   ]
  },
  {
   "cell_type": "code",
   "execution_count": 71,
   "id": "71667dba",
   "metadata": {},
   "outputs": [],
   "source": [
    "data_clean.to_csv('train_clean.csv', index=False)"
   ]
  },
  {
   "cell_type": "markdown",
   "id": "e7e832ad",
   "metadata": {},
   "source": [
    "### 3. Bi-encoder Implementation"
   ]
  },
  {
   "cell_type": "code",
   "execution_count": 72,
   "id": "14c950f0",
   "metadata": {},
   "outputs": [],
   "source": [
    "from sentence_transformers import SentenceTransformer\n",
    "import pandas as pd\n",
    "import torch\n",
    "import warnings\n",
    "warnings.filterwarnings(\"ignore\")\n",
    "\n",
    "data = pd.read_csv('train_clean.csv')\n",
    "data_str = data['cleaned'].tolist()\n",
    "\n",
    "# Load the SentenceTransformer model\n",
    "model = SentenceTransformer(\"all-MiniLM-L6-v2\", device='cuda' if torch.cuda.is_available() else 'cpu')\n",
    "\n",
    "# Encode the dataset\n",
    "embeddings = model.encode(data_str)\n",
    "\n",
    "torch.save(embeddings, 'embeddings.pt')"
   ]
  },
  {
   "cell_type": "code",
   "execution_count": 73,
   "id": "3661954d",
   "metadata": {},
   "outputs": [
    {
     "name": "stdout",
     "output_type": "stream",
     "text": [
      "1. Index: 8271 | Similarity: 0.4802\n",
      "2. Index: 7085 | Similarity: 0.4798\n",
      "3. Index: 778 | Similarity: 0.4159\n",
      "4. Index: 4693 | Similarity: 0.4152\n",
      "5. Index: 5596 | Similarity: 0.4121\n",
      "6. Index: 932 | Similarity: 0.4101\n",
      "7. Index: 324 | Similarity: 0.4095\n",
      "8. Index: 9125 | Similarity: 0.3984\n",
      "9. Index: 383 | Similarity: 0.3909\n",
      "10. Index: 6590 | Similarity: 0.3895\n"
     ]
    }
   ],
   "source": [
    "embeddings = torch.load('embeddings.pt', weights_only=False)\n",
    "\n",
    "query = \"What is the role of the protein p53 in cancer?\"\n",
    "\n",
    "# Preprocess the query\n",
    "query_new = full_preprocessing(query)\n",
    "\n",
    "# Encode the query\n",
    "query_embedding = model.encode([query_new])\n",
    "\n",
    "# Compute similarities\n",
    "similarities = model.similarity(query_embedding, embeddings)\n",
    "\n",
    "# Get the top `n` most similar papers\n",
    "similarities_tensor = torch.tensor(similarities)\n",
    "top_n_values, top_n_indices = torch.topk(similarities_tensor, 10)\n",
    "top_n_indices = top_n_indices.tolist()[0]\n",
    "\n",
    "scores = top_n_values.squeeze().tolist()\n",
    "indices = top_n_indices\n",
    "\n",
    "for i, (score, idx) in enumerate(zip(scores, indices)):\n",
    "    print(f\"{i+1}. Index: {idx} | Similarity: {score:.4f}\")\n"
   ]
  },
  {
   "cell_type": "code",
   "execution_count": 74,
   "id": "5ae7e0e8",
   "metadata": {},
   "outputs": [
    {
     "data": {
      "text/html": [
       "<div>\n",
       "<style scoped>\n",
       "    .dataframe tbody tr th:only-of-type {\n",
       "        vertical-align: middle;\n",
       "    }\n",
       "\n",
       "    .dataframe tbody tr th {\n",
       "        vertical-align: top;\n",
       "    }\n",
       "\n",
       "    .dataframe thead th {\n",
       "        text-align: right;\n",
       "    }\n",
       "</style>\n",
       "<table border=\"1\" class=\"dataframe\">\n",
       "  <thead>\n",
       "    <tr style=\"text-align: right;\">\n",
       "      <th></th>\n",
       "      <th>id</th>\n",
       "      <th>title</th>\n",
       "      <th>content</th>\n",
       "      <th>contents</th>\n",
       "      <th>PMID</th>\n",
       "      <th>cleaned</th>\n",
       "    </tr>\n",
       "  </thead>\n",
       "  <tbody>\n",
       "    <tr>\n",
       "      <th>8271</th>\n",
       "      <td>pubmed23n0001_8271</td>\n",
       "      <td>Interactions between \"fever\" proteins and norm...</td>\n",
       "      <td>When analyzed by cationic discontinuous electr...</td>\n",
       "      <td>Interactions between \"fever\" proteins and norm...</td>\n",
       "      <td>15721</td>\n",
       "      <td>interaction fever protein normal serum protein...</td>\n",
       "    </tr>\n",
       "    <tr>\n",
       "      <th>7085</th>\n",
       "      <td>pubmed23n0001_7085</td>\n",
       "      <td>Acute-phase reactant protein profiles: an aid ...</td>\n",
       "      <td>The profiles of 4 acute-phase reactant protein...</td>\n",
       "      <td>Acute-phase reactant protein profiles: an aid ...</td>\n",
       "      <td>13805</td>\n",
       "      <td>acute phase reactant protein profile aid monit...</td>\n",
       "    </tr>\n",
       "    <tr>\n",
       "      <th>778</th>\n",
       "      <td>pubmed23n0001_778</td>\n",
       "      <td>A study of tobacco carcinogenesis. XIII. Tumor...</td>\n",
       "      <td>The weakly acidic fraction (WAF) of cigarette ...</td>\n",
       "      <td>A study of tobacco carcinogenesis. XIII. Tumor...</td>\n",
       "      <td>1547</td>\n",
       "      <td>study tobacco carcinogenesis xiii tumor promot...</td>\n",
       "    </tr>\n",
       "    <tr>\n",
       "      <th>4693</th>\n",
       "      <td>pubmed23n0001_4693</td>\n",
       "      <td>Poly(adenosine diphosphate ribose) is covalent...</td>\n",
       "      <td>(ADP-ribose)n residues formed by short-term in...</td>\n",
       "      <td>Poly(adenosine diphosphate ribose) is covalent...</td>\n",
       "      <td>9348</td>\n",
       "      <td>diphosphate ribose covalently link nuclear pro...</td>\n",
       "    </tr>\n",
       "    <tr>\n",
       "      <th>5596</th>\n",
       "      <td>pubmed23n0001_5596</td>\n",
       "      <td>Aryl hydrocarbon hydroxylase and 16alpha-hydro...</td>\n",
       "      <td>Aryl hydrocarbon hydroxylase and 16alpha-hydro...</td>\n",
       "      <td>Aryl hydrocarbon hydroxylase and 16alpha-hydro...</td>\n",
       "      <td>10885</td>\n",
       "      <td>aryl hydrocarbon hydroxylase hydroxylase cultu...</td>\n",
       "    </tr>\n",
       "    <tr>\n",
       "      <th>932</th>\n",
       "      <td>pubmed23n0001_932</td>\n",
       "      <td>Structure and specificity of antibody molecules.</td>\n",
       "      <td>The structure of the Fab' fragment of a human ...</td>\n",
       "      <td>Structure and specificity of antibody molecule...</td>\n",
       "      <td>1816</td>\n",
       "      <td>structure specificity antibody molecule struct...</td>\n",
       "    </tr>\n",
       "    <tr>\n",
       "      <th>324</th>\n",
       "      <td>pubmed23n0001_324</td>\n",
       "      <td>Host-tumor relationship XXXIII. Inhibitor of h...</td>\n",
       "      <td>Inhibiting activity of blood serum was determi...</td>\n",
       "      <td>Host-tumor relationship XXXIII. Inhibitor of h...</td>\n",
       "      <td>630</td>\n",
       "      <td>host tumor relationship xxxiii inhibitor hyalu...</td>\n",
       "    </tr>\n",
       "    <tr>\n",
       "      <th>9125</th>\n",
       "      <td>pubmed23n0001_9125</td>\n",
       "      <td>Blood serum peptidases in patients with ovaria...</td>\n",
       "      <td>The authors observed changes in activity of le...</td>\n",
       "      <td>Blood serum peptidases in patients with ovaria...</td>\n",
       "      <td>17375</td>\n",
       "      <td>blood serum peptidase patient ovarian carcinom...</td>\n",
       "    </tr>\n",
       "    <tr>\n",
       "      <th>383</th>\n",
       "      <td>pubmed23n0001_383</td>\n",
       "      <td>'Picture frame' fibres in a carrier of the tra...</td>\n",
       "      <td>A member of a family which was known to be sus...</td>\n",
       "      <td>'Picture frame' fibres in a carrier of the tra...</td>\n",
       "      <td>795</td>\n",
       "      <td>picture frame fibre carrier trait malignant hy...</td>\n",
       "    </tr>\n",
       "    <tr>\n",
       "      <th>6590</th>\n",
       "      <td>pubmed23n0001_6590</td>\n",
       "      <td>Dissociation of 5-fluorouracil uptake from int...</td>\n",
       "      <td>The influence of intracellular pH (pHi) upon 5...</td>\n",
       "      <td>Dissociation of 5-fluorouracil uptake from int...</td>\n",
       "      <td>12865</td>\n",
       "      <td>dissociation fluorouracil uptake intracellular...</td>\n",
       "    </tr>\n",
       "  </tbody>\n",
       "</table>\n",
       "</div>"
      ],
      "text/plain": [
       "                      id                                              title  \\\n",
       "8271  pubmed23n0001_8271  Interactions between \"fever\" proteins and norm...   \n",
       "7085  pubmed23n0001_7085  Acute-phase reactant protein profiles: an aid ...   \n",
       "778    pubmed23n0001_778  A study of tobacco carcinogenesis. XIII. Tumor...   \n",
       "4693  pubmed23n0001_4693  Poly(adenosine diphosphate ribose) is covalent...   \n",
       "5596  pubmed23n0001_5596  Aryl hydrocarbon hydroxylase and 16alpha-hydro...   \n",
       "932    pubmed23n0001_932   Structure and specificity of antibody molecules.   \n",
       "324    pubmed23n0001_324  Host-tumor relationship XXXIII. Inhibitor of h...   \n",
       "9125  pubmed23n0001_9125  Blood serum peptidases in patients with ovaria...   \n",
       "383    pubmed23n0001_383  'Picture frame' fibres in a carrier of the tra...   \n",
       "6590  pubmed23n0001_6590  Dissociation of 5-fluorouracil uptake from int...   \n",
       "\n",
       "                                                content  \\\n",
       "8271  When analyzed by cationic discontinuous electr...   \n",
       "7085  The profiles of 4 acute-phase reactant protein...   \n",
       "778   The weakly acidic fraction (WAF) of cigarette ...   \n",
       "4693  (ADP-ribose)n residues formed by short-term in...   \n",
       "5596  Aryl hydrocarbon hydroxylase and 16alpha-hydro...   \n",
       "932   The structure of the Fab' fragment of a human ...   \n",
       "324   Inhibiting activity of blood serum was determi...   \n",
       "9125  The authors observed changes in activity of le...   \n",
       "383   A member of a family which was known to be sus...   \n",
       "6590  The influence of intracellular pH (pHi) upon 5...   \n",
       "\n",
       "                                               contents   PMID  \\\n",
       "8271  Interactions between \"fever\" proteins and norm...  15721   \n",
       "7085  Acute-phase reactant protein profiles: an aid ...  13805   \n",
       "778   A study of tobacco carcinogenesis. XIII. Tumor...   1547   \n",
       "4693  Poly(adenosine diphosphate ribose) is covalent...   9348   \n",
       "5596  Aryl hydrocarbon hydroxylase and 16alpha-hydro...  10885   \n",
       "932   Structure and specificity of antibody molecule...   1816   \n",
       "324   Host-tumor relationship XXXIII. Inhibitor of h...    630   \n",
       "9125  Blood serum peptidases in patients with ovaria...  17375   \n",
       "383   'Picture frame' fibres in a carrier of the tra...    795   \n",
       "6590  Dissociation of 5-fluorouracil uptake from int...  12865   \n",
       "\n",
       "                                                cleaned  \n",
       "8271  interaction fever protein normal serum protein...  \n",
       "7085  acute phase reactant protein profile aid monit...  \n",
       "778   study tobacco carcinogenesis xiii tumor promot...  \n",
       "4693  diphosphate ribose covalently link nuclear pro...  \n",
       "5596  aryl hydrocarbon hydroxylase hydroxylase cultu...  \n",
       "932   structure specificity antibody molecule struct...  \n",
       "324   host tumor relationship xxxiii inhibitor hyalu...  \n",
       "9125  blood serum peptidase patient ovarian carcinom...  \n",
       "383   picture frame fibre carrier trait malignant hy...  \n",
       "6590  dissociation fluorouracil uptake intracellular...  "
      ]
     },
     "execution_count": 74,
     "metadata": {},
     "output_type": "execute_result"
    }
   ],
   "source": [
    "# Load the original dataset to retrieve paper details\n",
    "top_k_papers = data.iloc[top_n_indices]\n",
    "\n",
    "top_k_papers"
   ]
  },
  {
   "cell_type": "code",
   "execution_count": null,
   "id": "d9a8544a",
   "metadata": {},
   "outputs": [],
   "source": [
    "def BI_encoder(query, k=10, embeddings=embeddings, model=model):\n",
    "\n",
    "    # Preprocess the query\n",
    "    query_new = full_preprocessing(query)\n",
    "\n",
    "    # Encode the query\n",
    "    query_embedding = model.encode([query_new])\n",
    "\n",
    "    # Compute similarities\n",
    "    similarities = model.similarity(query_embedding, embeddings)\n",
    "\n",
    "    # Get the top `n` most similar papers\n",
    "    similarities_tensor = torch.tensor(similarities)\n",
    "    top_n_values, top_n_indices = torch.topk(similarities_tensor, k)\n",
    "    top_n_indices = top_n_indices.tolist()[0]\n",
    "\n",
    "    top_k_papers = data.iloc[top_n_indices]\n",
    "\n",
    "    return top_k_papers"
   ]
  },
  {
   "cell_type": "code",
   "execution_count": 81,
   "id": "399ee857",
   "metadata": {},
   "outputs": [
    {
     "name": "stdout",
     "output_type": "stream",
     "text": [
      "Average Time taken: 0.0199 seconds\n"
     ]
    }
   ],
   "source": [
    "import time\n",
    "\n",
    "def BI_time_test():\n",
    "    total_time = 0\n",
    "    query = \"What are other studies exploring in vitro antipeptic or anti-ulcer effects of terpenoids or natural products like alpha-bisabolol?\"\n",
    "    embeddings = torch.load('embeddings.pt', weights_only=False)\n",
    "    k = 10\n",
    "    model = SentenceTransformer(\"all-MiniLM-L6-v2\", device='cuda' if torch.cuda.is_available() else 'cpu')\n",
    "    for i in range(10):\n",
    "        start_time = time.time()\n",
    "        result = BI_encoder(query, k=k, embeddings=embeddings, model=model)\n",
    "        end_time = time.time()\n",
    "        elapsed_time = end_time - start_time\n",
    "        total_time += elapsed_time\n",
    "    avg_time = total_time / 10\n",
    "    print(f\"Average Time taken: {avg_time:.4f} seconds\")\n",
    "\n",
    "BI_time_test()"
   ]
  },
  {
   "cell_type": "markdown",
   "id": "18bf49c9",
   "metadata": {},
   "source": [
    "### 4. Cross encoder Implementation"
   ]
  },
  {
   "cell_type": "code",
   "execution_count": 83,
   "id": "550a17c5",
   "metadata": {},
   "outputs": [],
   "source": [
    "from sentence_transformers import CrossEncoder\n",
    "import pandas as pd\n",
    "import numpy as np\n",
    "import torch\n",
    "import warnings\n",
    "warnings.filterwarnings(\"ignore\")\n",
    "\n",
    "def CROSS_encoder(query, k=10, dataset=None, model=None):\n",
    "\n",
    "    data_list = dataset['cleaned'].tolist()\n",
    "\n",
    "    # Load the CrossEncoder model\n",
    "    cross_encoder = CrossEncoder('cross-encoder/ms-marco-MiniLM-L6-v2', device='cuda' if torch.cuda.is_available() else 'cpu')\n",
    "\n",
    "    query_new = full_preprocessing(query)\n",
    "\n",
    "    # Create query-document pairs\n",
    "    cross_input = [[query_new, doc] for doc in data_list]\n",
    "\n",
    "    # Predict similarity scores\n",
    "    scores = cross_encoder.predict(cross_input)\n",
    "\n",
    "    # Get the top-k highest scoring documents\n",
    "    top_k_indices = np.argsort(scores)[-k:][::-1]\n",
    "    top_k_scores = [scores[i] for i in top_k_indices]\n",
    "\n",
    "    # Retrieve corresponding rows from the dataset\n",
    "    top_k_papers = dataset.iloc[top_k_indices].copy()\n",
    "    top_k_papers['cross_similarity'] = top_k_scores\n",
    "\n",
    "    return top_k_papers"
   ]
  },
  {
   "cell_type": "code",
   "execution_count": 84,
   "id": "61cbf3ea",
   "metadata": {},
   "outputs": [
    {
     "name": "stdout",
     "output_type": "stream",
     "text": [
      "Average Time taken: 22.2212 seconds\n"
     ]
    }
   ],
   "source": [
    "import time\n",
    "\n",
    "def CROSS_time_test():\n",
    "    total_time = 0\n",
    "    query = \"What are other studies exploring in vitro antipeptic or anti-ulcer effects of terpenoids or natural products like alpha-bisabolol?\"\n",
    "    dataset = pd.read_csv('train_clean.csv')\n",
    "    k = 10\n",
    "    model = SentenceTransformer(\"all-MiniLM-L6-v2\", device='cuda' if torch.cuda.is_available() else 'cpu')\n",
    "    for i in range(10):\n",
    "        start_time = time.time()\n",
    "        result = CROSS_encoder(query, k=k, dataset=dataset, model=model)\n",
    "        end_time = time.time()\n",
    "        elapsed_time = end_time - start_time\n",
    "        total_time += elapsed_time\n",
    "    avg_time = total_time / 10\n",
    "    print(f\"Average Time taken: {avg_time:.4f} seconds\")\n",
    "\n",
    "CROSS_time_test()"
   ]
  },
  {
   "cell_type": "code",
   "execution_count": null,
   "id": "41f7585a",
   "metadata": {},
   "outputs": [],
   "source": []
  }
 ],
 "metadata": {
  "kernelspec": {
   "display_name": "rag_env",
   "language": "python",
   "name": "python3"
  },
  "language_info": {
   "codemirror_mode": {
    "name": "ipython",
    "version": 3
   },
   "file_extension": ".py",
   "mimetype": "text/x-python",
   "name": "python",
   "nbconvert_exporter": "python",
   "pygments_lexer": "ipython3",
   "version": "3.12.9"
  }
 },
 "nbformat": 4,
 "nbformat_minor": 5
}
